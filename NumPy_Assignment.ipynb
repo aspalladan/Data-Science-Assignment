{
 "cells": [
  {
   "cell_type": "markdown",
   "metadata": {},
   "source": [
    "# ArewaDS Assignment: 100 numpy exercises"
   ]
  },
  {
   "cell_type": "markdown",
   "metadata": {},
   "source": [
    "#### Q1. Import the numpy package under the name np"
   ]
  },
  {
   "cell_type": "code",
   "execution_count": 1,
   "metadata": {},
   "outputs": [],
   "source": [
    "import numpy as np"
   ]
  },
  {
   "cell_type": "markdown",
   "metadata": {},
   "source": [
    "### Q2. Print the numpy version and the configuration."
   ]
  },
  {
   "cell_type": "code",
   "execution_count": 2,
   "metadata": {},
   "outputs": [
    {
     "name": "stdout",
     "output_type": "stream",
     "text": [
      "NumPy v1.26.0\n",
      "{\n",
      "  \"Compilers\": {\n",
      "    \"c\": {\n",
      "      \"name\": \"gcc\",\n",
      "      \"linker\": \"ld.bfd\",\n",
      "      \"version\": \"11.2.0\",\n",
      "      \"commands\": \"/croot/numpy_and_numpy_base_1695830428084/_build_env/bin/x86_64-conda-linux-gnu-cc\"\n",
      "    },\n",
      "    \"cython\": {\n",
      "      \"name\": \"cython\",\n",
      "      \"linker\": \"cython\",\n",
      "      \"version\": \"3.0.0\",\n",
      "      \"commands\": \"cython\"\n",
      "    },\n",
      "    \"c++\": {\n",
      "      \"name\": \"gcc\",\n",
      "      \"linker\": \"ld.bfd\",\n",
      "      \"version\": \"11.2.0\",\n",
      "      \"commands\": \"/croot/numpy_and_numpy_base_1695830428084/_build_env/bin/x86_64-conda-linux-gnu-c++\"\n",
      "    }\n",
      "  },\n",
      "  \"Machine Information\": {\n",
      "    \"host\": {\n",
      "      \"cpu\": \"x86_64\",\n",
      "      \"family\": \"x86_64\",\n",
      "      \"endian\": \"little\",\n",
      "      \"system\": \"linux\"\n",
      "    },\n",
      "    \"build\": {\n",
      "      \"cpu\": \"x86_64\",\n",
      "      \"family\": \"x86_64\",\n",
      "      \"endian\": \"little\",\n",
      "      \"system\": \"linux\"\n",
      "    }\n",
      "  },\n",
      "  \"Build Dependencies\": {\n",
      "    \"blas\": {\n",
      "      \"name\": \"mkl-sdl\",\n",
      "      \"found\": true,\n",
      "      \"version\": \"2023.1\",\n",
      "      \"detection method\": \"pkgconfig\",\n",
      "      \"include directory\": \"/home/ultimate/miniconda3/envs/datascience/include\",\n",
      "      \"lib directory\": \"/home/ultimate/miniconda3/envs/datascience/lib\",\n",
      "      \"pc file directory\": \"/home/ultimate/miniconda3/envs/datascience/lib/pkgconfig\"\n",
      "    },\n",
      "    \"lapack\": {\n",
      "      \"name\": \"mkl-sdl\",\n",
      "      \"found\": true,\n",
      "      \"version\": \"2023.1\",\n",
      "      \"detection method\": \"pkgconfig\",\n",
      "      \"include directory\": \"/home/ultimate/miniconda3/envs/datascience/include\",\n",
      "      \"lib directory\": \"/home/ultimate/miniconda3/envs/datascience/lib\",\n",
      "      \"pc file directory\": \"/home/ultimate/miniconda3/envs/datascience/lib/pkgconfig\"\n",
      "    }\n",
      "  },\n",
      "  \"Python Information\": {\n",
      "    \"path\": \"/home/ultimate/miniconda3/envs/datascience/bin/python\",\n",
      "    \"version\": \"3.9\"\n",
      "  },\n",
      "  \"SIMD Extensions\": {\n",
      "    \"baseline\": [\n",
      "      \"SSE\",\n",
      "      \"SSE2\",\n",
      "      \"SSE3\"\n",
      "    ],\n",
      "    \"found\": [\n",
      "      \"SSSE3\",\n",
      "      \"SSE41\",\n",
      "      \"POPCNT\",\n",
      "      \"SSE42\",\n",
      "      \"AVX\",\n",
      "      \"F16C\",\n",
      "      \"FMA3\",\n",
      "      \"AVX2\"\n",
      "    ],\n",
      "    \"not found\": [\n",
      "      \"AVX512F\",\n",
      "      \"AVX512CD\",\n",
      "      \"AVX512_KNL\",\n",
      "      \"AVX512_KNM\",\n",
      "      \"AVX512_SKX\",\n",
      "      \"AVX512_CLX\",\n",
      "      \"AVX512_CNL\",\n",
      "      \"AVX512_ICL\"\n",
      "    ]\n",
      "  }\n",
      "}\n"
     ]
    },
    {
     "name": "stderr",
     "output_type": "stream",
     "text": [
      "/home/ultimate/miniconda3/envs/datascience/lib/python3.9/site-packages/numpy/__config__.py:149: UserWarning: Install `pyyaml` for better output\n",
      "  warnings.warn(\"Install `pyyaml` for better output\", stacklevel=1)\n"
     ]
    }
   ],
   "source": [
    "print(\"NumPy v\"+ np.__version__)\n",
    "np.show_config()"
   ]
  },
  {
   "cell_type": "markdown",
   "metadata": {},
   "source": [
    "### Q3. Create a null vector of size 10"
   ]
  },
  {
   "cell_type": "code",
   "execution_count": 3,
   "metadata": {},
   "outputs": [
    {
     "name": "stdout",
     "output_type": "stream",
     "text": [
      "[0. 0. 0. 0. 0. 0. 0. 0. 0. 0.]\n"
     ]
    }
   ],
   "source": [
    "null_vector = np.zeros(10)\n",
    "print(null_vector)"
   ]
  },
  {
   "cell_type": "markdown",
   "metadata": {},
   "source": [
    "### Q4. How to find the memory size of any array"
   ]
  },
  {
   "cell_type": "code",
   "execution_count": 2,
   "metadata": {},
   "outputs": [
    {
     "name": "stdout",
     "output_type": "stream",
     "text": [
      "240 bytes\n"
     ]
    }
   ],
   "source": [
    "array = np.zeros((3, 10))\n",
    "print(array.size * array.itemsize, 'bytes')"
   ]
  },
  {
   "cell_type": "markdown",
   "metadata": {},
   "source": [
    "### Q5. How to get the documentation of the numpy add function from the command line?\n"
   ]
  },
  {
   "cell_type": "markdown",
   "metadata": {},
   "source": [
    "> python -c \"import numpy; numpy.info(numpy.add)\""
   ]
  },
  {
   "cell_type": "code",
   "execution_count": 5,
   "metadata": {},
   "outputs": [
    {
     "name": "stdout",
     "output_type": "stream",
     "text": [
      "add(x1, x2, /, out=None, *, where=True, casting='same_kind', order='K', dtype=None, subok=True[, signature, extobj])\n",
      "\n",
      "Add arguments element-wise.\n",
      "\n",
      "Parameters\n",
      "----------\n",
      "x1, x2 : array_like\n",
      "    The arrays to be added.\n",
      "    If ``x1.shape != x2.shape``, they must be broadcastable to a common\n",
      "    shape (which becomes the shape of the output).\n",
      "out : ndarray, None, or tuple of ndarray and None, optional\n",
      "    A location into which the result is stored. If provided, it must have\n",
      "    a shape that the inputs broadcast to. If not provided or None,\n",
      "    a freshly-allocated array is returned. A tuple (possible only as a\n",
      "    keyword argument) must have length equal to the number of outputs.\n",
      "where : array_like, optional\n",
      "    This condition is broadcast over the input. At locations where the\n",
      "    condition is True, the `out` array will be set to the ufunc result.\n",
      "    Elsewhere, the `out` array will retain its original value.\n",
      "    Note that if an uninitialized `out` array is created via the default\n",
      "    ``out=None``, locations within it where the condition is False will\n",
      "    remain uninitialized.\n",
      "**kwargs\n",
      "    For other keyword-only arguments, see the\n",
      "    :ref:`ufunc docs <ufuncs.kwargs>`.\n",
      "\n",
      "Returns\n",
      "-------\n",
      "add : ndarray or scalar\n",
      "    The sum of `x1` and `x2`, element-wise.\n",
      "    This is a scalar if both `x1` and `x2` are scalars.\n",
      "\n",
      "Notes\n",
      "-----\n",
      "Equivalent to `x1` + `x2` in terms of array broadcasting.\n",
      "\n",
      "Examples\n",
      "--------\n",
      ">>> np.add(1.0, 4.0)\n",
      "5.0\n",
      ">>> x1 = np.arange(9.0).reshape((3, 3))\n",
      ">>> x2 = np.arange(3.0)\n",
      ">>> np.add(x1, x2)\n",
      "array([[  0.,   2.,   4.],\n",
      "       [  3.,   5.,   7.],\n",
      "       [  6.,   8.,  10.]])\n",
      "\n",
      "The ``+`` operator can be used as a shorthand for ``np.add`` on ndarrays.\n",
      "\n",
      ">>> x1 = np.arange(9.0).reshape((3, 3))\n",
      ">>> x2 = np.arange(3.0)\n",
      ">>> x1 + x2\n",
      "array([[ 0.,  2.,  4.],\n",
      "       [ 3.,  5.,  7.],\n",
      "       [ 6.,  8., 10.]])\n"
     ]
    }
   ],
   "source": [
    "!python -c \"import numpy; numpy.info(numpy.add)\""
   ]
  },
  {
   "cell_type": "markdown",
   "metadata": {},
   "source": [
    "### Q6. Create a null vector of size 10 but the fifth value which is 1"
   ]
  },
  {
   "cell_type": "code",
   "execution_count": 6,
   "metadata": {},
   "outputs": [
    {
     "name": "stdout",
     "output_type": "stream",
     "text": [
      "[0. 0. 0. 0. 1. 0. 0. 0. 0. 0.]\n"
     ]
    }
   ],
   "source": [
    "null_vector = np.zeros(10)\n",
    "null_vector[4] = 1\n",
    "print(null_vector)"
   ]
  },
  {
   "cell_type": "markdown",
   "metadata": {},
   "source": [
    "### Q7. Create a vector with values ranging from 10 to 49"
   ]
  },
  {
   "cell_type": "code",
   "execution_count": 4,
   "metadata": {},
   "outputs": [
    {
     "name": "stdout",
     "output_type": "stream",
     "text": [
      "[10 11 12 13 14 15 16 17 18 19 20 21 22 23 24 25 26 27 28 29 30 31 32 33\n",
      " 34 35 36 37 38 39 40 41 42 43 44 45 46 47 48 49]\n"
     ]
    }
   ],
   "source": [
    "vector = np.arange(10, 50)\n",
    "print(vector)"
   ]
  },
  {
   "cell_type": "markdown",
   "metadata": {},
   "source": [
    "### Q8. Reverse a vector (first element becomes last)"
   ]
  },
  {
   "cell_type": "code",
   "execution_count": 5,
   "metadata": {},
   "outputs": [
    {
     "name": "stdout",
     "output_type": "stream",
     "text": [
      "[49 48 47 46 45 44 43 42 41 40 39 38 37 36 35 34 33 32 31 30 29 28 27 26\n",
      " 25 24 23 22 21 20 19 18 17 16 15 14 13 12 11 10]\n"
     ]
    }
   ],
   "source": [
    "reversed_vector = np.flip(vector)\n",
    "print(reversed_vector)"
   ]
  },
  {
   "cell_type": "markdown",
   "metadata": {},
   "source": [
    "### Q9. Create a 3x3 matrix with values ranging from 0 to 8"
   ]
  },
  {
   "cell_type": "code",
   "execution_count": 9,
   "metadata": {},
   "outputs": [
    {
     "name": "stdout",
     "output_type": "stream",
     "text": [
      "[[0 1 2]\n",
      " [3 4 5]\n",
      " [6 7 8]]\n"
     ]
    }
   ],
   "source": [
    "matrix = np.arange(9).reshape(3, 3)\n",
    "print(matrix)"
   ]
  },
  {
   "cell_type": "markdown",
   "metadata": {},
   "source": [
    "### Q10. Find indices of non-zero elements from [4, 5, 0, 7, 0, 0]"
   ]
  },
  {
   "cell_type": "code",
   "execution_count": 6,
   "metadata": {},
   "outputs": [
    {
     "name": "stdout",
     "output_type": "stream",
     "text": [
      "(array([0, 1, 4], dtype=int64),)\n"
     ]
    }
   ],
   "source": [
    "non_zero_indices = np.nonzero([1,2,0,0,4,0])\n",
    "print(non_zero_indices)"
   ]
  },
  {
   "cell_type": "markdown",
   "metadata": {},
   "source": [
    "### Q11. Create a 3x3 identity matrix"
   ]
  },
  {
   "cell_type": "code",
   "execution_count": 7,
   "metadata": {},
   "outputs": [
    {
     "name": "stdout",
     "output_type": "stream",
     "text": [
      "[[1. 0. 0.]\n",
      " [0. 1. 0.]\n",
      " [0. 0. 1.]]\n"
     ]
    }
   ],
   "source": [
    "identity_matrix = np.eye(3)\n",
    "print(identity_matrix)"
   ]
  },
  {
   "cell_type": "markdown",
   "metadata": {},
   "source": [
    "### Q12. Create a 3x3x3 array with random values"
   ]
  },
  {
   "cell_type": "code",
   "execution_count": 9,
   "metadata": {},
   "outputs": [
    {
     "name": "stdout",
     "output_type": "stream",
     "text": [
      "[[[0.88136389 0.59963379 0.9274683 ]\n",
      "  [0.98390721 0.41421631 0.93975203]\n",
      "  [0.14948851 0.50013977 0.11897379]]\n",
      "\n",
      " [[0.72376736 0.3825147  0.87696647]\n",
      "  [0.91485773 0.8456692  0.87195306]\n",
      "  [0.30460011 0.08327617 0.69585267]]\n",
      "\n",
      " [[0.02759935 0.4417529  0.97577309]\n",
      "  [0.29461802 0.24871832 0.16958587]\n",
      "  [0.19927632 0.7931888  0.84310331]]]\n"
     ]
    }
   ],
   "source": [
    "random_array = np.random.random((3, 3, 3))\n",
    "print(random_array)"
   ]
  },
  {
   "cell_type": "markdown",
   "metadata": {},
   "source": [
    "### Q13. Create a 10x10 array with random values and find the minimum and maximum values"
   ]
  },
  {
   "cell_type": "code",
   "execution_count": 10,
   "metadata": {},
   "outputs": [
    {
     "name": "stdout",
     "output_type": "stream",
     "text": [
      "10x10 array random values: \n",
      "[[0.18215269 0.76339154 0.62020201 0.08211677 0.87695341 0.56770432\n",
      "  0.61822182 0.64121666 0.45176438 0.87482322]\n",
      " [0.28488923 0.43902259 0.33451709 0.40364379 0.03889278 0.07706236\n",
      "  0.30185885 0.63161738 0.04908742 0.55141321]\n",
      " [0.70870663 0.35153166 0.71401349 0.07712868 0.52252731 0.30976441\n",
      "  0.81631907 0.08023918 0.3770705  0.62152911]\n",
      " [0.33997067 0.04300722 0.64250614 0.63253415 0.3947701  0.76823013\n",
      "  0.1871818  0.20131303 0.76883217 0.96717568]\n",
      " [0.03009976 0.91416963 0.37209239 0.71923589 0.97688124 0.9315795\n",
      "  0.30250555 0.06147453 0.87701548 0.36603773]\n",
      " [0.44265156 0.04685928 0.1872969  0.29355443 0.54022622 0.24303254\n",
      "  0.77320636 0.88568555 0.22567274 0.30179952]\n",
      " [0.68959631 0.02137651 0.90645908 0.07566445 0.0606759  0.69192484\n",
      "  0.77874953 0.46122365 0.78500273 0.53266376]\n",
      " [0.7774819  0.06048261 0.70309044 0.25995603 0.3080281  0.57371567\n",
      "  0.86731693 0.07857477 0.22745334 0.43154789]\n",
      " [0.99376862 0.67408901 0.01968993 0.95490472 0.41232385 0.37766455\n",
      "  0.77980972 0.34653446 0.19312189 0.94485254]\n",
      " [0.90286007 0.30649691 0.21446943 0.47304025 0.35160159 0.62342579\n",
      "  0.12915604 0.14892839 0.17996931 0.82382282]]\n",
      "\n",
      "min: 0.01968992529592506\n",
      "max: 0.9937686233078443\n"
     ]
    }
   ],
   "source": [
    "random_v = np.random.random((10, 10))\n",
    "min_value = random_v.min()\n",
    "max_value = random_v.max()\n",
    "print(f\"10x10 array random values: \\n{random_v}\")\n",
    "print(f\"\\nmin: {min_value}\\nmax: {max_value}\")"
   ]
  },
  {
   "cell_type": "markdown",
   "metadata": {},
   "source": [
    "### Q14. Create a random vector of size 30 and find the mean value"
   ]
  },
  {
   "cell_type": "code",
   "execution_count": 11,
   "metadata": {},
   "outputs": [
    {
     "name": "stdout",
     "output_type": "stream",
     "text": [
      "0.5773608058716266\n"
     ]
    }
   ],
   "source": [
    "random_vector = np.random.random(30)\n",
    "mean_value = random_vector.mean()\n",
    "print(mean_value)"
   ]
  },
  {
   "cell_type": "markdown",
   "metadata": {},
   "source": [
    "### Q15. Create a 2d array with 1 on the border and 0 inside"
   ]
  },
  {
   "cell_type": "code",
   "execution_count": 13,
   "metadata": {},
   "outputs": [
    {
     "name": "stdout",
     "output_type": "stream",
     "text": [
      "[[1. 1. 1. 1. 1. 1.]\n",
      " [1. 0. 0. 0. 0. 1.]\n",
      " [1. 0. 0. 0. 0. 1.]\n",
      " [1. 0. 0. 0. 0. 1.]\n",
      " [1. 0. 0. 0. 0. 1.]\n",
      " [1. 1. 1. 1. 1. 1.]]\n"
     ]
    }
   ],
   "source": [
    "border_array = np.ones((6, 6))\n",
    "border_array[1:-1, 1:-1] = 0\n",
    "print(border_array)"
   ]
  },
  {
   "cell_type": "markdown",
   "metadata": {},
   "source": [
    "### Q16. How to add a border (filled with 0's) around an existing array?"
   ]
  },
  {
   "cell_type": "code",
   "execution_count": 14,
   "metadata": {},
   "outputs": [
    {
     "name": "stdout",
     "output_type": "stream",
     "text": [
      "[[0. 0. 0. 0. 0. 0. 0.]\n",
      " [0. 1. 1. 1. 1. 1. 0.]\n",
      " [0. 1. 1. 1. 1. 1. 0.]\n",
      " [0. 1. 1. 1. 1. 1. 0.]\n",
      " [0. 1. 1. 1. 1. 1. 0.]\n",
      " [0. 1. 1. 1. 1. 1. 0.]\n",
      " [0. 0. 0. 0. 0. 0. 0.]]\n"
     ]
    }
   ],
   "source": [
    "existing_array = np.ones((5, 5))\n",
    "new_array = np.pad(existing_array, pad_width=1, mode='constant', constant_values=0)\n",
    "print(new_array)"
   ]
  },
  {
   "cell_type": "markdown",
   "metadata": {},
   "source": [
    "### Q17. What is the result of the following expression?"
   ]
  },
  {
   "cell_type": "code",
   "execution_count": 15,
   "metadata": {},
   "outputs": [
    {
     "name": "stdout",
     "output_type": "stream",
     "text": [
      "nan\n",
      "False\n",
      "False\n",
      "nan\n",
      "True\n",
      "False\n"
     ]
    }
   ],
   "source": [
    "print(0 * np.nan)  \n",
    "print(np.nan == np.nan)\n",
    "print(np.inf > np.nan)\n",
    "print(np.nan - np.nan)\n",
    "print(np.nan in set([np.nan])) \n",
    "print(0.3 == 3 * 0.1)"
   ]
  },
  {
   "cell_type": "markdown",
   "metadata": {},
   "source": [
    "### Q18. Create a 5x5 matrix with values 1,2,3,4 just below the diagonal"
   ]
  },
  {
   "cell_type": "code",
   "execution_count": 16,
   "metadata": {},
   "outputs": [
    {
     "name": "stdout",
     "output_type": "stream",
     "text": [
      "[[0 0 0 0 0]\n",
      " [1 0 0 0 0]\n",
      " [0 2 0 0 0]\n",
      " [0 0 3 0 0]\n",
      " [0 0 0 4 0]]\n"
     ]
    }
   ],
   "source": [
    "diagonal_matrix = np.diag(1 + np.arange(4), k=-1)\n",
    "print(diagonal_matrix)"
   ]
  },
  {
   "cell_type": "markdown",
   "metadata": {},
   "source": [
    "### Q19. Create an 8x8 matrix and fill it with a checkerboard pattern"
   ]
  },
  {
   "cell_type": "code",
   "execution_count": 17,
   "metadata": {},
   "outputs": [
    {
     "name": "stdout",
     "output_type": "stream",
     "text": [
      "[[0 1 0 1 0 1 0 1]\n",
      " [1 0 1 0 1 0 1 0]\n",
      " [0 1 0 1 0 1 0 1]\n",
      " [1 0 1 0 1 0 1 0]\n",
      " [0 1 0 1 0 1 0 1]\n",
      " [1 0 1 0 1 0 1 0]\n",
      " [0 1 0 1 0 1 0 1]\n",
      " [1 0 1 0 1 0 1 0]]\n"
     ]
    }
   ],
   "source": [
    "checkerboard_matrix = np.zeros((8, 8), dtype=int)\n",
    "checkerboard_matrix[1::2, ::2] = 1\n",
    "checkerboard_matrix[::2, 1::2] = 1\n",
    "print(checkerboard_matrix)"
   ]
  },
  {
   "cell_type": "markdown",
   "metadata": {},
   "source": [
    "### Q20. Consider a (6,7,8) shape array, what is the index (x,y,z) of the 100th element?"
   ]
  },
  {
   "cell_type": "code",
   "execution_count": 18,
   "metadata": {},
   "outputs": [
    {
     "data": {
      "text/plain": [
       "(1, 5, 4)"
      ]
     },
     "execution_count": 18,
     "metadata": {},
     "output_type": "execute_result"
    }
   ],
   "source": [
    "shape = (6,7,8)\n",
    "index_term = 100\n",
    "\n",
    "# creating an empty array with the shape given\n",
    "arr = np.empty(shape)\n",
    "\n",
    "# finding the (x,y,z) of the 100th element\n",
    "index_value = np.unravel_index(index_term , shape)\n",
    "index_value"
   ]
  },
  {
   "cell_type": "markdown",
   "metadata": {},
   "source": [
    "### Q21. Create a checkerboard 8x8 matrix using the tile function"
   ]
  },
  {
   "cell_type": "code",
   "execution_count": 19,
   "metadata": {},
   "outputs": [
    {
     "name": "stdout",
     "output_type": "stream",
     "text": [
      "[[0 1 0 1 0 1 0 1]\n",
      " [1 0 1 0 1 0 1 0]\n",
      " [0 1 0 1 0 1 0 1]\n",
      " [1 0 1 0 1 0 1 0]\n",
      " [0 1 0 1 0 1 0 1]\n",
      " [1 0 1 0 1 0 1 0]\n",
      " [0 1 0 1 0 1 0 1]\n",
      " [1 0 1 0 1 0 1 0]]\n"
     ]
    }
   ],
   "source": [
    "checkerboard = np.tile(np.array([[0, 1], [1, 0]]), (4, 4))\n",
    "print(checkerboard)\n"
   ]
  },
  {
   "cell_type": "markdown",
   "metadata": {},
   "source": [
    "### Q22. Normalize a 5x5 random matrix"
   ]
  },
  {
   "cell_type": "code",
   "execution_count": 26,
   "metadata": {},
   "outputs": [
    {
     "name": "stdout",
     "output_type": "stream",
     "text": [
      "[[0.02546439 0.26114199 0.17907831]\n",
      " [0.78505703 0.15995758 1.        ]\n",
      " [0.         0.8321204  0.52972416]\n",
      " [0.05526451 0.06370076 0.38813612]\n",
      " [0.58311154 0.16789818 0.80714113]]\n"
     ]
    }
   ],
   "source": [
    "Array = np.random.random((5, 5))\n",
    "Array_NORMALIZE = (A - A.min()) / (A.max() - A.min())\n",
    "print(Array_NORMALIZE)"
   ]
  },
  {
   "cell_type": "markdown",
   "metadata": {},
   "source": [
    "### Q23. Create a custom dtype that describes a color as four unsigned bytes (RGBA)"
   ]
  },
  {
   "cell_type": "code",
   "execution_count": 27,
   "metadata": {},
   "outputs": [],
   "source": [
    "color = np.dtype([('R', np.ubyte),\n",
    "                    ('G', np.ubyte),\n",
    "                    ('B', np.ubyte),\n",
    "                    ('A', np.ubyte)])"
   ]
  },
  {
   "cell_type": "markdown",
   "metadata": {},
   "source": [
    "### Q24. Multiply a 5x3 matrix by a 3x2 matrix (real matrix product)"
   ]
  },
  {
   "cell_type": "code",
   "execution_count": 29,
   "metadata": {},
   "outputs": [
    {
     "name": "stdout",
     "output_type": "stream",
     "text": [
      "[[1.12986906 0.4850309 ]\n",
      " [0.68427406 0.5243283 ]\n",
      " [0.65244098 0.39284134]\n",
      " [0.74912373 0.64288893]\n",
      " [0.51831634 0.3976981 ]]\n"
     ]
    }
   ],
   "source": [
    "array1 = np.random.random((5, 3))\n",
    "array2 = np.random.random((3, 2))\n",
    "print(np.dot(array1, array2))"
   ]
  },
  {
   "cell_type": "markdown",
   "metadata": {},
   "source": [
    "### Q25. Given a 1D array, negate all elements which are between 3 and 8, in place."
   ]
  },
  {
   "cell_type": "code",
   "execution_count": 32,
   "metadata": {},
   "outputs": [
    {
     "name": "stdout",
     "output_type": "stream",
     "text": [
      "[ 0  1  2  3 -4 -5 -6 -7  8  9]\n"
     ]
    }
   ],
   "source": [
    "myarray = np.arange(10)\n",
    "myarray[(myarray > 3) & (myarray < 8)] *= -1\n",
    "print(myarray)"
   ]
  },
  {
   "cell_type": "markdown",
   "metadata": {},
   "source": [
    "### Q26. What is the output of the following script?"
   ]
  },
  {
   "cell_type": "code",
   "execution_count": 33,
   "metadata": {},
   "outputs": [
    {
     "name": "stdout",
     "output_type": "stream",
     "text": [
      "9\n",
      "10\n"
     ]
    }
   ],
   "source": [
    "# Author: Jake VanderPlas\n",
    "print(sum(range(5),-1))\n",
    "from numpy import *\n",
    "print(sum(range(5),-1))"
   ]
  },
  {
   "cell_type": "markdown",
   "metadata": {},
   "source": [
    "### Q27. Consider an integer vector Z, which of these expressions are legal?"
   ]
  },
  {
   "cell_type": "code",
   "execution_count": 34,
   "metadata": {},
   "outputs": [
    {
     "name": "stdout",
     "output_type": "stream",
     "text": [
      "[  1   1   4  27 256]\n",
      "[0 1 2 4 8]\n",
      "[False False False False False]\n",
      "[0.+0.j 0.+1.j 0.+2.j 0.+3.j 0.+4.j]\n",
      "[0. 1. 2. 3. 4.]\n"
     ]
    },
    {
     "ename": "ValueError",
     "evalue": "The truth value of an array with more than one element is ambiguous. Use a.any() or a.all()",
     "output_type": "error",
     "traceback": [
      "\u001b[1;31m---------------------------------------------------------------------------\u001b[0m",
      "\u001b[1;31mValueError\u001b[0m                                Traceback (most recent call last)",
      "Cell \u001b[1;32mIn[34], line 7\u001b[0m\n\u001b[0;32m      5\u001b[0m \u001b[38;5;28mprint\u001b[39m(\u001b[38;5;241m1\u001b[39mj\u001b[38;5;241m*\u001b[39mZ)         \u001b[38;5;66;03m# the complex multiplication is legal also\u001b[39;00m\n\u001b[0;32m      6\u001b[0m \u001b[38;5;28mprint\u001b[39m(Z\u001b[38;5;241m/\u001b[39m\u001b[38;5;241m1\u001b[39m\u001b[38;5;241m/\u001b[39m\u001b[38;5;241m1\u001b[39m)        \u001b[38;5;66;03m# the element-wise division is legal\u001b[39;00m\n\u001b[1;32m----> 7\u001b[0m \u001b[38;5;28mprint\u001b[39m(Z\u001b[38;5;241m<\u001b[39mZ\u001b[38;5;241m>\u001b[39mZ)        \u001b[38;5;66;03m# the chained comparison is illegal\u001b[39;00m\n",
      "\u001b[1;31mValueError\u001b[0m: The truth value of an array with more than one element is ambiguous. Use a.any() or a.all()"
     ]
    }
   ],
   "source": [
    "Z = np.arange(5)\n",
    "print(Z**Z)         # The element-wise power is legal\n",
    "print(2 << Z >> 2)  # the bitwise shift is also legal\n",
    "print(Z <- Z)       # the element-wise comparison is legal\n",
    "print(1j*Z)         # the complex multiplication is legal also\n",
    "print(Z/1/1)        # the element-wise division is legal\n",
    "print(Z<Z>Z)        # the chained comparison is illegal"
   ]
  },
  {
   "cell_type": "markdown",
   "metadata": {},
   "source": [
    "### Q28. What are the result of the following expressions?"
   ]
  },
  {
   "cell_type": "code",
   "execution_count": 39,
   "metadata": {},
   "outputs": [
    {
     "name": "stdout",
     "output_type": "stream",
     "text": [
      "nan\n",
      "0\n",
      "[-2.14748365e+09]\n"
     ]
    },
    {
     "name": "stderr",
     "output_type": "stream",
     "text": [
      "C:\\Users\\Engr. CY\\AppData\\Local\\Temp\\ipykernel_34252\\3912170336.py:1: RuntimeWarning: invalid value encountered in divide\n",
      "  print(np.array(0) / np.array(0))\n",
      "C:\\Users\\Engr. CY\\AppData\\Local\\Temp\\ipykernel_34252\\3912170336.py:2: RuntimeWarning: divide by zero encountered in floor_divide\n",
      "  print(np.array(0) // np.array(0))\n",
      "C:\\Users\\Engr. CY\\AppData\\Local\\Temp\\ipykernel_34252\\3912170336.py:3: RuntimeWarning: invalid value encountered in cast\n",
      "  print(np.array([np.nan]).astype(int).astype(float))\n"
     ]
    }
   ],
   "source": [
    "print(np.array(0) / np.array(0))\n",
    "print(np.array(0) // np.array(0))\n",
    "print(np.array([np.nan]).astype(int).astype(float))"
   ]
  },
  {
   "cell_type": "markdown",
   "metadata": {},
   "source": [
    "### Q29. How to round away from zero a float array?"
   ]
  },
  {
   "cell_type": "code",
   "execution_count": 47,
   "metadata": {},
   "outputs": [
    {
     "name": "stdout",
     "output_type": "stream",
     "text": [
      "[-2.  0. -0.  0.]\n"
     ]
    }
   ],
   "source": [
    "\n",
    "arr = np.array([-1.5, 0.2, -0.3, 0.0])\n",
    "\n",
    "signs = np.sign(arr)\n",
    "rounded = np.abs(np.round(arr)) * signs\n",
    "\n",
    "print(rounded)  \n"
   ]
  },
  {
   "cell_type": "markdown",
   "metadata": {},
   "source": [
    "### Q30. How to find common values between two arrays?"
   ]
  },
  {
   "cell_type": "code",
   "execution_count": 42,
   "metadata": {},
   "outputs": [
    {
     "name": "stdout",
     "output_type": "stream",
     "text": [
      "[1 2 4]\n"
     ]
    }
   ],
   "source": [
    "arr1 = np.array([8, 1, 2, 4, 0])\n",
    "arr2 = np.array([10, 4, 1, 2, 7])\n",
    "common = np.intersect1d(A, B)\n",
    "print(common)"
   ]
  },
  {
   "cell_type": "markdown",
   "metadata": {},
   "source": [
    "### Q31. How to ignore all numpy warnings (not recommended)?"
   ]
  },
  {
   "cell_type": "code",
   "execution_count": 46,
   "metadata": {},
   "outputs": [
    {
     "data": {
      "text/plain": [
       "array([nan, inf, inf, inf, inf, inf, inf, inf, inf, inf])"
      ]
     },
     "execution_count": 46,
     "metadata": {},
     "output_type": "execute_result"
    }
   ],
   "source": [
    "np.seterr(all='ignore')\n",
    "np.arange(10) / 0"
   ]
  },
  {
   "cell_type": "markdown",
   "metadata": {},
   "source": [
    "### Q32. Is the following expression true?"
   ]
  },
  {
   "cell_type": "code",
   "execution_count": 48,
   "metadata": {},
   "outputs": [
    {
     "data": {
      "text/plain": [
       "False"
      ]
     },
     "execution_count": 48,
     "metadata": {},
     "output_type": "execute_result"
    }
   ],
   "source": [
    "np.sqrt(-1) == np.emath.sqrt(-1)"
   ]
  },
  {
   "cell_type": "markdown",
   "metadata": {},
   "source": [
    "### Q33. How to get the dates of yesterday, today and tomorrow?"
   ]
  },
  {
   "cell_type": "code",
   "execution_count": 50,
   "metadata": {},
   "outputs": [
    {
     "name": "stdout",
     "output_type": "stream",
     "text": [
      "Yesterday Date: 2024-02-23\n",
      "Todays Date: 2024-02-24\n",
      "Tomorrow Date: 2024-02-25\n"
     ]
    }
   ],
   "source": [
    "yesterday = np.datetime64('today') - np.timedelta64(1)\n",
    "today = np.datetime64('today')\n",
    "tomorrow = np.datetime64('today') + np.timedelta64(1)\n",
    "print(f\"Yesterday Date: {yesterday}\")\n",
    "print(f\"Todays Date: {today}\")\n",
    "print(f\"Tomorrow Date: {tomorrow}\")"
   ]
  },
  {
   "cell_type": "markdown",
   "metadata": {},
   "source": [
    "### Q34. How to get all the dates corresponding to the month of July 2016?"
   ]
  },
  {
   "cell_type": "code",
   "execution_count": 51,
   "metadata": {},
   "outputs": [
    {
     "name": "stdout",
     "output_type": "stream",
     "text": [
      "['2016-07-01' '2016-07-02' '2016-07-03' '2016-07-04' '2016-07-05'\n",
      " '2016-07-06' '2016-07-07' '2016-07-08' '2016-07-09' '2016-07-10'\n",
      " '2016-07-11' '2016-07-12' '2016-07-13' '2016-07-14' '2016-07-15'\n",
      " '2016-07-16' '2016-07-17' '2016-07-18' '2016-07-19' '2016-07-20'\n",
      " '2016-07-21' '2016-07-22' '2016-07-23' '2016-07-24' '2016-07-25'\n",
      " '2016-07-26' '2016-07-27' '2016-07-28' '2016-07-29' '2016-07-30'\n",
      " '2016-07-31']\n"
     ]
    }
   ],
   "source": [
    "dates_july_2016 = np.arange('2016-07', '2016-08', dtype='datetime64[D]')\n",
    "print(dates_july_2016)"
   ]
  },
  {
   "cell_type": "markdown",
   "metadata": {},
   "source": [
    "### Q35. How to compute ((A+B)*(-A/2)) in place (without copy)?"
   ]
  },
  {
   "cell_type": "code",
   "execution_count": 54,
   "metadata": {},
   "outputs": [
    {
     "name": "stdout",
     "output_type": "stream",
     "text": [
      "[1. 1. 1. 1.]\n",
      "[2. 2. 2. 2.]\n",
      "[-1.5 -1.5 -1.5 -1.5]\n"
     ]
    }
   ],
   "source": [
    "A = np.ones(4)\n",
    "B = np.ones(4) * 2\n",
    "print(A)\n",
    "print(B)\n",
    "print(np.multiply(A + B, -A / 2, out=(A + B)))\n"
   ]
  },
  {
   "cell_type": "markdown",
   "metadata": {},
   "source": [
    "### Q36. Extract the integer part of a random array of positive numbers using 4 different methods"
   ]
  },
  {
   "cell_type": "code",
   "execution_count": 55,
   "metadata": {},
   "outputs": [
    {
     "name": "stdout",
     "output_type": "stream",
     "text": [
      "[14  8 11  7  1 13 11  4 11  1]\n",
      "[14.  8. 11.  7.  1. 13. 11.  4. 11.  1.]\n",
      "[14.  8. 11.  7.  1. 13. 11.  4. 11.  1.]\n",
      "[14.  8. 11.  7.  1. 13. 11.  4. 11.  1.]\n"
     ]
    }
   ],
   "source": [
    "A = np.random.uniform(0, 15, 10)\n",
    "print(A.astype(int))\n",
    "print(np.floor(A))\n",
    "print(np.ceil(A) - 1)\n",
    "print(np.trunc(A))"
   ]
  },
  {
   "cell_type": "markdown",
   "metadata": {},
   "source": [
    "### Q37. Create a 5x5 matrix with row values ranging from 0 to 4"
   ]
  },
  {
   "cell_type": "code",
   "execution_count": 56,
   "metadata": {},
   "outputs": [
    {
     "name": "stdout",
     "output_type": "stream",
     "text": [
      "[[0 1 2 3 4]\n",
      " [0 1 2 3 4]\n",
      " [0 1 2 3 4]\n",
      " [0 1 2 3 4]\n",
      " [0 1 2 3 4]]\n"
     ]
    }
   ],
   "source": [
    "A = np.tile(np.arange(5), (5, 1))\n",
    "print(A)"
   ]
  },
  {
   "cell_type": "markdown",
   "metadata": {},
   "source": [
    "### Q38. Consider a generator function that generates 10 integers and use it to build an array"
   ]
  },
  {
   "cell_type": "code",
   "execution_count": 38,
   "metadata": {},
   "outputs": [
    {
     "name": "stdout",
     "output_type": "stream",
     "text": [
      "[0 1 2 3 4 5 6 7 8 9]\n"
     ]
    }
   ],
   "source": [
    "def generator():\n",
    "    for i in range(10):\n",
    "        yield i\n",
    "\n",
    "print(np.fromiter(generator(), dtype=int))"
   ]
  },
  {
   "cell_type": "markdown",
   "metadata": {},
   "source": [
    "### Q39. Create a vector of size 10 with values ranging from 0 to 1, both excluded"
   ]
  },
  {
   "cell_type": "code",
   "execution_count": 59,
   "metadata": {},
   "outputs": [
    {
     "name": "stdout",
     "output_type": "stream",
     "text": [
      "[0.09090909 0.18181818 0.27272727 0.36363636 0.45454545 0.54545455\n",
      " 0.63636364 0.72727273 0.81818182 0.90909091]\n"
     ]
    }
   ],
   "source": [
    "array = np.linspace(0, 1, 12)[1:-1]\n",
    "print(array)"
   ]
  },
  {
   "cell_type": "markdown",
   "metadata": {},
   "source": [
    "### Q40. Create a random vector of size 10 and sort it"
   ]
  },
  {
   "cell_type": "code",
   "execution_count": 61,
   "metadata": {},
   "outputs": [
    {
     "name": "stdout",
     "output_type": "stream",
     "text": [
      "[0.02089969 0.07530075 0.12994407 0.27526441 0.473244   0.52535052\n",
      " 0.60789067 0.61667215 0.72528025 0.74275905]\n"
     ]
    }
   ],
   "source": [
    "array = np.random.random(10)\n",
    "array.sort()\n",
    "print(array)"
   ]
  },
  {
   "cell_type": "markdown",
   "metadata": {},
   "source": [
    "### Q41. How to sum a small array faster than np.sum?"
   ]
  },
  {
   "cell_type": "code",
   "execution_count": 62,
   "metadata": {},
   "outputs": [
    {
     "name": "stdout",
     "output_type": "stream",
     "text": [
      "45\n"
     ]
    }
   ],
   "source": [
    "array = np.arange(10)\n",
    "print(np.add.reduce(array))"
   ]
  },
  {
   "cell_type": "markdown",
   "metadata": {},
   "source": [
    "### Q42. Consider two random array A and B, check if they are equal"
   ]
  },
  {
   "cell_type": "code",
   "execution_count": 42,
   "metadata": {},
   "outputs": [
    {
     "name": "stdout",
     "output_type": "stream",
     "text": [
      "False\n"
     ]
    }
   ],
   "source": [
    "A = np.random.random(5)\n",
    "B = np.random.random(5)\n",
    "print(np.array_equal(A, B))"
   ]
  },
  {
   "cell_type": "markdown",
   "metadata": {},
   "source": [
    "### Q43. Make an array immutable (read-only)"
   ]
  },
  {
   "cell_type": "code",
   "execution_count": 64,
   "metadata": {},
   "outputs": [],
   "source": [
    "array = np.zeros(15)\n",
    "array.flags.writeable = False\n",
    "try:\n",
    "    A[0] = 7 \n",
    "except ValueError as e:\n",
    "    print(f\"Error: {e}\")"
   ]
  },
  {
   "cell_type": "markdown",
   "metadata": {},
   "source": [
    "### Q44. Consider a random 10x2 matrix representing cartesian coordinates, convert them to polar coordinates"
   ]
  },
  {
   "cell_type": "code",
   "execution_count": 65,
   "metadata": {},
   "outputs": [
    {
     "name": "stdout",
     "output_type": "stream",
     "text": [
      "[[0.02568471 0.7233336 ]\n",
      " [0.98195332 0.07440339]\n",
      " [0.62339192 0.82158124]\n",
      " [0.68422841 0.4992969 ]\n",
      " [0.62044363 0.18122149]\n",
      " [0.80807038 0.43667686]\n",
      " [1.04785905 0.34781678]\n",
      " [0.5195047  1.45013467]\n",
      " [0.28525338 0.08418091]\n",
      " [0.81901778 0.14719071]]\n"
     ]
    }
   ],
   "source": [
    "A = np.random.random((10, 2))\n",
    "x, y = A[:, 0], A[:, 1]\n",
    "r = np.sqrt(x**2 + y**2)\n",
    "theta = np.arctan2(y, x)\n",
    "print(np.column_stack((r, theta)))"
   ]
  },
  {
   "cell_type": "markdown",
   "metadata": {},
   "source": [
    "### Q45. Create random vector of size 10 and replace the maximum value by 0"
   ]
  },
  {
   "cell_type": "code",
   "execution_count": 66,
   "metadata": {},
   "outputs": [
    {
     "name": "stdout",
     "output_type": "stream",
     "text": [
      "[0.53487375 0.13120488 0.34264698 0.53251566 0.         0.6466924\n",
      " 0.1299709  0.35022311 0.77999867 0.25449138]\n"
     ]
    }
   ],
   "source": [
    "A = np.random.random(10)\n",
    "A[A.argmax()] = 0\n",
    "print(A)"
   ]
  },
  {
   "cell_type": "markdown",
   "metadata": {},
   "source": [
    "### Q46. Create a structured array with x and y coordinates covering the [0,1]x[0,1] area"
   ]
  },
  {
   "cell_type": "code",
   "execution_count": 71,
   "metadata": {},
   "outputs": [
    {
     "name": "stdout",
     "output_type": "stream",
     "text": [
      "[[(0.  , 0.  ) (0.25, 0.  ) (0.5 , 0.  ) (0.75, 0.  ) (1.  , 0.  )]\n",
      " [(0.  , 0.25) (0.25, 0.25) (0.5 , 0.25) (0.75, 0.25) (1.  , 0.25)]\n",
      " [(0.  , 0.5 ) (0.25, 0.5 ) (0.5 , 0.5 ) (0.75, 0.5 ) (1.  , 0.5 )]\n",
      " [(0.  , 0.75) (0.25, 0.75) (0.5 , 0.75) (0.75, 0.75) (1.  , 0.75)]\n",
      " [(0.  , 1.  ) (0.25, 1.  ) (0.5 , 1.  ) (0.75, 1.  ) (1.  , 1.  )]]\n"
     ]
    }
   ],
   "source": [
    "A = np.zeros((5, 5), [('x', float), ('y', float)])\n",
    "A['x'], A['y'] = np.meshgrid(np.linspace(0, 1, 5),\n",
    "np.linspace(0, 1, 5))\n",
    "print(A)"
   ]
  },
  {
   "cell_type": "markdown",
   "metadata": {},
   "source": [
    "### Q47. Given two arrays, X and Y, construct the Cauchy matrix C (Cij = 1/(xi - yj))"
   ]
  },
  {
   "cell_type": "code",
   "execution_count": 72,
   "metadata": {},
   "outputs": [
    {
     "name": "stdout",
     "output_type": "stream",
     "text": [
      "-9391966.027650956\n"
     ]
    }
   ],
   "source": [
    "X = np.arange(15)\n",
    "Y = X + 0.5\n",
    "C = 1.0 / np.subtract.outer(X, Y)\n",
    "print(np.linalg.det(C))"
   ]
  },
  {
   "cell_type": "markdown",
   "metadata": {},
   "source": [
    "### Q48. Print the minimum and maximum representable value for each numpy scalar type"
   ]
  },
  {
   "cell_type": "code",
   "execution_count": 74,
   "metadata": {},
   "outputs": [
    {
     "name": "stdout",
     "output_type": "stream",
     "text": [
      "<class 'numpy.int8'>: -128 to 127\n",
      "<class 'numpy.int16'>: -32768 to 32767\n",
      "<class 'numpy.int32'>: -2147483648 to 2147483647\n",
      "<class 'numpy.int64'>: -9223372036854775808 to 9223372036854775807\n",
      "<class 'numpy.uint8'>: 0 to 255\n",
      "<class 'numpy.uint16'>: 0 to 65535\n",
      "<class 'numpy.uint32'>: 0 to 4294967295\n",
      "<class 'numpy.uint64'>: 0 to 18446744073709551615\n",
      "<class 'numpy.float16'>: -65504.0 to 65504.0\n",
      "<class 'numpy.float32'>: -3.4028234663852886e+38 to 3.4028234663852886e+38\n",
      "<class 'numpy.float64'>: -1.7976931348623157e+308 to 1.7976931348623157e+308\n"
     ]
    }
   ],
   "source": [
    "for dtype in np.sctypes['int'] + np.sctypes['uint'] + [np.float16, np.float32, np.float64]:\n",
    "    if np.issubdtype(dtype, np.integer):\n",
    "        info = np.iinfo(dtype)\n",
    "        print(f\"{dtype}: {info.min} to {info.max}\")\n",
    "    elif np.issubdtype(dtype, np.floating):\n",
    "        info = np.finfo(dtype)\n",
    "        print(f\"{dtype}: {info.min} to {info.max}\")"
   ]
  },
  {
   "cell_type": "markdown",
   "metadata": {},
   "source": [
    "### Q49. How to print all the values of an array?"
   ]
  },
  {
   "cell_type": "code",
   "execution_count": 77,
   "metadata": {},
   "outputs": [
    {
     "name": "stdout",
     "output_type": "stream",
     "text": [
      "[ 0  1  2  3  4  5  6  7  8  9 10 11 12 13 14 15 16 17 18 19 20 21 22 23\n",
      " 24 25 26 27 28 29 30 31 32 33 34 35 36 37 38 39 40 41 42 43 44 45 46 47\n",
      " 48 49]\n"
     ]
    }
   ],
   "source": [
    "np.set_printoptions(threshold=np.inf)\n",
    "thearray = np.arange(50)\n",
    "print(thearray)"
   ]
  },
  {
   "cell_type": "markdown",
   "metadata": {},
   "source": [
    "### Q50. How to find the closest value (to a given scalar) in a vector?"
   ]
  },
  {
   "cell_type": "code",
   "execution_count": 78,
   "metadata": {},
   "outputs": [
    {
     "name": "stdout",
     "output_type": "stream",
     "text": [
      "7\n"
     ]
    }
   ],
   "source": [
    "array = np.arange(15)\n",
    "scalar = 7.5\n",
    "closest = array[(np.abs(array - scalar)).argmin()]\n",
    "print(closest)"
   ]
  },
  {
   "cell_type": "markdown",
   "metadata": {},
   "source": [
    "### Q51. Create a structured array representing a position (x,y) and a color (r,g,b)"
   ]
  },
  {
   "cell_type": "code",
   "execution_count": 79,
   "metadata": {},
   "outputs": [
    {
     "name": "stdout",
     "output_type": "stream",
     "text": [
      "[[(0.  , 0.  ) (0.25, 0.  ) (0.5 , 0.  ) (0.75, 0.  ) (1.  , 0.  )]\n",
      " [(0.  , 0.25) (0.25, 0.25) (0.5 , 0.25) (0.75, 0.25) (1.  , 0.25)]\n",
      " [(0.  , 0.5 ) (0.25, 0.5 ) (0.5 , 0.5 ) (0.75, 0.5 ) (1.  , 0.5 )]\n",
      " [(0.  , 0.75) (0.25, 0.75) (0.5 , 0.75) (0.75, 0.75) (1.  , 0.75)]\n",
      " [(0.  , 1.  ) (0.25, 1.  ) (0.5 , 1.  ) (0.75, 1.  ) (1.  , 1.  )]]\n"
     ]
    }
   ],
   "source": [
    "array = np.zeros(1, [('position', [('x', int), ('y', int)]),\n",
    "('color', [('r', int), ('g', int), ('b', int)])])\n",
    "print(A)"
   ]
  },
  {
   "cell_type": "markdown",
   "metadata": {},
   "source": [
    "### 52. Consider a random vector with shape (100,2) representing coordinates, find point by point distances"
   ]
  },
  {
   "cell_type": "code",
   "execution_count": 82,
   "metadata": {},
   "outputs": [
    {
     "name": "stdout",
     "output_type": "stream",
     "text": [
      "[[0.         0.17420431 0.44714051 0.63524134 0.60329209 0.46248936\n",
      "  0.50705449 0.6458923  0.55027019 0.49373774 0.60771533 0.43472977\n",
      "  0.54922307 0.80232585 0.27002201 0.46278498 0.38837676 0.28623105\n",
      "  0.61679242 0.42427891 0.770123   0.42224852 0.80443254 0.56150299\n",
      "  0.37371085 0.80734938 0.51928284 0.69726369 0.44992418 0.59881603\n",
      "  0.4473012  0.44145502 0.52791117 0.30480117 0.76926272 0.37520986\n",
      "  0.76209323 0.59919867 0.48535967 0.49811275 0.39130219 0.12507137\n",
      "  0.44139753 0.37139696 0.2669472  0.65736299 0.70168961 0.21572789\n",
      "  0.46611025 0.63757777 0.51065072 0.24070665 0.25516993 0.18220665\n",
      "  0.47957402 0.40275758 0.7765522  0.64575858 0.7814075  0.23685033\n",
      "  0.1730754  0.77602985 0.57338474 0.61649403 0.63134997 0.3537717\n",
      "  0.7205256  0.52854709 0.34334519 0.4216521  0.54726789 0.30003352\n",
      "  0.3470417  0.79987823 0.41328116 0.20982005 0.74768336 0.64990026\n",
      "  0.17818491 0.33244669 0.7597545  0.72198364 0.55120173 0.35984371\n",
      "  0.46587516 0.51584516 0.41694431 0.30735467 0.36046213 0.53698605\n",
      "  0.27512974 0.2835166  0.46508351 0.18202998 0.59820367 0.1831325\n",
      "  0.41931804 0.57604917 0.55731279 0.61979448]\n",
      " [0.17420431 0.         0.4168277  0.80323928 0.72793275 0.63668568\n",
      "  0.67558165 0.75754048 0.72338479 0.65766648 0.74324832 0.46081553\n",
      "  0.64368887 0.95479559 0.44407716 0.63689841 0.32607955 0.45374073\n",
      "  0.75920785 0.38832105 0.92146964 0.47044871 0.96396628 0.70344417\n",
      "  0.54768777 0.9681839  0.66130802 0.87016009 0.43224123 0.73038964\n",
      "  0.40048654 0.6054851  0.69858759 0.28586809 0.92304882 0.54920258\n",
      "  0.93511201 0.73588737 0.59377865 0.67225249 0.46793384 0.29541378\n",
      "  0.47022422 0.45498037 0.2377758  0.83115492 0.84609344 0.38594754\n",
      "  0.55897609 0.79741934 0.64648568 0.4044189  0.40004349 0.29091393\n",
      "  0.4447026  0.46126303 0.94462005 0.81427241 0.94639056 0.25464614\n",
      "  0.22446998 0.94637821 0.74073535 0.77547677 0.80462323 0.52376577\n",
      "  0.8846952  0.52091085 0.3711532  0.42500764 0.64517021 0.4523665\n",
      "  0.45232398 0.94815686 0.37075841 0.26443928 0.92014697 0.76194807\n",
      "  0.25142144 0.39731536 0.91530428 0.86301131 0.7050076  0.532443\n",
      "  0.47198669 0.55871294 0.51215202 0.23524656 0.51006102 0.52515073\n",
      "  0.30929087 0.39717641 0.51762386 0.1571314  0.75217449 0.33709113\n",
      "  0.58594826 0.73864425 0.73106796 0.75667373]\n",
      " [0.44714051 0.4168277  0.         0.97861858 1.03651203 0.75382442\n",
      "  0.85897223 1.08636781 0.85939207 0.65635496 0.60071557 0.86272692\n",
      "  0.99569872 0.84413838 0.61015942 0.76078997 0.74205835 0.53552256\n",
      "  1.03061013 0.02965327 1.16206332 0.19870817 0.88716117 0.97818369\n",
      "  0.66437261 0.89812732 0.93767502 0.99481779 0.84736576 0.57733098\n",
      "  0.04233949 0.61779372 0.86408193 0.69851243 0.82242269 0.66605835\n",
      "  0.97162728 0.59898695 0.92927168 0.77233396 0.26699707 0.46972317\n",
      "  0.87101715 0.81807582 0.18608103 0.94187004 1.10934978 0.51242304\n",
      "  0.91307372 0.74555655 0.52955028 0.48941147 0.68654681 0.33099541\n",
      "  0.03294558 0.84444886 0.92545212 0.81531512 0.90435436 0.65299373\n",
      "  0.60242547 0.94752823 0.92521298 0.99654512 0.86065127 0.71699855\n",
      "  1.07642836 0.935065   0.15180746 0.08335892 0.99320608 0.46957689\n",
      "  0.79339377 1.19720274 0.78758318 0.25553356 1.04694238 1.09012853\n",
      "  0.61740079 0.77480208 0.82406354 1.13423029 0.6419296  0.62867311\n",
      "  0.88191562 0.9533546  0.33086362 0.65160888 0.77781442 0.94013607\n",
      "  0.70276605 0.3410877  0.90568551 0.56297347 0.99205675 0.61267781\n",
      "  0.78983603 0.71255175 0.8078501  0.61596698]\n",
      " [0.63524134 0.80323928 0.97861858 0.         0.34830541 0.2334244\n",
      "  0.12822482 0.42299958 0.13310488 0.41055141 0.63244481 0.67290637\n",
      "  0.48085126 0.6163569  0.37940612 0.22385269 0.83233035 0.44368378\n",
      "  0.24266187 0.96830422 0.23142334 0.83461544 0.55459236 0.24933217\n",
      "  0.31538228 0.54312283 0.25953755 0.1259152  0.77681388 0.64960942\n",
      "  0.99919513 0.41452651 0.11463775 0.73147872 0.58668657 0.31373876\n",
      "  0.32363389 0.62277705 0.42423373 0.23168251 0.75879747 0.53906474\n",
      "  0.66772007 0.52228399 0.84847973 0.14644255 0.24681531 0.47146734\n",
      "  0.483311   0.47336629 0.59832047 0.48940513 0.4213843  0.65440264\n",
      "  1.00963706 0.58724153 0.43607686 0.37282282 0.48120187 0.66969053\n",
      "  0.63523248 0.39697431 0.06291625 0.11018911 0.26325879 0.28190473\n",
      "  0.10012524 0.78814779 0.82891328 0.91298838 0.46685084 0.51693982\n",
      "  0.46821178 0.27228953 0.80997019 0.73630032 0.15029266 0.42209632\n",
      "  0.60340655 0.57504181 0.56650419 0.27844985 0.50064982 0.35335999\n",
      "  0.72960716 0.6486887  0.72069755 0.80717149 0.32120308 0.80241851\n",
      "  0.6419185  0.64373224 0.6095645  0.71925423 0.15759173 0.46963129\n",
      "  0.21743692 0.43026016 0.24017231 0.62998314]\n",
      " [0.60329209 0.72793275 1.03651203 0.34830541 0.         0.46167704\n",
      "  0.32726073 0.07810448 0.42079435 0.65684729 0.88322166 0.4100589\n",
      "  0.15669884 0.93108794 0.46239654 0.44950156 0.61943356 0.5725613\n",
      "  0.10979703 1.01738128 0.26236905 0.94963493 0.88008047 0.1053606\n",
      "  0.48439296 0.87099633 0.12303951 0.47406183 0.5219217  0.89320966\n",
      "  1.04351232 0.63505344 0.36161176 0.53942564 0.8981767  0.48360251\n",
      "  0.66875854 0.87261428 0.14722427 0.4890118  0.88664204 0.5695079\n",
      "  0.40129757 0.29774044 0.86671961 0.48902895 0.16813133 0.55314832\n",
      "  0.20578166 0.76615181 0.8195123  0.59300081 0.35088019 0.71311017\n",
      "  1.0694569  0.33698609 0.77219708 0.68452865 0.81240996 0.50748484\n",
      "  0.50858269 0.73746461 0.3201461  0.23917705 0.58515065 0.37017779\n",
      "  0.34083171 0.50236129 0.90587657 0.99252009 0.14369324 0.65531979\n",
      "  0.27865366 0.26774587 0.5790206  0.78167434 0.49033098 0.0785769\n",
      "  0.47849042 0.36512488 0.87905951 0.16533879 0.75715608 0.52139907\n",
      "  0.45978505 0.34805987 0.87197312 0.63083947 0.26325963 0.51601246\n",
      "  0.45898157 0.75445714 0.32804283 0.59242575 0.19073498 0.42501709\n",
      "  0.31666853 0.70832277 0.53340486 0.88566   ]\n",
      " [0.46248936 0.63668568 0.75382442 0.2334244  0.46167704 0.\n",
      "  0.14465378 0.53861929 0.10579924 0.19791026 0.4267052  0.64569068\n",
      "  0.54017849 0.48100766 0.1930343  0.01233511 0.74839025 0.21990315\n",
      "  0.38804624 0.74570658 0.45118533 0.60241236 0.44306226 0.35961292\n",
      "  0.09383589 0.43784367 0.33981568 0.24538994 0.73063583 0.43960678\n",
      "  0.77720966 0.18777215 0.12714224 0.64353199 0.44658668 0.09213762\n",
      "  0.31099713 0.41629989 0.46379    0.04113967 0.5260299  0.34694634\n",
      "  0.64415771 0.4953236  0.63814928 0.19825697 0.43475685 0.26409841\n",
      "  0.50453767 0.30821255 0.37640762 0.27041938 0.32519914 0.43921509\n",
      "  0.7839883  0.56421008 0.36318015 0.2454052  0.38882428 0.5700529\n",
      "  0.51807211 0.34587831 0.19372563 0.29000867 0.18247156 0.15039348\n",
      "  0.33354427 0.76793201 0.60262433 0.68484654 0.5281775  0.28645435\n",
      "  0.43387561 0.49135418 0.74156058 0.5214354  0.29778395 0.53971495\n",
      "  0.49074599 0.52525226 0.42882467 0.46638015 0.29731957 0.12536974\n",
      "  0.70106615 0.65797067 0.48728668 0.70025792 0.27640526 0.7815044\n",
      "  0.56063476 0.41478454 0.60737145 0.59035096 0.31158877 0.33790714\n",
      "  0.1552494  0.24748333 0.10603914 0.42757907]\n",
      " [0.50705449 0.67558165 0.85897223 0.12822482 0.32726073 0.14465378\n",
      "  0.         0.40528924 0.09861493 0.3419965  0.57082191 0.580445\n",
      "  0.42741674 0.60395696 0.25347552 0.13248375 0.72145269 0.32817488\n",
      "  0.24512436 0.84731899 0.31398712 0.72435998 0.55499648 0.22243565\n",
      "  0.20455591 0.54678921 0.21056393 0.21245459 0.67825525 0.58413734\n",
      "  0.87778198 0.33150129 0.03915649 0.61848995 0.57093718 0.20309048\n",
      "  0.36611257 0.56047837 0.35778216 0.16435798 0.65062037 0.41194969\n",
      "  0.57668777 0.42693978 0.72318364 0.19624957 0.2904551  0.34807189\n",
      "  0.40898323 0.43982226 0.52044668 0.37007858 0.30083999 0.53151977\n",
      "  0.89050846 0.49500292 0.45393649 0.35791457 0.49027967 0.55283511\n",
      "  0.51390299 0.42440421 0.0676382  0.14829517 0.26331525 0.15372559\n",
      "  0.21929104 0.70009903 0.71096007 0.796333   0.41424681 0.40635801\n",
      "  0.36836475 0.35304842 0.70385315 0.61280508 0.25544061 0.40583389\n",
      "  0.48268006 0.47214638 0.55187406 0.32191572 0.4405205  0.2447444\n",
      "  0.63739768 0.57205374 0.61835708 0.68970399 0.21039749 0.71422912\n",
      "  0.52980402 0.52956849 0.52687343 0.59629933 0.16693714 0.34379326\n",
      "  0.09134361 0.38421332 0.20631211 0.571241  ]\n",
      " [0.6458923  0.75754048 1.08636781 0.42299958 0.07810448 0.53861929\n",
      "  0.40528924 0.         0.49885816 0.73284194 0.95831758 0.39558758\n",
      "  0.13209296 1.00916729 0.5284069  0.52650145 0.6148043  0.64014858\n",
      "  0.18087435 1.06596241 0.30849847 1.00933929 0.95812033 0.18343913\n",
      "  0.55769064 0.94897586 0.19892094 0.54823867 0.50539    0.96771987\n",
      "  1.09096007 0.70961911 0.43971524 0.54466176 0.97622367 0.55697998\n",
      "  0.74495518 0.94768575 0.16379745 0.56661558 0.94882303 0.62427766\n",
      "  0.38574586 0.30932871 0.91207089 0.56536408 0.21833068 0.61575262\n",
      "  0.20648195 0.8438567  0.89259916 0.65720281 0.40048263 0.76824678\n",
      "  1.11927341 0.33359252 0.84970215 0.76263266 0.89023732 0.52333607\n",
      "  0.53411396 0.81451453 0.39745687 0.3130393  0.66307406 0.44104114\n",
      "  0.4069911  0.47305917 0.960464   1.04641718 0.12377521 0.72219675\n",
      "  0.3055887  0.30437893 0.56949652 0.83326366 0.5617827  0.00471957\n",
      "  0.50612253 0.37522713 0.95712705 0.20492829 0.833185   0.59379619\n",
      "  0.43955509 0.31818893 0.93730685 0.63736641 0.32497562 0.48595681\n",
      "  0.47128562 0.81621825 0.31035206 0.6141021  0.26568877 0.4738906\n",
      "  0.39133968 0.785625   0.61148036 0.96109739]\n",
      " [0.55027019 0.72338479 0.85939207 0.13310488 0.42079435 0.10579924\n",
      "  0.09861493 0.49885816 0.         0.27833723 0.50286231 0.67266985\n",
      "  0.52595575 0.51174537 0.2817466  0.09867689 0.80159409 0.32464236\n",
      "  0.33017196 0.85095871 0.36085574 0.70755781 0.45930764 0.31543385\n",
      "  0.19645422 0.45043464 0.30757808 0.14709154 0.76717546 0.51904513\n",
      "  0.88237438 0.28151779 0.06029731 0.69733747 0.47961163 0.19474079\n",
      "  0.26939555 0.49296665 0.45627194 0.09860818 0.63082661 0.44132439\n",
      "  0.66947892 0.51912131 0.74037522 0.11139507 0.35977719 0.36357374\n",
      "  0.50664518 0.35454678 0.46549224 0.37402945 0.37536124 0.54236458\n",
      "  0.88965449 0.58784585 0.35554204 0.26455449 0.39284297 0.62797782\n",
      "  0.58288997 0.32583117 0.11044112 0.21184699 0.16539865 0.20602675\n",
      "  0.23204988 0.79340829 0.70830865 0.79064439 0.51274007 0.39222495\n",
      "  0.45920168 0.40168927 0.7879645  0.6247009  0.19826842 0.49907203\n",
      "  0.553127   0.56013595 0.46008521 0.39206103 0.37088496 0.2307239\n",
      "  0.72943011 0.66876899 0.59028583 0.76285747 0.29838613 0.80743978\n",
      "  0.61031324 0.52058313 0.62246066 0.66118605 0.24540786 0.40538178\n",
      "  0.16908351 0.3049331  0.1166574  0.5012676 ]\n",
      " [0.49373774 0.65766648 0.65635496 0.41055141 0.65684729 0.19791026\n",
      "  0.3419965  0.73284194 0.27833723 0.         0.2288472  0.78628309\n",
      "  0.72211676 0.32351685 0.27753432 0.21023602 0.84532318 0.20830502\n",
      "  0.5859539  0.65551915 0.63901977 0.47641133 0.31256962 0.55636339\n",
      "  0.18809268 0.31431488 0.53407194 0.37225578 0.85544247 0.24255092\n",
      "  0.68756853 0.05231721 0.3196124  0.74370795 0.28854835 0.18809724\n",
      "  0.31548887 0.21848464 0.64320923 0.1820082  0.39844042 0.36913093\n",
      "  0.78686329 0.64585115 0.58543724 0.31549616 0.63062023 0.28043476\n",
      "  0.67554811 0.14767399 0.18872835 0.2537692  0.45595914 0.39466796\n",
      "  0.682523   0.71186794 0.29037271 0.16466147 0.28872585 0.66654499\n",
      "  0.60444668 0.3006913  0.38400279 0.48394466 0.20947019 0.30821968\n",
      "  0.50710331 0.90682901 0.50723894 0.57779048 0.71111588 0.21330486\n",
      "  0.5860546  0.67979374 0.85060814 0.46769989 0.41995053 0.73420801\n",
      "  0.58414471 0.66075493 0.27527074 0.66253397 0.10034326 0.16646398\n",
      "  0.83809151 0.81654909 0.34467281 0.78078882 0.44405707 0.91946943\n",
      "  0.67223708 0.32468755 0.7629469  0.65849121 0.50873242 0.43778016\n",
      "  0.34240756 0.08283497 0.17802764 0.22973501]\n",
      " [0.60771533 0.74324832 0.60071557 0.63244481 0.88322166 0.4267052\n",
      "  0.57082191 0.95831758 0.50286231 0.2288472  0.         0.97025472\n",
      "  0.93861516 0.24342299 0.46674319 0.43902087 0.99038127 0.36410025\n",
      "  0.81469713 0.61026507 0.86318202 0.40203361 0.29208696 0.78407497\n",
      "  0.40306767 0.3051565  0.76019831 0.57445728 1.02441982 0.02600742\n",
      "  0.6398002  0.24915661 0.54757739 0.89601929 0.22290355 0.40355178\n",
      "  0.45242962 0.01067112 0.85884134 0.40941086 0.33928465 0.49734014\n",
      "  0.97250366 0.84146102 0.5978932  0.51916623 0.85881796 0.42770844\n",
      "  0.88489461 0.19127456 0.09730544 0.38532909 0.64770256 0.45255119\n",
      "  0.61850114 0.90340361 0.36210581 0.29806149 0.32654517 0.81986314\n",
      "  0.75360144 0.39823537 0.61091719 0.71160983 0.39516356 0.52392875\n",
      "  0.72542339 1.08642606 0.47508666 0.51742103 0.92843888 0.31277178\n",
      "  0.78478826 0.90407727 1.00616645 0.49825252 0.61582108 0.9598897\n",
      "  0.74040938 0.84489879 0.22697874 0.89083222 0.13198132 0.37108523\n",
      "  1.01778213 1.01408089 0.2743861  0.91405132 0.65710149 1.09799436\n",
      "  0.8374649  0.34857688 0.95921908 0.78821817 0.7374688  0.61170091\n",
      "  0.56697792 0.20663574 0.39285027 0.01530999]\n",
      " [0.43472977 0.46081553 0.86272692 0.67290637 0.4100589  0.64569068\n",
      "  0.580445   0.39558758 0.67266985 0.78628309 0.97025472 0.\n",
      "  0.26366379 1.10785058 0.51016916 0.63755488 0.22407122 0.60616921\n",
      "  0.49711621 0.83630414 0.66800097 0.85680553 1.08261052 0.45388844\n",
      "  0.6030571  1.07934509 0.42522698 0.78748299 0.11189875 0.96915458\n",
      "  0.85326592 0.74237013 0.61863917 0.18293876 1.07267038 0.60350503\n",
      "  0.94099455 0.96015738 0.26932671 0.68611619 0.82117609 0.49415034\n",
      "  0.01090006 0.15360822 0.6766635  0.77669392 0.57446919 0.54498557\n",
      "  0.20629543 0.92970642 0.88055949 0.5897411  0.33046874 0.61146162\n",
      "  0.89330235 0.08581803 1.00868977 0.8890471  1.03371232 0.20990874\n",
      "  0.26368162 0.98853137 0.61845014 0.58809901 0.8225876  0.49618859\n",
      "  0.70935777 0.12225438 0.77635726 0.85050405 0.27332948 0.66551523\n",
      "  0.21377688 0.67725681 0.17473053 0.64374054 0.82222904 0.40024734\n",
      "  0.25716449 0.12589291 1.05756413 0.57520748 0.87477967 0.6198228\n",
      "  0.05698911 0.10287138 0.83750566 0.2689162  0.37501436 0.13583231\n",
      "  0.16105132 0.70095666 0.08544974 0.30427588 0.54337731 0.35867862\n",
      "  0.5051791  0.86316832 0.74942946 0.9788265 ]\n",
      " [0.54922307 0.64368887 0.99569872 0.48085126 0.15669884 0.54017849\n",
      "  0.42741674 0.13209296 0.52595575 0.72211676 0.93861516 0.26366379\n",
      "  0.         1.02096503 0.48259671 0.52899815 0.48294559 0.5953786\n",
      "  0.26015959 0.97339362 0.41892727 0.9380063  0.97858302 0.23324944\n",
      "  0.53657412 0.9714776  0.22309819 0.60570406 0.37401268 0.94461794\n",
      "  0.9964686  0.69070075 0.46582149 0.41561785 0.98668266 0.53625348\n",
      "  0.78911329 0.9279589  0.07993979 0.5745043  0.88386416 0.54864874\n",
      "  0.25393811 0.18885446 0.81583543 0.61121514 0.32476891 0.55778782\n",
      "  0.08488093 0.84789369 0.86337919 0.60227211 0.32442323 0.69039892\n",
      "  1.02832144 0.20312428 0.88132629 0.77988322 0.9166696  0.40048673\n",
      "  0.41925771 0.85131297 0.44031747 0.37782748 0.69052244 0.41522248\n",
      "  0.48971839 0.34708853 0.87913662 0.96304021 0.01406607 0.67333656\n",
      "  0.20230794 0.42233575 0.43740631 0.74790378 0.62900953 0.1367803\n",
      "  0.3939954  0.25108807 0.96871888 0.3198728  0.82104997 0.56756031\n",
      "  0.3090102  0.19208225 0.88065495 0.50837918 0.28179511 0.36052518\n",
      "  0.34674159 0.75197328 0.17865306 0.49458881 0.32869928 0.39240913\n",
      "  0.38500898 0.78519909 0.62858828 0.9434354 ]\n",
      " [0.80232585 0.95479559 0.84413838 0.6163569  0.93108794 0.48100766\n",
      "  0.60395696 1.00916729 0.51174537 0.32351685 0.24342299 1.10785058\n",
      "  1.02096503 0.         0.60087188 0.49202055 1.16669476 0.52514937\n",
      "  0.84162086 0.85351225 0.84015566 0.64545176 0.08053096 0.82594409\n",
      "  0.50516649 0.09762361 0.81351181 0.51820133 1.17889645 0.26713406\n",
      "  0.88316878 0.37178939 0.56977809 1.06603547 0.03518274 0.50481048\n",
      "  0.33285458 0.24548399 0.94479424 0.44675226 0.58170804 0.68111206\n",
      "  1.10799507 0.96426094 0.83301336 0.47443032 0.86245531 0.59698523\n",
      "  0.98416211 0.17817281 0.32434101 0.56327965 0.7774381  0.67011227\n",
      "  0.86173187 1.03147491 0.20692058 0.247228   0.15495893 0.98878585\n",
      "  0.92567482 0.25435278 0.61925597 0.71772598 0.35355173 0.61907498\n",
      "  0.68986372 1.22899831 0.71649493 0.76084237 1.00879848 0.50375076\n",
      "  0.90353518 0.8796896  1.17357482 0.72665022 0.54277718 1.00962408\n",
      "  0.90652152 0.98278154 0.05228192 0.89439541 0.25113401 0.4889594\n",
      "  1.16041332 1.13265183 0.51666629 1.09905652 0.75333674 1.24181213\n",
      "  0.99567945 0.57375813 1.08011406 0.974929   0.7559263  0.7612781\n",
      "  0.63624454 0.24468291 0.39768782 0.22817505]\n",
      " [0.27002201 0.44407716 0.61015942 0.37940612 0.46239654 0.1930343\n",
      "  0.25347552 0.5284069  0.2817466  0.27753432 0.46674319 0.51016916\n",
      "  0.48259671 0.60087188 0.         0.19283767 0.57475527 0.11305833\n",
      "  0.43096908 0.59686705 0.55205299 0.49358971 0.58347692 0.38321167\n",
      "  0.10992431 0.58258811 0.34687075 0.42879154 0.5780454  0.46918811\n",
      "  0.62677308 0.23224157 0.26659797 0.47123295 0.56581356 0.1111329\n",
      "  0.49896367 0.45630176 0.40301331 0.23019568 0.42650857 0.16065086\n",
      "  0.51127077 0.37517272 0.46970812 0.38747645 0.50396032 0.09824379\n",
      "  0.42136814 0.42363975 0.3842129  0.13187174 0.18178213 0.27999971\n",
      "  0.64226563 0.43867414 0.53067886 0.40165664 0.5451266  0.39483495\n",
      "  0.33663494 0.52258066 0.3210472  0.38642438 0.36805838 0.10697919\n",
      "  0.47275051 0.62995163 0.46563566 0.55239965 0.47403455 0.1938677\n",
      "  0.3180451  0.58771981 0.57590813 0.36029831 0.47993881 0.53106024\n",
      "  0.31277813 0.38433061 0.55186742 0.53095034 0.3647101  0.11264581\n",
      "  0.56112239 0.54768362 0.40958276 0.51789083 0.20489422 0.64243333\n",
      "  0.39603321 0.29606985 0.49301001 0.40244798 0.38331702 0.16175501\n",
      "  0.17971917 0.35713616 0.29204297 0.47381386]\n",
      " [0.46278498 0.63689841 0.76078997 0.22385269 0.44950156 0.01233511\n",
      "  0.13248375 0.52650145 0.09867689 0.21023602 0.43902087 0.63755488\n",
      "  0.52899815 0.49202055 0.19283767 0.         0.74322041 0.225988\n",
      "  0.37571842 0.75228247 0.43997027 0.61118975 0.45310883 0.34733505\n",
      "  0.0982565  0.44762187 0.32774017 0.24114301 0.72352474 0.45187056\n",
      "  0.78369848 0.19956478 0.11596444 0.63834515 0.45768681 0.09654134\n",
      "  0.31532429 0.42861156 0.45287523 0.0486014  0.53507293 0.34876288\n",
      "  0.63586708 0.48670127 0.64285832 0.19579376 0.42271041 0.2674608\n",
      "  0.49425916 0.31978602 0.38832505 0.27572145 0.31891076 0.44432446\n",
      "  0.79112489 0.5556751  0.37113495 0.25502819 0.39783921 0.56532601\n",
      "  0.51425687 0.3526177  0.18261691 0.27824939 0.18813323 0.14345201\n",
      "  0.32396171 0.7597619  0.60980899 0.6924633  0.51692646 0.29447109\n",
      "  0.42527276 0.48005317 0.7355533  0.526626   0.29338481 0.52757771\n",
      "  0.48652857 0.51773679 0.43980232 0.45429549 0.30965313 0.13213003\n",
      "  0.6931132  0.64847695 0.49714344 0.69631997 0.26699621 0.7733864\n",
      "  0.55483046 0.42246055 0.59816405 0.58756567 0.29940305 0.33410736\n",
      "  0.14429097 0.25942058 0.11249942 0.4399115 ]\n",
      " [0.38837676 0.32607955 0.74205835 0.83233035 0.61943356 0.74839025\n",
      "  0.72145269 0.6148043  0.80159409 0.84532318 0.99038127 0.22407122\n",
      "  0.48294559 1.16669476 0.57475527 0.74322041 0.         0.64194595\n",
      "  0.6936918  0.71319525 0.86757181 0.78547992 1.15635562 0.64430686\n",
      "  0.68244068 1.15631053 0.60917767 0.93390464 0.13510845 0.9834145\n",
      "  0.72325662 0.79533815 0.75605972 0.10487545 1.13225123 0.68339789\n",
      "  1.05828815 0.98133246 0.47284624 0.78935386 0.76954625 0.49327172\n",
      "  0.23480772 0.32745219 0.5635671  0.91197419 0.77660233 0.57086291\n",
      "  0.41419492 0.99299618 0.89428761 0.60852064 0.42673951 0.56678733\n",
      "  0.76901391 0.28296373 1.10406376 0.9760877  1.11987588 0.17993988\n",
      "  0.24102834 1.09247472 0.77224861 0.76403459 0.93085812 0.60144676\n",
      "  0.88593903 0.21995788 0.69073477 0.75014494 0.49112925 0.67798887\n",
      "  0.36952137 0.88176965 0.05699317 0.56999869 0.97545752 0.6195136\n",
      "  0.26207341 0.2636731  1.12011463 0.78175199 0.91897838 0.68642796\n",
      "  0.19886924 0.32218951 0.80225594 0.09096461 0.5124103  0.21921623\n",
      "  0.19169277 0.67122846 0.30830957 0.20723134 0.72458938 0.41415064\n",
      "  0.63435244 0.92747599 0.85424846 1.00158684]\n",
      " [0.28623105 0.45374073 0.53552256 0.44368378 0.5725613  0.21990315\n",
      "  0.32817488 0.64014858 0.32464236 0.20830502 0.36410025 0.60616921\n",
      "  0.5953786  0.52514937 0.11305833 0.225988   0.64194595 0.\n",
      "  0.53342918 0.52643441 0.63971868 0.39698829 0.5205382  0.48869404\n",
      "  0.12885375 0.52259739 0.45447543 0.46450699 0.66344465 0.36376552\n",
      "  0.55777965 0.15634317 0.32951008 0.5424697  0.49096915 0.1305419\n",
      "  0.48706026 0.35398857 0.51590953 0.24375494 0.3251153  0.16123502\n",
      "  0.60840777 0.47970329 0.42022747 0.41464074 0.60110685 0.07229287\n",
      "  0.53249877 0.35436365 0.27636006 0.05315388 0.28649309 0.2206233\n",
      "  0.56623955 0.5400765  0.49107963 0.36056671 0.49519372 0.4652703\n",
      "  0.40110463 0.49299785 0.39249018 0.47247996 0.35926274 0.20585204\n",
      "  0.54236639 0.72286059 0.38527834 0.46941939 0.58695799 0.08324527\n",
      "  0.4251354  0.67744024 0.65125921 0.30241029 0.51695568 0.642683\n",
      "  0.38358221 0.480809   0.47965276 0.62973255 0.27731111 0.09486557\n",
      "  0.65410745 0.65211331 0.30115934 0.57421514 0.31774973 0.7346261\n",
      "  0.47712005 0.20139623 0.5970281  0.4509154  0.4772409  0.24776971\n",
      "  0.27336742 0.29105063 0.29160487 0.37271819]\n",
      " [0.61679242 0.75920785 1.03061013 0.24266187 0.10979703 0.38804624\n",
      "  0.24512436 0.18087435 0.33017196 0.5859539  0.81469713 0.49711621\n",
      "  0.26015959 0.84162086 0.43096908 0.37571842 0.6936918  0.53342918\n",
      "  0.         1.01401134 0.1739678  0.92455541 0.78635252 0.05577645\n",
      "  0.42854242 0.77629904 0.09804517 0.36749616 0.60836076 0.82706935\n",
      "  1.04197894 0.57110166 0.27418351 0.60510237 0.80972032 0.42745475\n",
      "  0.56571062 0.80426323 0.22788605 0.40940548 0.85654372 0.56118869\n",
      "  0.48940808 0.36625088 0.87076448 0.3866767  0.08732056 0.52768314\n",
      "  0.29125128 0.68297487 0.75934681 0.56252614 0.36259476 0.70085255\n",
      "  1.06335286 0.41740218 0.67378464 0.59440659 0.7161715  0.56194711\n",
      "  0.55067951 0.63698903 0.22301564 0.13248724 0.4906553  0.32782548\n",
      "  0.23134278 0.59842611 0.89205653 0.97921557 0.24636381 0.61649751\n",
      "  0.33127488 0.19225749 0.65852458 0.77537676 0.38138928 0.17973557\n",
      "  0.51874485 0.4313836  0.79011992 0.10522919 0.68515518 0.46804759\n",
      "  0.55015333 0.44688827 0.83432038 0.6932648  0.2570099  0.61241168\n",
      "  0.51909864 0.72698261 0.41980786 0.63735345 0.08690114 0.43368618\n",
      "  0.26172134 0.62898091 0.44608201 0.81560898]\n",
      " [0.42427891 0.38832105 0.02965327 0.96830422 1.01738128 0.74570658\n",
      "  0.84731899 1.06596241 0.85095871 0.65551915 0.61026507 0.83630414\n",
      "  0.97339362 0.85351225 0.59686705 0.75228247 0.71319525 0.52643441\n",
      "  1.01401134 0.         1.1480918  0.20987556 0.89428241 0.96113376\n",
      "  0.65518461 0.90481889 0.92032581 0.98810603 0.8194042  0.58744252\n",
      "  0.03209713 0.61535403 0.8536742  0.67083441 0.83087447 0.6568824\n",
      "  0.97100801 0.60804798 0.90791964 0.7655917  0.27305415 0.45282492\n",
      "  0.84470581 0.79445998 0.16029242 0.93579645 1.09361358 0.4997252\n",
      "  0.89038741 0.74961611 0.53585236 0.47893437 0.66686164 0.31691155\n",
      "  0.05702109 0.81950142 0.92856707 0.81608967 0.90900805 0.62644997\n",
      "  0.57690541 0.94930765 0.91395047 0.98321309 0.85783297 0.70339823\n",
      "  1.06549762 0.90730314 0.14829937 0.09559157 0.97117875 0.46352314\n",
      "  0.77111441 1.18275783 0.7590586  0.23880542 1.04037508 1.06977935\n",
      "  0.59263497 0.75006611 0.83181435 1.11802609 0.64563359 0.62035581\n",
      "  0.85470188 0.92769174 0.33781069 0.6228502  0.76004634 0.91222628\n",
      "  0.67670678 0.33601065 0.88049175 0.53564488 0.97742621 0.59281816\n",
      "  0.77626044 0.71430023 0.8030926  0.62556173]\n",
      " [0.770123   0.92146964 1.16206332 0.23142334 0.26236905 0.45118533\n",
      "  0.31398712 0.30849847 0.36085574 0.63901977 0.86318202 0.66800097\n",
      "  0.41892727 0.84015566 0.55205299 0.43997027 0.86757181 0.63971868\n",
      "  0.1739678  1.1480918  0.         1.03669656 0.77366149 0.22588705\n",
      "  0.51847085 0.76076993 0.26544098 0.32420254 0.77970875 0.8797947\n",
      "  1.17750012 0.63805723 0.32404884 0.77889353 0.8120718  0.51702298\n",
      "  0.52611668 0.85340348 0.3990079  0.4575852  0.96385065 0.69902397\n",
      "  0.65985227 0.54016511 1.01315732 0.36585033 0.09428813 0.65014126\n",
      "  0.46171318 0.70394274 0.82501524 0.67795494 0.52150883 0.83131788\n",
      "  1.19425762 0.59000552 0.64889664 0.60102069 0.69752685 0.734193\n",
      "  0.71949201 0.60545645 0.25748391 0.16724062 0.49061844 0.44511014\n",
      "  0.15125737 0.76443504 1.01730508 1.10374697 0.40604752 0.71952459\n",
      "  0.50448818 0.04090298 0.83177822 0.91001828 0.31309268 0.30525851\n",
      "  0.68720584 0.60534017 0.79173606 0.10389651 0.73124254 0.55871589\n",
      "  0.71970595 0.61040555 0.93234206 0.86659557 0.41180645 0.778161\n",
      "  0.69246059 0.84046919 0.58830664 0.80651753 0.17248415 0.58831522\n",
      "  0.37234096 0.66167843 0.47152199 0.86103713]\n",
      " [0.42224852 0.47044871 0.19870817 0.83461544 0.94963493 0.60241236\n",
      "  0.72435998 1.00933929 0.70755781 0.47641133 0.40203361 0.85680553\n",
      "  0.9380063  0.64545176 0.49358971 0.61118975 0.78547992 0.39698829\n",
      "  0.92455541 0.20987556 1.03669656 0.         0.68952483 0.87633873\n",
      "  0.52092234 0.70085864 0.83886879 0.83326949 0.86732064 0.37862834\n",
      "  0.23834875 0.44429058 0.72239318 0.71825945 0.62399286 0.52248844\n",
      "  0.78825895 0.40042017 0.86396519 0.61393294 0.0782727  0.38935947\n",
      "  0.86325959 0.77864896 0.25001536 0.77812316 0.99608776 0.39781119\n",
      "  0.86112935 0.55223473 0.33355681 0.36220398 0.61438715 0.24997993\n",
      "  0.21733628 0.81952289 0.73329578 0.62900211 0.70959052 0.65668243\n",
      "  0.59494211 0.75810553 0.78717196 0.86946174 0.68508423 0.59806831\n",
      "  0.93449263 0.94900482 0.1029785  0.1155269  0.93285174 0.31832743\n",
      "  0.74092035 1.07440109 0.82113134 0.21688745 0.88428716 1.01254697\n",
      "  0.59975237 0.74962912 0.62601041 1.02383904 0.44983147 0.48175327\n",
      "  0.88764227 0.93458649 0.13596782 0.69574631 0.6864422  0.95674558\n",
      "  0.69733713 0.19766646 0.88207639 0.58369119 0.87323889 0.545824\n",
      "  0.6685351  0.5244393  0.6402515  0.41727685]\n",
      " [0.80443254 0.96396628 0.88716117 0.55459236 0.88008047 0.44306226\n",
      "  0.55499648 0.95812033 0.45930764 0.31256962 0.29208696 1.08261052\n",
      "  0.97858302 0.08053096 0.58347692 0.45310883 1.15635562 0.5205382\n",
      "  0.78635252 0.89428241 0.77366149 0.68952483 0.         0.77472413\n",
      "  0.48099742 0.01714277 0.76555962 0.44982174 1.15939716 0.31760072\n",
      "  0.92480426 0.36420688 0.51888622 1.05384209 0.07549011 0.48038501\n",
      "  0.25725227 0.29155291 0.90435058 0.40564166 0.62122832 0.68058614\n",
      "  1.08199522 0.93536279 0.86039383 0.40980957 0.80140739 0.59279451\n",
      "  0.94732806 0.16689871 0.35863164 0.56372649 0.75386921 0.68656081\n",
      "  0.90684729 1.00361618 0.12982223 0.19879702 0.07795416 0.9769313\n",
      "  0.91589962 0.17714618 0.56334344 0.65924406 0.29571751 0.58801775\n",
      "  0.62260327 1.20458005 0.75279588 0.8038826  0.96595994 0.51193198\n",
      "  0.87407211 0.81256554 1.15935337 0.74935335 0.4706445  0.95827944\n",
      "  0.89451877 0.95895645 0.06555546 0.83299353 0.2624511  0.47089373\n",
      "  1.13655546 1.10056457 0.55658836 1.09320428 0.71914444 1.21776311\n",
      "  0.97939276 0.59682467 1.04929476 0.97105901 0.69981249 0.74522179\n",
      "  0.59667884 0.22975384 0.35012899 0.2776391 ]\n",
      " [0.56150299 0.70344417 0.97818369 0.24933217 0.1053606  0.35961292\n",
      "  0.22243565 0.18343913 0.31543385 0.55636339 0.78407497 0.45388844\n",
      "  0.23324944 0.82594409 0.38321167 0.34733505 0.64430686 0.48869404\n",
      "  0.05577645 0.96113376 0.22588705 0.87633873 0.77472413 0.\n",
      "  0.39021759 0.76567332 0.04232776 0.3750757  0.56410168 0.79511539\n",
      "  0.98882461 0.53746734 0.25631135 0.55364013 0.79314286 0.38926697\n",
      "  0.56588427 0.77352781 0.18736276 0.3852785  0.80966943 0.50848582\n",
      "  0.44678426 0.31721155 0.81667154 0.38621909 0.14282681 0.47868415\n",
      "  0.25046408 0.66198927 0.72414332 0.51508024 0.30702425 0.64922175\n",
      "  1.01098908 0.37193637 0.66739878 0.57925633 0.70722716 0.50837261\n",
      "  0.49559188 0.63328782 0.21600897 0.14458328 0.47988524 0.28296928\n",
      "  0.25956304 0.55987031 0.84104914 0.928196   0.2191838  0.57193847\n",
      "  0.27875479 0.24690787 0.61107432 0.72274224 0.3960821  0.18373885\n",
      "  0.4635592  0.38101627 0.77396031 0.16056683 0.65643089 0.42875288\n",
      "  0.50828754 0.41169418 0.78983889 0.6408143  0.20240298 0.57401894\n",
      "  0.46673052 0.67910799 0.37996617 0.58238998 0.09554889 0.37846733\n",
      "  0.22151209 0.60507363 0.42830609 0.78588107]\n",
      " [0.37371085 0.54768777 0.66437261 0.31538228 0.48439296 0.09383589\n",
      "  0.20455591 0.55769064 0.19645422 0.18809268 0.40306767 0.6030571\n",
      "  0.53657412 0.50516649 0.10992431 0.0982565  0.68244068 0.12885375\n",
      "  0.42854242 0.65518461 0.51847085 0.52092234 0.48099742 0.39021759\n",
      "  0.         0.47887845 0.36180615 0.3390626  0.67849051 0.4108536\n",
      "  0.68646053 0.15423858 0.20181819 0.57831685 0.46998894 0.00171553\n",
      "  0.3900483  0.39239656 0.45712384 0.1250841  0.44644337 0.25508064\n",
      "  0.60298765 0.4594115  0.54463881 0.29191751 0.48818715 0.17046032\n",
      "  0.48766644 0.32701324 0.33512362 0.17757962 0.27314951 0.34608017\n",
      "  0.69504584 0.52634221 0.42176499 0.29385992 0.43833209 0.50256556\n",
      "  0.44579718 0.41272767 0.26625145 0.35201596 0.25901743 0.12135764\n",
      "  0.41458092 0.72460282 0.51397918 0.59766433 0.52604591 0.20259525\n",
      "  0.39905091 0.55728171 0.68114113 0.42839162 0.39140144 0.55953616\n",
      "  0.42101572 0.47853652 0.45458481 0.51832735 0.2850746  0.04041425\n",
      "  0.65626665 0.6291683  0.41402954 0.62744538 0.25657284 0.73760567\n",
      "  0.50022725 0.32839206 0.57593121 0.51235603 0.36300948 0.26829945\n",
      "  0.16876019 0.26070246 0.183838   0.40725212]\n",
      " [0.80734938 0.9681839  0.89812732 0.54312283 0.87099633 0.43784367\n",
      "  0.54678921 0.94897586 0.45043464 0.31431488 0.3051565  1.07934509\n",
      "  0.9714776  0.09762361 0.58258811 0.44762187 1.15631053 0.52259739\n",
      "  0.77629904 0.90481889 0.76076993 0.70085864 0.01714277 0.76567332\n",
      "  0.47887845 0.         0.75730902 0.43669599 1.15735479 0.33083256\n",
      "  0.93548364 0.36630984 0.51026841 1.05346567 0.09170221 0.47820961\n",
      "  0.24223008 0.30421814 0.89775288 0.39979246 0.63181216 0.68313663\n",
      "  1.07856056 0.93138815 0.86837579 0.39780759 0.7898992  0.59474955\n",
      "  0.9415329  0.17081766 0.36897011 0.56673206 0.7512934  0.69258997\n",
      "  0.91819235 0.99982041 0.1146843  0.19264803 0.06351538 0.97669001\n",
      "  0.91616437 0.16173296 0.55337549 0.64850131 0.28600699 0.58402492\n",
      "  0.60960506 1.20142449 0.76260973 0.81491532 0.95875635 0.51668099\n",
      "  0.87002638 0.79949025 1.15846546 0.75653651 0.45641832 0.94906335\n",
      "  0.89432323 0.95609988 0.08013226 0.82137681 0.26927182 0.47018785\n",
      "  1.1335634  1.09574835 0.5673528  1.09416416 0.71419792 1.2146825\n",
      "  0.97818402 0.60432644 1.04479851 0.9725373  0.68962565 0.74432545\n",
      "  0.59067192 0.23155261 0.34290112 0.29090966]\n",
      " [0.51928284 0.66130802 0.93767502 0.25953755 0.12303951 0.33981568\n",
      "  0.21056393 0.19892094 0.30757808 0.53407194 0.76019831 0.42522698\n",
      "  0.22309819 0.81351181 0.34687075 0.32774017 0.60917767 0.45447543\n",
      "  0.09804517 0.92032581 0.26544098 0.83886879 0.76555962 0.04232776\n",
      "  0.36180615 0.75730902 0.         0.38329593 0.53402774 0.77018043\n",
      "  0.94782963 0.51203012 0.24735448 0.51656968 0.78011256 0.36097835\n",
      "  0.5667203  0.74958823 0.16538043 0.36871951 0.7732477  0.46796524\n",
      "  0.41873685 0.28347614 0.7751007  0.38827863 0.1848022  0.44105948\n",
      "  0.22636588 0.64600374 0.69684199 0.47861584 0.2647099  0.60938916\n",
      "  0.97051623 0.34156522 0.66267652 0.56822619 0.70037105 0.46910712\n",
      "  0.45454473 0.63078472 0.21725091 0.16371691 0.47297661 0.2498129\n",
      "  0.2841842  0.53504266 0.80156871 0.88867436 0.20929655 0.5376396\n",
      "  0.24125275 0.28813387 0.57786567 0.68215996 0.40921754 0.20017403\n",
      "  0.42239584 0.34550779 0.76131148 0.20287805 0.63440627 0.39927017\n",
      "  0.48065238 0.39081097 0.7552481  0.60262917 0.16077004 0.54928043\n",
      "  0.4288425  0.64205831 0.35503987 0.54146768 0.11816212 0.33629773\n",
      "  0.19369945 0.58704901 0.4163843  0.76269422]\n",
      " [0.69726369 0.87016009 0.99481779 0.1259152  0.47406183 0.24538994\n",
      "  0.21245459 0.54823867 0.14709154 0.37225578 0.57445728 0.78748299\n",
      "  0.60570406 0.51820133 0.42879154 0.24114301 0.93390464 0.46450699\n",
      "  0.36749616 0.98810603 0.32420254 0.83326949 0.44982174 0.3750757\n",
      "  0.3390626  0.43669599 0.38329593 0.         0.88816201 0.59491042\n",
      "  1.01984337 0.39190454 0.17893892 0.83084473 0.49161263 0.33735413\n",
      "  0.20419506 0.56580141 0.54659325 0.22253142 0.75533139 0.58803021\n",
      "  0.78298915 0.63486442 0.88353411 0.05676735 0.36154762 0.5085496\n",
      "  0.60406354 0.39685405 0.55881512 0.51565724 0.5116918  0.68448442\n",
      "  1.02421238 0.70167719 0.32476296 0.28805606 0.37337767 0.76444085\n",
      "  0.72313278 0.28196412 0.16978651 0.23522019 0.18045476 0.34966583\n",
      "  0.17295925 0.90506945 0.84307358 0.92300771 0.59175119 0.52525828\n",
      "  0.57796072 0.36279481 0.91590332 0.76662966 0.05244916 0.54720451\n",
      "  0.69250263 0.68313409 0.47124688 0.39162224 0.44708109 0.36964159\n",
      "  0.84444308 0.76944909 0.70881296 0.90085776 0.42242458 0.91930512\n",
      "  0.74224708 0.65393061 0.72817858 0.80354556 0.28333168 0.54828968\n",
      "  0.30108207 0.36785656 0.19546119 0.56925671]\n",
      " [0.44992418 0.43224123 0.84736576 0.77681388 0.5219217  0.73063583\n",
      "  0.67825525 0.50539    0.76717546 0.85544247 1.02441982 0.11189875\n",
      "  0.37401268 1.17889645 0.5780454  0.72352474 0.13510845 0.66344465\n",
      "  0.60836076 0.8194042  0.77970875 0.86732064 1.15939716 0.56410168\n",
      "  0.67849051 1.15735479 0.53402774 0.88816201 0.         1.02075506\n",
      "  0.83262733 0.80863065 0.71557492 0.150173   1.14385231 0.67914791\n",
      "  1.03301566 1.01471149 0.38081759 0.77163048 0.84110495 0.53272424\n",
      "  0.12070842 0.25456461 0.66367733 0.87389329 0.68627772 0.59683402\n",
      "  0.31801499 1.00161266 0.93129093 0.63928106 0.40686937 0.63202135\n",
      "  0.87613473 0.19247305 1.09327757 0.96994383 1.11500648 0.21333988\n",
      "  0.27929563 1.07611666 0.72048232 0.69583981 0.91089265 0.58025311\n",
      "  0.8176197  0.08947736 0.77887048 0.84601606 0.38420399 0.71343382\n",
      "  0.31021813 0.78915483 0.07831628 0.65059401 0.92499787 0.51000825\n",
      "  0.28592602 0.20711526 1.12985775 0.68709917 0.9385249  0.6903006\n",
      "  0.06832207 0.19578148 0.86546101 0.20756157 0.46902689 0.09291024\n",
      "  0.18697401 0.7300127  0.19542298 0.28689135 0.65211662 0.41828893\n",
      "  0.59822854 0.93504985 0.83602035 1.03418542]\n",
      " [0.59881603 0.73038964 0.57733098 0.64960942 0.89320966 0.43960678\n",
      "  0.58413734 0.96771987 0.51904513 0.24255092 0.02600742 0.96915458\n",
      "  0.94461794 0.26713406 0.46918811 0.45187056 0.9834145  0.36376552\n",
      "  0.82706935 0.58744252 0.8797947  0.37862834 0.31760072 0.79511539\n",
      "  0.4108536  0.33083256 0.77018043 0.59491042 1.02075506 0.\n",
      "  0.61672119 0.25816347 0.56213237 0.89031607 0.24771067 0.411437\n",
      "  0.47688303 0.03064865 0.86473094 0.42426663 0.31760377 0.49123708\n",
      "  0.97168819 0.84282313 0.57922929 0.5392665  0.87316811 0.42497246\n",
      "  0.88908459 0.21575339 0.08953662 0.38156324 0.64913376 0.43947578\n",
      "  0.59461094 0.90382406 0.38789517 0.32131793 0.35254606 0.81458098\n",
      "  0.7480576  0.42367888 0.62618549 0.72642518 0.41636174 0.53094971\n",
      "  0.74358519 1.08432519 0.45390721 0.4941237  0.93470738 0.30754883\n",
      "  0.78693675 0.92066177 1.00058345 0.48198757 0.63708778 0.96940334\n",
      "  0.73589205 0.84418392 0.25235326 0.9050687  0.14931386 0.37735249\n",
      "  1.01584358 1.01540552 0.25300213 0.90581233 0.66284505 1.0956917\n",
      "  0.83379825 0.33413734 0.96040697 0.78004404 0.75102229 0.61048571\n",
      "  0.57659241 0.22723152 0.41081503 0.03996328]\n",
      " [0.4473012  0.40048654 0.04233949 0.99919513 1.04351232 0.77720966\n",
      "  0.87778198 1.09096007 0.88237438 0.68756853 0.6398002  0.85326592\n",
      "  0.9964686  0.88316878 0.62677308 0.78369848 0.72325662 0.55777965\n",
      "  1.04197894 0.03209713 1.17750012 0.23834875 0.92480426 0.98882461\n",
      "  0.68646053 0.93548364 0.94782963 1.01984337 0.83262733 0.61672119\n",
      "  0.         0.64745102 0.88455765 0.685018   0.8609042  0.68816086\n",
      "  1.00305672 0.63778966 0.93205913 0.79734697 0.30368392 0.48097062\n",
      "  0.86188558 0.8160314  0.18087774 0.96763433 1.12208712 0.52994461\n",
      "  0.91306224 0.7809817  0.56657069 0.50993364 0.69272367 0.34678281\n",
      "  0.04990575 0.83912164 0.96014835 0.84801428 0.94025142 0.64337901\n",
      "  0.59584126 0.98111342 0.94453821 1.01295649 0.88992587 0.73311153\n",
      "  1.09617288 0.92103772 0.18037353 0.12293989 0.99456697 0.49542904\n",
      "  0.79434059 1.21192236 0.77046245 0.26758615 1.07213182 1.09482801\n",
      "  0.61277547 0.77007471 0.86210781 1.1462127  0.67706176 0.65184446\n",
      "  0.86989884 0.94603495 0.36821783 0.63348332 0.78733429 0.92553291\n",
      "  0.69453402 0.36804148 0.89966926 0.55094347 1.00654065 0.61860114\n",
      "  0.80595476 0.74609165 0.83508733 0.65508113]\n",
      " [0.44145502 0.6054851  0.61779372 0.41452651 0.63505344 0.18777215\n",
      "  0.33150129 0.70961911 0.28151779 0.05231721 0.24915661 0.74237013\n",
      "  0.69070075 0.37178939 0.23224157 0.19956478 0.79533815 0.15634317\n",
      "  0.57110166 0.61535403 0.63805723 0.44429058 0.36420688 0.53746734\n",
      "  0.15423858 0.36630984 0.51203012 0.39190454 0.80863065 0.25816347\n",
      "  0.64745102 0.         0.31446835 0.69429763 0.33711769 0.15464339\n",
      "  0.35798366 0.23849163 0.6111474  0.18292301 0.36602215 0.3169218\n",
      "  0.74335923 0.60481991 0.53847513 0.3358068  0.62195637 0.22858766\n",
      "  0.64003095 0.19832218 0.18896543 0.20146374 0.41296343 0.34528407\n",
      "  0.64502764 0.66976869 0.34127026 0.21350248 0.34092394 0.61706113\n",
      "  0.5543314  0.34928679 0.38071084 0.47777812 0.24289746 0.27550447\n",
      "  0.51346016 0.86215722 0.46720055 0.54107013 0.68024518 0.16397145\n",
      "  0.54590089 0.67844497 0.80180518 0.42006117 0.44184357 0.71127595\n",
      "  0.53475882 0.61655758 0.32478283 0.65337223 0.13336873 0.12534319\n",
      "  0.79331199 0.77653557 0.31704798 0.72972007 0.41001251 0.8745904\n",
      "  0.62437731 0.2811689  0.72241507 0.60699451 0.49796389 0.39039469\n",
      "  0.31842956 0.13476285 0.19691979 0.25304101]\n",
      " [0.52791117 0.69858759 0.86408193 0.11463775 0.36161176 0.12714224\n",
      "  0.03915649 0.43971524 0.06029731 0.3196124  0.54757739 0.61863917\n",
      "  0.46582149 0.56977809 0.26659797 0.11596444 0.75605972 0.32951008\n",
      "  0.27418351 0.8536742  0.32404884 0.72239318 0.51888622 0.25631135\n",
      "  0.20181819 0.51026841 0.24735448 0.17893892 0.71557492 0.56213237\n",
      "  0.88455765 0.31446835 0.         0.65258896 0.53719278 0.20020874\n",
      "  0.32695707 0.53740014 0.39674582 0.13821506 0.64727728 0.42701377\n",
      "  0.61502445 0.46506051 0.73459435 0.15833729 0.31124528 0.35718486\n",
      "  0.44813896 0.4087914  0.50247466 0.3747954  0.33276607 0.53989843\n",
      "  0.89516504 0.53332716 0.41581766 0.32294934 0.45301796 0.58559271\n",
      "  0.54441253 0.38564542 0.06665737 0.16436497 0.22564961 0.17485364\n",
      "  0.2128804  0.738587   0.7145777  0.79892726 0.45256547 0.40418189\n",
      "  0.40606478 0.36421788 0.73972845 0.62187634 0.22479923 0.4400502\n",
      "  0.51365455 0.50907892 0.51788286 0.3432929  0.41620549 0.24064015\n",
      "  0.6755581  0.611162   0.611605   0.72192442 0.24688506 0.75269625\n",
      "  0.56437224 0.53011432 0.56581349 0.62547133 0.19168782 0.37101161\n",
      "  0.12220276 0.35564551 0.1724684  0.54714237]\n",
      " [0.30480117 0.28586809 0.69851243 0.73147872 0.53942564 0.64353199\n",
      "  0.61848995 0.54466176 0.69733747 0.74370795 0.89601929 0.18293876\n",
      "  0.41561785 1.06603547 0.47123295 0.63834515 0.10487545 0.5424697\n",
      "  0.60510237 0.67083441 0.77889353 0.71825945 1.05384209 0.55364013\n",
      "  0.57831685 1.05346567 0.51656968 0.83084473 0.150173   0.89031607\n",
      "  0.685018   0.69429763 0.65258896 0.         1.03141373 0.57924576\n",
      "  0.95342188 0.88670672 0.39233329 0.68450699 0.69446332 0.39908939\n",
      "  0.19336804 0.24189486 0.51413586 0.80793485 0.69001433 0.47234818\n",
      "  0.33878845 0.89133099 0.80085765 0.51176718 0.32218533 0.48677983\n",
      "  0.72770804 0.21290169 0.99973997 0.87211302 1.01616919 0.07726109\n",
      "  0.14244805 0.98777919 0.67075042 0.667272   0.8260022  0.49663213\n",
      "  0.78859342 0.23660031 0.62889919 0.69588685 0.42166822 0.58326228\n",
      "  0.27531763 0.79573619 0.11030831 0.5013883  0.87313955 0.54937032\n",
      "  0.1595683  0.17478211 1.01885405 0.69778948 0.81978017 0.58331339\n",
      "  0.18639409 0.28538847 0.72173712 0.09277323 0.41059157 0.24217259\n",
      "  0.08967461 0.58766457 0.25513718 0.13674442 0.62971288 0.3100625\n",
      "  0.53064017 0.82550188 0.749409   0.90671419]\n",
      " [0.76926272 0.92304882 0.82242269 0.58668657 0.8981767  0.44658668\n",
      "  0.57093718 0.97622367 0.47961163 0.28854835 0.22290355 1.07267038\n",
      "  0.98668266 0.03518274 0.56581356 0.45768681 1.13225123 0.49096915\n",
      "  0.80972032 0.83087447 0.8120718  0.62399286 0.07549011 0.79314286\n",
      "  0.46998894 0.09170221 0.78011256 0.49161263 1.14385231 0.24771067\n",
      "  0.8609042  0.33711769 0.53719278 1.03141373 0.         0.46963522\n",
      "  0.31215015 0.2236923  0.91032604 0.41275423 0.55826902 0.64757995\n",
      "  1.07281241 0.9291089  0.80566761 0.44623351 0.83221693 0.56292433\n",
      "  0.9493701  0.14299055 0.298182   0.52976287 0.74226157 0.63968257\n",
      "  0.84093346 0.99630339 0.18943676 0.2155419  0.13905707 0.95417388\n",
      "  0.8912231  0.23613646 0.58777602 0.68682883 0.32346816 0.58404804\n",
      "  0.66233445 1.19382768 0.69201204 0.73906439 0.97457333 0.47136825\n",
      "  0.86840019 0.85185816 1.13882068 0.6978607  0.51832759 0.97673923\n",
      "  0.87187635 0.94761074 0.02037016 0.86424941 0.21839928 0.4538403\n",
      "  1.12524826 1.0975777  0.49326813 1.06505739 0.71842905 1.20664673\n",
      "  0.96076723 0.54485819 1.04500145 0.94112591 0.72432156 0.7263283\n",
      "  0.60183601 0.2095041  0.36484906 0.20795425]\n",
      " [0.37520986 0.54920258 0.66605835 0.31373876 0.48360251 0.09213762\n",
      "  0.20309048 0.55697998 0.19474079 0.18809724 0.40355178 0.60350503\n",
      "  0.53625348 0.50481048 0.1111329  0.09654134 0.68339789 0.1305419\n",
      "  0.42745475 0.6568824  0.51702298 0.52248844 0.48038501 0.38926697\n",
      "  0.00171553 0.47820961 0.36097835 0.33735413 0.67914791 0.411437\n",
      "  0.68816086 0.15464339 0.20020874 0.57924576 0.46963522 0.\n",
      "  0.38867479 0.39288083 0.45683377 0.12349798 0.44797273 0.25667423\n",
      "  0.60340559 0.45968686 0.54635216 0.29023337 0.48692511 0.17213434\n",
      "  0.4875771  0.32666967 0.33590991 0.17929382 0.2736781  0.34779569\n",
      "  0.69672569 0.52667648 0.42076508 0.2929737  0.43749882 0.50353499\n",
      "  0.44686974 0.41157839 0.26468999 0.35060448 0.25764679 0.12106087\n",
      "  0.41295698 0.7250832  0.51565265 0.5993196  0.52569577 0.20416308\n",
      "  0.39928111 0.55585633 0.68197621 0.43010715 0.38969158 0.55881337\n",
      "  0.42202214 0.47904188 0.45418292 0.51709236 0.28526695 0.04178245\n",
      "  0.65676786 0.62934374 0.41544429 0.62855412 0.25640042 0.73809926\n",
      "  0.50103532 0.33002473 0.57614794 0.51357781 0.36174179 0.26924967\n",
      "  0.1678407  0.2603971  0.18239687 0.4076761 ]\n",
      " [0.76209323 0.93511201 0.97162728 0.32363389 0.66875854 0.31099713\n",
      "  0.36611257 0.74495518 0.26939555 0.31548887 0.45242962 0.94099455\n",
      "  0.78911329 0.33285458 0.49896367 0.31532429 1.05828815 0.48706026\n",
      "  0.56571062 0.97100801 0.52611668 0.78825895 0.25725227 0.56588427\n",
      "  0.3900483  0.24223008 0.5667203  0.20419506 1.03301566 0.47688303\n",
      "  1.00305672 0.35798366 0.32695707 0.95342188 0.31215015 0.38867479\n",
      "  0.         0.44623464 0.7227744  0.27075547 0.71107233 0.63990199\n",
      "  0.93809659 0.78766035 0.89535278 0.17974733 0.56548656 0.55012185\n",
      "  0.77507888 0.26117076 0.47001915 0.53974921 0.63264654 0.69908863\n",
      "  0.99740527 0.85657693 0.12754676 0.16116235 0.17932184 0.88064615\n",
      "  0.82904987 0.08096094 0.35032874 0.43356072 0.13103259 0.45707684\n",
      "  0.37529019 1.06217222 0.82272606 0.8924469  0.77551163 0.51993143\n",
      "  0.7272457  0.56352601 1.04916668 0.77647116 0.2159522  0.74431403\n",
      "  0.8017017  0.82598726 0.29256654 0.5957511  0.34734007 0.40269277\n",
      "  0.99757413 0.93794445 0.65375987 1.01125032 0.56602063 1.07614758\n",
      "  0.86908178 0.63887471 0.89185604 0.90028957 0.47945957 0.64889717\n",
      "  0.43586528 0.26636229 0.20706615 0.44294232]\n",
      " [0.59919867 0.73588737 0.59898695 0.62277705 0.87261428 0.41629989\n",
      "  0.56047837 0.94768575 0.49296665 0.21848464 0.01067112 0.96015738\n",
      "  0.9279589  0.24548399 0.45630176 0.42861156 0.98133246 0.35398857\n",
      "  0.80426323 0.60804798 0.85340348 0.40042017 0.29155291 0.77352781\n",
      "  0.39239656 0.30421814 0.74958823 0.56580141 1.01471149 0.03064865\n",
      "  0.63778966 0.23849163 0.53740014 0.88670672 0.2236923  0.39288083\n",
      "  0.44623464 0.         0.84818852 0.39926239 0.33637133 0.48818654\n",
      "  0.96236882 0.8310868  0.59301053 0.51036813 0.84862926 0.417933\n",
      "  0.87430722 0.1851108  0.08945225 0.37575239 0.63733441 0.44536913\n",
      "  0.61725116 0.89312406 0.35802491 0.29085101 0.32360148 0.81047343\n",
      "  0.74427309 0.39335263 0.60086166 0.70148582 0.38680305 0.51326036\n",
      "  0.71601732 1.07646361 0.47172484 0.51564536 0.91777731 0.30353049\n",
      "  0.77434522 0.89429437 0.99681954 0.49228193 0.60751623 0.94926225\n",
      "  0.7308813  0.83475862 0.2268174  0.88062804 0.12216255 0.36043551\n",
      "  1.00779934 1.00370307 0.27136193 0.90531182 0.64645581 1.08806154\n",
      "  0.82777165 0.34197696 0.94885662 0.77947921 0.72716508 0.60165087\n",
      "  0.55634655 0.1979486  0.38335158 0.02079174]\n",
      " [0.48535967 0.59377865 0.92927168 0.42423373 0.14722427 0.46379\n",
      "  0.35778216 0.16379745 0.45627194 0.64320923 0.85884134 0.26932671\n",
      "  0.07993979 0.94479424 0.40301331 0.45287523 0.47284624 0.51590953\n",
      "  0.22788605 0.90791964 0.3990079  0.86396519 0.90435058 0.18736276\n",
      "  0.45712384 0.89775288 0.16538043 0.54659325 0.38081759 0.86473094\n",
      "  0.93205913 0.6111474  0.39674582 0.39233329 0.91032604 0.45683377\n",
      "  0.7227744  0.84818852 0.         0.49917726 0.80805165 0.47506156\n",
      "  0.2615292  0.15106091 0.75221814 0.54710735 0.30598524 0.4798598\n",
      "  0.06346182 0.77070778 0.78344151 0.52397255 0.24959039 0.61800895\n",
      "  0.96207023 0.19159156 0.81037094 0.70555522 0.84412125 0.36326086\n",
      "  0.37064126 0.78209088 0.37804397 0.32819307 0.6193654  0.33577301\n",
      "  0.44648654 0.37252776 0.8084114  0.89325463 0.07107353 0.59437628\n",
      "  0.14185953 0.41005721 0.43396027 0.67861843 0.57426844 0.16818051\n",
      "  0.34237644 0.21842594 0.89261435 0.30914339 0.74185692 0.48776192\n",
      "  0.3223335  0.22555539 0.80311627 0.48399879 0.20188814 0.38666663\n",
      "  0.31320464 0.67577331 0.19276626 0.45171589 0.28077101 0.320148\n",
      "  0.30858724 0.70746098 0.55504538 0.86375497]\n",
      " [0.49811275 0.67225249 0.77233396 0.23168251 0.4890118  0.04113967\n",
      "  0.16435798 0.56661558 0.09860818 0.1820082  0.40941086 0.68611619\n",
      "  0.5745043  0.44675226 0.23019568 0.0486014  0.78935386 0.24375494\n",
      "  0.40940548 0.7655917  0.4575852  0.61393294 0.40564166 0.3852785\n",
      "  0.1250841  0.39979246 0.36871951 0.22253142 0.77163048 0.42426663\n",
      "  0.79734697 0.18292301 0.13821506 0.68450699 0.41275423 0.12349798\n",
      "  0.27075547 0.39926239 0.49917726 0.         0.53654463 0.38016225\n",
      "  0.68445412 0.53530053 0.66394892 0.17102456 0.44944805 0.29454185\n",
      "  0.54176365 0.27730798 0.36758508 0.29597479 0.36633395 0.46437307\n",
      "  0.80183539 0.60427647 0.32258164 0.20714556 0.34939365 0.61085998\n",
      "  0.55838002 0.30475711 0.20199829 0.30223807 0.14153712 0.19138129\n",
      "  0.33055566 0.80833161 0.62062217 0.70104681 0.56220885 0.3028363\n",
      "  0.47387328 0.49826675 0.78269315 0.54611439 0.27478517 0.56745846\n",
      "  0.5313106  0.56607253 0.3944727  0.4815072  0.27799179 0.14940718\n",
      "  0.7416295  0.69676856 0.4938058  0.74060922 0.31540156 0.82194593\n",
      "  0.60175045 0.43157972 0.64661904 0.62980384 0.32915795 0.37828208\n",
      "  0.19104433 0.21998049 0.06493524 0.40892967]\n",
      " [0.39130219 0.46793384 0.26699707 0.75879747 0.88664204 0.5260299\n",
      "  0.65062037 0.94882303 0.63082661 0.39844042 0.33928465 0.82117609\n",
      "  0.88386416 0.58170804 0.42650857 0.53507293 0.76954625 0.3251153\n",
      "  0.85654372 0.27305415 0.96385065 0.0782727  0.62122832 0.80966943\n",
      "  0.44644337 0.63181216 0.7732477  0.75533139 0.84110495 0.31760377\n",
      "  0.30368392 0.36602215 0.64727728 0.69446332 0.55826902 0.44797273\n",
      "  0.71107233 0.33637133 0.80805165 0.53654463 0.         0.33814495\n",
      "  0.82688358 0.73223977 0.27257334 0.70007169 0.92602437 0.33351913\n",
      "  0.80953578 0.47879942 0.26288749 0.29465661 0.55944765 0.21005583\n",
      "  0.2893279  0.77760705 0.65918288 0.5523939  0.63737705 0.62815237\n",
      "  0.56379886 0.68266178 0.71252326 0.79674316 0.6069148  0.52894322\n",
      "  0.85881187 0.91952682 0.13672441 0.18445781 0.87791043 0.24433661\n",
      "  0.69058688 1.00199403 0.80077477 0.20369467 0.80624864 0.95185172\n",
      "  0.56465158 0.70864887 0.55886317 0.95435819 0.37548703 0.40682143\n",
      "  0.85586352 0.89347996 0.06504616 0.68187129 0.6242936  0.9281727\n",
      "  0.66449536 0.13265862 0.83985043 0.5636968  0.80234784 0.4941799\n",
      "  0.59818145 0.44828843 0.56207259 0.35458733]\n",
      " [0.12507137 0.29541378 0.46972317 0.53906474 0.5695079  0.34694634\n",
      "  0.41194969 0.62427766 0.44132439 0.36913093 0.49734014 0.49415034\n",
      "  0.54864874 0.68111206 0.16065086 0.34876288 0.49327172 0.16123502\n",
      "  0.56118869 0.45282492 0.69902397 0.38935947 0.68058614 0.50848582\n",
      "  0.25508064 0.68313663 0.46796524 0.58803021 0.53272424 0.49123708\n",
      "  0.48097062 0.3169218  0.42701377 0.39908939 0.64757995 0.25667423\n",
      "  0.63990199 0.48818654 0.47506156 0.38016225 0.33814495 0.\n",
      "  0.4985988  0.39451186 0.31439561 0.5445551  0.64117753 0.09087448\n",
      "  0.47227309 0.51390167 0.40180642 0.11783255 0.22558719 0.14397828\n",
      "  0.50255406 0.44278129 0.65155634 0.52079677 0.65642625 0.32365147\n",
      "  0.25694819 0.65160241 0.47955876 0.53708351 0.50967076 0.25982698\n",
      "  0.63055221 0.60209739 0.33652167 0.42302355 0.54358199 0.18472461\n",
      "  0.35268505 0.73238177 0.50937381 0.21425775 0.63957445 0.62773108\n",
      "  0.24680063 0.37544644 0.63737564 0.66526171 0.43045633 0.23722868\n",
      "  0.53509377 0.55877462 0.34545811 0.41964615 0.3084714  0.61242989\n",
      "  0.34686984 0.20991532 0.50439699 0.29445028 0.52708496 0.15664374\n",
      "  0.33129298 0.45165224 0.43698539 0.50837599]\n",
      " [0.44139753 0.47022422 0.87101715 0.66772007 0.40129757 0.64415771\n",
      "  0.57668777 0.38574586 0.66947892 0.78686329 0.97250366 0.01090006\n",
      "  0.25393811 1.10799507 0.51127077 0.63586708 0.23480772 0.60840777\n",
      "  0.48940808 0.84470581 0.65985227 0.86325959 1.08199522 0.44678426\n",
      "  0.60298765 1.07856056 0.41873685 0.78298915 0.12070842 0.97168819\n",
      "  0.86188558 0.74335923 0.61502445 0.19336804 1.07281241 0.60340559\n",
      "  0.93809659 0.96236882 0.2615292  0.68445412 0.82688358 0.4985988\n",
      "  0.         0.15043693 0.68493804 0.77292155 0.56618806 0.54794203\n",
      "  0.19829189 0.92982687 0.88324705 0.5928733  0.33090754 0.61734209\n",
      "  0.90168927 0.08169773 1.00697107 0.88794157 1.03247606 0.21852389\n",
      "  0.27104363 0.98635175 0.61374632 0.58187906 0.8203751  0.49499571\n",
      "  0.70291949 0.12417637 0.7834846  0.85807938 0.26379998 0.66871364\n",
      "  0.21123266 0.66869077 0.18510287 0.65067605 0.81725186 0.39039637\n",
      "  0.26350733 0.12761588 1.05756711 0.56653872 0.87597152 0.62040594\n",
      "  0.0620349  0.09219121 0.84249345 0.27970446 0.3723262  0.1380703\n",
      "  0.16870832 0.7059746  0.07541579 0.31349873 0.53683683 0.36124851\n",
      "  0.50243302 0.86333428 0.74754368 0.98093606]\n",
      " [0.37139696 0.45498037 0.81807582 0.52228399 0.29774044 0.4953236\n",
      "  0.42693978 0.30932871 0.51912131 0.64585115 0.84146102 0.15360822\n",
      "  0.18885446 0.96426094 0.37517272 0.48670127 0.32745219 0.47970329\n",
      "  0.36625088 0.79445998 0.54016511 0.77864896 0.93536279 0.31721155\n",
      "  0.4594115  0.93138815 0.28347614 0.63486442 0.25456461 0.84282313\n",
      "  0.8160314  0.60481991 0.46506051 0.24189486 0.9291089  0.45968686\n",
      "  0.78766035 0.8310868  0.15106091 0.53530053 0.73223977 0.39451186\n",
      "  0.15043693 0.         0.63517905 0.62317561 0.44968203 0.42648907\n",
      "  0.10461951 0.78623268 0.75603571 0.47232621 0.1937638  0.52866907\n",
      "  0.85030199 0.06912598 0.85755878 0.73996731 0.88407523 0.21401025\n",
      "  0.23069314 0.83628744 0.4664293  0.44283092 0.67030149 0.34737714\n",
      "  0.56494495 0.27455865 0.71057594 0.79173057 0.19115568 0.54774414\n",
      "  0.06144944 0.55516321 0.29438988 0.57726122 0.67075996 0.31395088\n",
      "  0.20665249 0.06739788 0.91328454 0.45629533 0.73814509 0.48013031\n",
      "  0.21049874 0.17262332 0.73860634 0.33310015 0.22197258 0.28849899\n",
      "  0.1624962  0.60418068 0.11783759 0.30619377 0.40064118 0.24177473\n",
      "  0.35202542 0.72007064 0.59793797 0.84884121]\n",
      " [0.2669472  0.2377758  0.18608103 0.84847973 0.86671961 0.63814928\n",
      "  0.72318364 0.91207089 0.74037522 0.58543724 0.5978932  0.6766635\n",
      "  0.81583543 0.83301336 0.46970812 0.64285832 0.5635671  0.42022747\n",
      "  0.87076448 0.16029242 1.01315732 0.25001536 0.86039383 0.81667154\n",
      "  0.54463881 0.86837579 0.7751007  0.88353411 0.66367733 0.57922929\n",
      "  0.18087774 0.53847513 0.73459435 0.51413586 0.80566761 0.54635216\n",
      "  0.89535278 0.59301053 0.75221814 0.66394892 0.27257334 0.31439561\n",
      "  0.68493804 0.63517905 0.         0.83467971 0.95285937 0.37778183\n",
      "  0.73228967 0.7023601  0.50888534 0.36812472 0.51597675 0.19963426\n",
      "  0.21705732 0.65925119 0.87256976 0.75008134 0.86147413 0.46698529\n",
      "  0.41663164 0.88606237 0.79074503 0.85144332 0.77312966 0.57318669\n",
      "  0.94245149 0.75070787 0.14708373 0.18758745 0.81410106 0.37542257\n",
      "  0.61383835 1.04603318 0.60652599 0.1190675  0.93593306 0.91601042\n",
      "  0.43248272 0.58989674 0.80267695 0.97566906 0.59968295 0.51468598\n",
      "  0.69647476 0.76747253 0.33134955 0.47262082 0.61433954 0.75620053\n",
      "  0.51670278 0.2647921  0.72020101 0.37794701 0.84097363 0.44192322\n",
      "  0.6452674  0.65579946 0.71004832 0.61283306]\n",
      " [0.65736299 0.83115492 0.94187004 0.14644255 0.48902895 0.19825697\n",
      "  0.19624957 0.56536408 0.11139507 0.31549616 0.51916623 0.77669392\n",
      "  0.61121514 0.47443032 0.38747645 0.19579376 0.91197419 0.41464074\n",
      "  0.3866767  0.93579645 0.36585033 0.77812316 0.40980957 0.38621909\n",
      "  0.29191751 0.39780759 0.38827863 0.05676735 0.87389329 0.5392665\n",
      "  0.96763433 0.3358068  0.15833729 0.80793485 0.44623351 0.29023337\n",
      "  0.17974733 0.51036813 0.54710735 0.17102456 0.70007169 0.5445551\n",
      "  0.77292155 0.62317561 0.83467971 0.         0.39251008 0.46232784\n",
      "  0.60163912 0.34444509 0.50211864 0.46656544 0.48627165 0.63519432\n",
      "  0.97095472 0.69124243 0.28968564 0.23736421 0.33540699 0.73908889\n",
      "  0.69428423 0.25074767 0.17116731 0.25512888 0.12760187 0.31727995\n",
      "  0.21650217 0.89624735 0.79006524 0.86919871 0.59749088 0.47239706\n",
      "  0.56437506 0.40564433 0.89713475 0.71704811 0.10618506 0.56478166\n",
      "  0.66450551 0.66730141 0.42589274 0.42378008 0.39103232 0.31999707\n",
      "  0.83364423 0.76606407 0.65283404 0.87417919 0.40505227 0.91039231\n",
      "  0.72047219 0.60079416 0.72213717 0.77237611 0.30011986 0.51657635\n",
      "  0.27793546 0.31254384 0.13903734 0.51432742]\n",
      " [0.70168961 0.84609344 1.10934978 0.24681531 0.16813133 0.43475685\n",
      "  0.2904551  0.21833068 0.35977719 0.63062023 0.85881796 0.57446919\n",
      "  0.32476891 0.86245531 0.50396032 0.42271041 0.77660233 0.60110685\n",
      "  0.08732056 1.09361358 0.09428813 0.99608776 0.80140739 0.14282681\n",
      "  0.48818715 0.7898992  0.1848022  0.36154762 0.68627772 0.87316811\n",
      "  1.12208712 0.62195637 0.31124528 0.69001433 0.83221693 0.48692511\n",
      "  0.56548656 0.84862926 0.30598524 0.44944805 0.92602437 0.64117753\n",
      "  0.56618806 0.44968203 0.95285937 0.39251008 0.         0.60184998\n",
      "  0.36828586 0.71350031 0.8108972  0.6341063  0.44843778 0.77865992\n",
      "  1.14194511 0.49741908 0.68200682 0.61725927 0.72782066 0.64850928\n",
      "  0.63797987 0.64157287 0.24945645 0.14797431 0.50891958 0.39813436\n",
      "  0.1996058  0.67015502 0.96841506 1.05546518 0.31182418 0.68332686\n",
      "  0.41737869 0.10577241 0.73959003 0.85480831 0.36326569 0.21548458\n",
      "  0.60606036 0.51567586 0.81214601 0.03229107 0.72741639 0.52847387\n",
      "  0.62579055 0.51613186 0.90000236 0.77892642 0.34125464 0.68387566\n",
      "  0.60483089 0.79849769 0.49428028 0.72462057 0.1251974  0.51859231\n",
      "  0.32784376 0.66458302 0.47592866 0.8583436 ]\n",
      " [0.21572789 0.38594754 0.51242304 0.47146734 0.55314832 0.26409841\n",
      "  0.34807189 0.61575262 0.36357374 0.28043476 0.42770844 0.54498557\n",
      "  0.55778782 0.59698523 0.09824379 0.2674608  0.57086291 0.07229287\n",
      "  0.52768314 0.4997252  0.65014126 0.39781119 0.59279451 0.47868415\n",
      "  0.17046032 0.59474955 0.44105948 0.5085496  0.59683402 0.42497246\n",
      "  0.52994461 0.22858766 0.35718486 0.47234818 0.56292433 0.17213434\n",
      "  0.55012185 0.417933   0.4798598  0.29454185 0.33351913 0.09087448\n",
      "  0.54794203 0.42648907 0.37778183 0.46232784 0.60184998 0.\n",
      "  0.48901032 0.42665638 0.3359174  0.04584985 0.23759296 0.18344813\n",
      "  0.54440525 0.48329626 0.56083056 0.43003077 0.5664747  0.39532467\n",
      "  0.33041748 0.56074864 0.41516167 0.48418385 0.42037417 0.20518664\n",
      "  0.56700651 0.6593657  0.36739409 0.45416235 0.55063807 0.12146134\n",
      "  0.37568646 0.68593533 0.58168545 0.26493364 0.56069268 0.61870263\n",
      "  0.31429689 0.42090122 0.55179762 0.62852497 0.34813888 0.14808954\n",
      "  0.5909344  0.59741647 0.3233879  0.50214003 0.29091288 0.6707204\n",
      "  0.40995216 0.20137212 0.54224822 0.37864571 0.48154992 0.18722089\n",
      "  0.27781442 0.36323094 0.34891439 0.43735331]\n",
      " [0.46611025 0.55897609 0.91307372 0.483311   0.20578166 0.50453767\n",
      "  0.40898323 0.20648195 0.50664518 0.67554811 0.88489461 0.20629543\n",
      "  0.08488093 0.98416211 0.42136814 0.49425916 0.41419492 0.53249877\n",
      "  0.29125128 0.89038741 0.46171318 0.86112935 0.94732806 0.25046408\n",
      "  0.48766644 0.9415329  0.22636588 0.60406354 0.31801499 0.88908459\n",
      "  0.91306224 0.64003095 0.44813896 0.33878845 0.9493701  0.4875771\n",
      "  0.77507888 0.87430722 0.06346182 0.54176365 0.80953578 0.47227309\n",
      "  0.19829189 0.10461951 0.73228967 0.60163912 0.36828586 0.48901032\n",
      "  0.         0.80817169 0.80534276 0.5343301  0.2519547  0.61222295\n",
      "  0.94559878 0.13133223 0.85799156 0.74889858 0.88968705 0.31790705\n",
      "  0.33451311 0.83164373 0.43461491 0.38992555 0.6673314  0.36760717\n",
      "  0.50909361 0.30948976 0.79916161 0.88229158 0.08653637 0.60743937\n",
      "  0.12078494 0.47161462 0.37324845 0.66710285 0.63358711 0.21116309\n",
      "  0.30911447 0.16901662 0.93222829 0.37000607 0.77246384 0.51504279\n",
      "  0.25890937 0.16545062 0.80969801 0.43133745 0.23177306 0.32366746\n",
      "  0.26511617 0.67860268 0.12950291 0.41080528 0.3430821  0.3156463\n",
      "  0.35091366 0.74364318 0.60020286 0.89075301]\n",
      " [0.63757777 0.79741934 0.74555655 0.47336629 0.76615181 0.30821255\n",
      "  0.43982226 0.8438567  0.35454678 0.14767399 0.19127456 0.92970642\n",
      "  0.84789369 0.17817281 0.42363975 0.31978602 0.99299618 0.35436365\n",
      "  0.68297487 0.74961611 0.70394274 0.55223473 0.16689871 0.66198927\n",
      "  0.32701324 0.17081766 0.64600374 0.39685405 1.00161266 0.21575339\n",
      "  0.7809817  0.19832218 0.4087914  0.89133099 0.14299055 0.32666967\n",
      "  0.26117076 0.1851108  0.77070778 0.27730798 0.47879942 0.51390167\n",
      "  0.92982687 0.78623268 0.7023601  0.34444509 0.71350031 0.42665638\n",
      "  0.80817169 0.         0.22033973 0.39687346 0.5993264  0.52271377\n",
      "  0.76802144 0.85334597 0.18142893 0.11034252 0.15999158 0.81418636\n",
      "  0.7521056  0.21113733 0.46485024 0.56593741 0.21689584 0.441843\n",
      "  0.55873122 1.05092236 0.60418787 0.66325722 0.83606873 0.34589967\n",
      "  0.72560169 0.74458524 0.99803273 0.58863177 0.43367272 0.84465243\n",
      "  0.73177628 0.80470801 0.12824697 0.74578126 0.10416654 0.31133493\n",
      "  0.98237574 0.95503779 0.41638244 0.92803624 0.57677187 1.06377097\n",
      "  0.81923918 0.43759358 0.90229352 0.80523534 0.59954068 0.58469571\n",
      "  0.46296343 0.06662166 0.23790017 0.1821384 ]\n",
      " [0.51065072 0.64648568 0.52955028 0.59832047 0.8195123  0.37640762\n",
      "  0.52044668 0.89259916 0.46549224 0.18872835 0.09730544 0.88055949\n",
      "  0.86337919 0.32434101 0.3842129  0.38832505 0.89428761 0.27636006\n",
      "  0.75934681 0.53585236 0.82501524 0.33355681 0.35863164 0.72414332\n",
      "  0.33512362 0.36897011 0.69684199 0.55881512 0.93129093 0.08953662\n",
      "  0.56657069 0.18896543 0.50247466 0.80085765 0.298182   0.33590991\n",
      "  0.47001915 0.08945225 0.78344151 0.36758508 0.26288749 0.40180642\n",
      "  0.88324705 0.75603571 0.50888534 0.50211864 0.8108972  0.3359174\n",
      "  0.80534276 0.22033973 0.         0.29220704 0.56262271 0.35610511\n",
      "  0.55049214 0.81622245 0.40174466 0.30894597 0.37612188 0.72506804\n",
      "  0.65856871 0.42996474 0.56827597 0.66631541 0.387468   0.45266785\n",
      "  0.69555236 0.9952596  0.39443662 0.44651761 0.8539009  0.21801469\n",
      "  0.70095509 0.86560912 0.91111217 0.40506058 0.60489158 0.89451197\n",
      "  0.64636054 0.75584903 0.29718953 0.84233436 0.12270424 0.2989904\n",
      "  0.92685141 0.92847281 0.19870385 0.81726872 0.58178723 1.00655296\n",
      "  0.74434669 0.25359041 0.87338744 0.69145056 0.68691826 0.52200033\n",
      "  0.50336552 0.20447701 0.36628856 0.11024339]\n",
      " [0.24070665 0.4044189  0.48941147 0.48940513 0.59300081 0.27041938\n",
      "  0.37007858 0.65720281 0.37402945 0.2537692  0.38532909 0.5897411\n",
      "  0.60227211 0.56327965 0.13187174 0.27572145 0.60852064 0.05315388\n",
      "  0.56252614 0.47893437 0.67795494 0.36220398 0.56372649 0.51508024\n",
      "  0.17757962 0.56673206 0.47861584 0.51565724 0.63928106 0.38156324\n",
      "  0.50993364 0.20146374 0.3747954  0.51176718 0.52976287 0.17929382\n",
      "  0.53974921 0.37575239 0.52397255 0.29597479 0.29465661 0.11783255\n",
      "  0.5928733  0.47232621 0.36812472 0.46656544 0.6341063  0.04584985\n",
      "  0.5343301  0.39687346 0.29220704 0.         0.2832066  0.16882733\n",
      "  0.52069649 0.5288857  0.54041929 0.41043304 0.54229471 0.43515329\n",
      "  0.36937427 0.54394232 0.43591593 0.51101402 0.41230259 0.23597568\n",
      "  0.58701714 0.70329953 0.34088556 0.42649877 0.59488045 0.07591462\n",
      "  0.42145877 0.71474557 0.6216237  0.25101603 0.56809149 0.66003748\n",
      "  0.35514936 0.46605658 0.51967117 0.66167288 0.31269672 0.14660126\n",
      "  0.63503804 0.64315412 0.28033389 0.53686132 0.33226561 0.71448336\n",
      "  0.45230761 0.16453957 0.58799272 0.41201439 0.51193115 0.23266914\n",
      "  0.3071265  0.33565158 0.34471859 0.39548819]\n",
      " [0.25516993 0.40004349 0.68654681 0.4213843  0.35088019 0.32519914\n",
      "  0.30083999 0.40048263 0.37536124 0.45595914 0.64770256 0.33046874\n",
      "  0.32442323 0.7774381  0.18178213 0.31891076 0.42673951 0.28649309\n",
      "  0.36259476 0.66686164 0.52150883 0.61438715 0.75386921 0.30702425\n",
      "  0.27314951 0.7512934  0.2647099  0.5116918  0.40686937 0.64913376\n",
      "  0.69272367 0.41296343 0.33276607 0.32218533 0.74226157 0.2736781\n",
      "  0.63264654 0.63733441 0.24959039 0.36633395 0.55944765 0.22558719\n",
      "  0.33090754 0.1937638  0.51597675 0.48627165 0.44843778 0.23759296\n",
      "  0.2519547  0.5993264  0.56262271 0.2832066  0.         0.36900051\n",
      "  0.71948381 0.25696244 0.68677854 0.56310073 0.7081636  0.25300204\n",
      "  0.21385558 0.67106578 0.35880392 0.37814949 0.50703521 0.17571299\n",
      "  0.49250483 0.45161965 0.56046067 0.64610528 0.31869715 0.35742041\n",
      "  0.13887638 0.54892514 0.41672426 0.43281049 0.55621248 0.40411654\n",
      "  0.18216421 0.20544015 0.72729295 0.46758766 0.54598914 0.2895094\n",
      "  0.38316972 0.36638711 0.55782232 0.38917036 0.11013178 0.46453862\n",
      "  0.23646788 0.42769577 0.31152472 0.29833957 0.35238449 0.07413893\n",
      "  0.21062589 0.53275887 0.43114247 0.65514033]\n",
      " [0.18220665 0.29091393 0.33099541 0.65440264 0.71311017 0.43921509\n",
      "  0.53151977 0.76824678 0.54236458 0.39466796 0.45255119 0.61146162\n",
      "  0.69039892 0.67011227 0.27999971 0.44432446 0.56678733 0.2206233\n",
      "  0.70085255 0.31691155 0.83131788 0.24997993 0.68656081 0.64922175\n",
      "  0.34608017 0.69258997 0.60938916 0.68448442 0.63202135 0.43947578\n",
      "  0.34678281 0.34528407 0.53989843 0.48677983 0.63968257 0.34779569\n",
      "  0.69908863 0.44536913 0.61800895 0.46437307 0.21005583 0.14397828\n",
      "  0.61734209 0.52866907 0.19963426 0.63519432 0.77865992 0.18344813\n",
      "  0.61222295 0.52271377 0.35610511 0.16882733 0.36900051 0.\n",
      "  0.36343438 0.57043049 0.68473614 0.55867662 0.67857844 0.41877719\n",
      "  0.35394877 0.69456226 0.59857107 0.66630192 0.57499168 0.38649053\n",
      "  0.75039146 0.70963202 0.19277444 0.27959815 0.68584321 0.18143823\n",
      "  0.49169731 0.86625963 0.59458385 0.08234037 0.73691785 0.77170618\n",
      "  0.35468089 0.5008512  0.63367691 0.80392465 0.4243231  0.31521303\n",
      "  0.64581083 0.68590532 0.23559752 0.48186686 0.45115653 0.7184127\n",
      "  0.45443977 0.10744001 0.63291733 0.35959621 0.66106952 0.29811752\n",
      "  0.45935419 0.47002946 0.51071273 0.46613648]\n",
      " [0.47957402 0.4447026  0.03294558 1.00963706 1.0694569  0.7839883\n",
      "  0.89050846 1.11927341 0.88965449 0.682523   0.61850114 0.89330235\n",
      "  1.02832144 0.86173187 0.64226563 0.79112489 0.76901391 0.56623955\n",
      "  1.06335286 0.05702109 1.19425762 0.21733628 0.90684729 1.01098908\n",
      "  0.69504584 0.91819235 0.97051623 1.02421238 0.87613473 0.59461094\n",
      "  0.04990575 0.64502764 0.89516504 0.72770804 0.84093346 0.69672569\n",
      "  0.99740527 0.61725116 0.96207023 0.80183539 0.2893279  0.50255406\n",
      "  0.90168927 0.85030199 0.21705732 0.97095472 1.14194511 0.54440525\n",
      "  0.94559878 0.76802144 0.55049214 0.52069649 0.71948381 0.36343438\n",
      "  0.         0.87606576 0.94851077 0.84022075 0.92617933 0.68345764\n",
      "  0.63368033 0.9716007  0.95659795 1.02858226 0.8879195  0.74915736\n",
      "  1.10766333 0.96413034 0.18137486 0.10517472 1.02588878 0.49899925\n",
      "  0.82601351 1.22951407 0.81533486 0.28840614 1.07624729 1.1230382\n",
      "  0.64910148 0.80652979 0.84323242 1.16690677 0.66481425 0.65899596\n",
      "  0.91169111 0.9845283  0.35199773 0.67885154 0.81070119 0.96898048\n",
      "  0.7336395  0.37028183 0.9371619  0.59262345 1.0244294  0.64560625\n",
      "  0.82197301 0.73684534 0.83628632 0.63367696]\n",
      " [0.40275758 0.46126303 0.84444886 0.58724153 0.33698609 0.56421008\n",
      "  0.49500292 0.33359252 0.58784585 0.71186794 0.90340361 0.08581803\n",
      "  0.20312428 1.03147491 0.43867414 0.5556751  0.28296373 0.5400765\n",
      "  0.41740218 0.81950142 0.59000552 0.81952289 1.00361618 0.37193637\n",
      "  0.52634221 0.99982041 0.34156522 0.70167719 0.19247305 0.90382406\n",
      "  0.83912164 0.66976869 0.53332716 0.21290169 0.99630339 0.52667648\n",
      "  0.85657693 0.89312406 0.19159156 0.60427647 0.77760705 0.44278129\n",
      "  0.08169773 0.06912598 0.65925119 0.69124243 0.49741908 0.48329626\n",
      "  0.13133223 0.85334597 0.81622245 0.5288857  0.25696244 0.57043049\n",
      "  0.87606576 0.         0.9266089  0.80863252 0.95287932 0.20805213\n",
      "  0.24368986 0.90541336 0.53263453 0.50368883 0.73942744 0.41582\n",
      "  0.62531078 0.20559752 0.74580415 0.82421144 0.20992755 0.60473678\n",
      "  0.13042769 0.6016486  0.24239023 0.61209504 0.73646287 0.33831207\n",
      "  0.22711183 0.07031812 0.98069317 0.50057014 0.8028995  0.54568894\n",
      "  0.14276606 0.11602404 0.78823837 0.30555478 0.29106669 0.21959962\n",
      "  0.15278751 0.65245319 0.06256929 0.30572643 0.459676   0.29627531\n",
      "  0.42106627 0.78703143 0.66701498 0.91124215]\n",
      " [0.7765522  0.94462005 0.92545212 0.43607686 0.77219708 0.36318015\n",
      "  0.45393649 0.84970215 0.35554204 0.29037271 0.36210581 1.00868977\n",
      "  0.88132629 0.20692058 0.53067886 0.37113495 1.10406376 0.49107963\n",
      "  0.67378464 0.92856707 0.64889664 0.73329578 0.12982223 0.66739878\n",
      "  0.42176499 0.1146843  0.66267652 0.32476296 1.09327757 0.38789517\n",
      "  0.96014835 0.34127026 0.41581766 0.99973997 0.18943676 0.42076508\n",
      "  0.12754676 0.35802491 0.81037094 0.32258164 0.65918288 0.65155634\n",
      "  1.00697107 0.85755878 0.87256976 0.28968564 0.68200682 0.56083056\n",
      "  0.85799156 0.18142893 0.40174466 0.54041929 0.68677854 0.68473614\n",
      "  0.94851077 0.9266089  0.         0.13085723 0.05211574 0.92426029\n",
      "  0.86729127 0.04747702 0.45228117 0.54373209 0.19100652 0.51340709\n",
      "  0.49764136 1.13089461 0.78201372 0.84355251 0.86818165 0.50356732\n",
      "  0.79618121 0.68715392 1.10113624 0.75608807 0.34222188 0.84948922\n",
      "  0.84278051 0.8883732  0.17097323 0.71307534 0.28370038 0.42223039\n",
      "  1.06420101 1.01664534 0.59735396 1.04844736 0.63662838 1.14452113\n",
      "  0.91990979 0.60868899 0.96758933 0.93087575 0.58688391 0.68993637\n",
      "  0.50868805 0.21690303 0.25969991 0.3501969 ]\n",
      " [0.64575858 0.81427241 0.81531512 0.37282282 0.68452865 0.2454052\n",
      "  0.35791457 0.76263266 0.26455449 0.16466147 0.29806149 0.8890471\n",
      "  0.77988322 0.247228   0.40165664 0.25502819 0.9760877  0.36056671\n",
      "  0.59440659 0.81608967 0.60102069 0.62900211 0.19879702 0.57925633\n",
      "  0.29385992 0.19264803 0.56822619 0.28805606 0.96994383 0.32131793\n",
      "  0.84801428 0.21350248 0.32294934 0.87211302 0.2155419  0.2929737\n",
      "  0.16116235 0.29085101 0.70555522 0.20714556 0.5523939  0.52079677\n",
      "  0.88794157 0.73996731 0.75008134 0.23736421 0.61725927 0.43003077\n",
      "  0.74889858 0.11034252 0.30894597 0.41043304 0.56310073 0.55867662\n",
      "  0.84022075 0.80863252 0.13085723 0.         0.14506336 0.7961574\n",
      "  0.73819476 0.13604582 0.3722444  0.47140116 0.1104433  0.39295167\n",
      "  0.45341301 1.01126562 0.66816143 0.73507461 0.76731016 0.37725193\n",
      "  0.67853963 0.64132296 0.97485233 0.63234276 0.32353333 0.76299385\n",
      "  0.71432322 0.76680366 0.19577826 0.64937502 0.18634252 0.29199869\n",
      "  0.94378932 0.90337364 0.49387933 0.91886194 0.52180993 1.02466755\n",
      "  0.79379269 0.48853351 0.85269893 0.80057025 0.50883168 0.56205269\n",
      "  0.39807439 0.10532478 0.15190832 0.29027886]\n",
      " [0.7814075  0.94639056 0.90435436 0.48120187 0.81240996 0.38882428\n",
      "  0.49027967 0.89023732 0.39284297 0.28872585 0.32654517 1.03371232\n",
      "  0.9166696  0.15495893 0.5451266  0.39783921 1.11987588 0.49519372\n",
      "  0.7161715  0.90900805 0.69752685 0.70959052 0.07795416 0.70722716\n",
      "  0.43833209 0.06351538 0.70037105 0.37337767 1.11500648 0.35254606\n",
      "  0.94025142 0.34092394 0.45301796 1.01616919 0.13905707 0.43749882\n",
      "  0.17932184 0.32360148 0.84412125 0.34939365 0.63737705 0.65642625\n",
      "  1.03247606 0.88407523 0.86147413 0.33540699 0.72782066 0.5664747\n",
      "  0.88968705 0.15999158 0.37612188 0.54229471 0.7081636  0.67857844\n",
      "  0.92617933 0.95287932 0.05211574 0.14506336 0.         0.93994475\n",
      "  0.88112296 0.09958858 0.49358862 0.58744588 0.22751735 0.53752508\n",
      "  0.54632163 1.15595501 0.76400688 0.82173125 0.90375129 0.49899772\n",
      "  0.82262659 0.73615253 1.11947288 0.74678785 0.39295092 0.8902015\n",
      "  0.85789437 0.91175178 0.12151814 0.75917149 0.26410708 0.43407996\n",
      "  1.08860621 1.04609809 0.5741876  1.06098669 0.66479455 1.16940188\n",
      "  0.93851284 0.59670327 0.99599941 0.94127527 0.62935265 0.70615775\n",
      "  0.53897475 0.20890741 0.28949566 0.31363956]\n",
      " [0.23685033 0.25464614 0.65299373 0.66969053 0.50748484 0.5700529\n",
      "  0.55283511 0.52333607 0.62797782 0.66654499 0.81986314 0.20990874\n",
      "  0.40048673 0.98878585 0.39483495 0.56532601 0.17993988 0.4652703\n",
      "  0.56194711 0.62644997 0.734193   0.65668243 0.9769313  0.50837261\n",
      "  0.50256556 0.97669001 0.46910712 0.76444085 0.21333988 0.81458098\n",
      "  0.64337901 0.61706113 0.58559271 0.07726109 0.95417388 0.50353499\n",
      "  0.88064615 0.81047343 0.36326086 0.61085998 0.62815237 0.32365147\n",
      "  0.21852389 0.21401025 0.46698529 0.73908889 0.64850928 0.39532467\n",
      "  0.31790705 0.81418636 0.72506804 0.43515329 0.25300204 0.41877719\n",
      "  0.68345764 0.20805213 0.92426029 0.7961574  0.93994475 0.\n",
      "  0.06688845 0.9131821  0.60798013 0.61242562 0.75239204 0.42494661\n",
      "  0.73227508 0.29234485 0.57150983 0.64301082 0.40410805 0.50722545\n",
      "  0.23152624 0.754094   0.18647912 0.4407836  0.80822583 0.52795499\n",
      "  0.08243089 0.14940198 0.94165396 0.65931886 0.74257469 0.50664381\n",
      "  0.2320561  0.30472118 0.65217029 0.13750559 0.34882457 0.30037179\n",
      "  0.05526658 0.51691982 0.26303854 0.09792391 0.57788883 0.23432887\n",
      "  0.46339127 0.7484176  0.67565313 0.8303977 ]\n",
      " [0.1730754  0.22446998 0.60242547 0.63523248 0.50858269 0.51807211\n",
      "  0.51390299 0.53411396 0.58288997 0.60444668 0.75360144 0.26368162\n",
      "  0.41925771 0.92567482 0.33663494 0.51425687 0.24102834 0.40110463\n",
      "  0.55067951 0.57690541 0.71949201 0.59494211 0.91589962 0.49559188\n",
      "  0.44579718 0.91616437 0.45454473 0.72313278 0.27929563 0.7480576\n",
      "  0.59584126 0.5543314  0.54441253 0.14244805 0.8912231  0.44686974\n",
      "  0.82904987 0.74427309 0.37064126 0.55838002 0.56379886 0.25694819\n",
      "  0.27104363 0.23069314 0.41663164 0.69428423 0.63797987 0.33041748\n",
      "  0.33451311 0.7521056  0.65856871 0.36937427 0.21385558 0.35394877\n",
      "  0.63368033 0.24368986 0.86729127 0.73819476 0.88112296 0.06688845\n",
      "  0.         0.85811602 0.57265668 0.58722428 0.69955219 0.37740714\n",
      "  0.70433051 0.35572828 0.51274755 0.5870898  0.42070795 0.44086446\n",
      "  0.23037443 0.74248908 0.25257603 0.38047592 0.76882208 0.53857684\n",
      "  0.03252329 0.17598149 0.87911356 0.65183481 0.67831566 0.44707748\n",
      "  0.29282283 0.35094727 0.58631531 0.18224172 0.31874353 0.36447089\n",
      "  0.1028003  0.45072299 0.3038309  0.08707866 0.55666521 0.18017595\n",
      "  0.42295759 0.68673473 0.62274083 0.76426996]\n",
      " [0.77602985 0.94637821 0.94752823 0.39697431 0.73746461 0.34587831\n",
      "  0.42440421 0.81451453 0.32583117 0.3006913  0.39823537 0.98853137\n",
      "  0.85131297 0.25435278 0.52258066 0.3526177  1.09247472 0.49299785\n",
      "  0.63698903 0.94930765 0.60545645 0.75810553 0.17714618 0.63328782\n",
      "  0.41272767 0.16173296 0.63078472 0.28196412 1.07611666 0.42367888\n",
      "  0.98111342 0.34928679 0.38564542 0.98777919 0.23613646 0.41157839\n",
      "  0.08096094 0.39335263 0.78209088 0.30475711 0.68266178 0.65160241\n",
      "  0.98635175 0.83628744 0.88606237 0.25074767 0.64157287 0.56074864\n",
      "  0.83164373 0.21113733 0.42996474 0.54394232 0.67106578 0.69456226\n",
      "  0.9716007  0.90541336 0.04747702 0.13604582 0.09958858 0.9131821\n",
      "  0.85811602 0.         0.41737298 0.50583539 0.16598629 0.49602334\n",
      "  0.4543238  1.1104944  0.80180654 0.86644361 0.83796654 0.51317632\n",
      "  0.77514798 0.64327968 1.08717608 0.76838518 0.29668304 0.81412169\n",
      "  0.83247377 0.87005989 0.21728866 0.67230096 0.30891836 0.41771947\n",
      "  1.04453514 0.99219028 0.62224895 1.04002931 0.61448293 1.12427262\n",
      "  0.90608186 0.62402793 0.94423474 0.92472808 0.55020699 0.67916722\n",
      "  0.4851107  0.23503157 0.24012117 0.38714487]\n",
      " [0.57338474 0.74073535 0.92521298 0.06291625 0.3201461  0.19372563\n",
      "  0.0676382  0.39745687 0.11044112 0.38400279 0.61091719 0.61845014\n",
      "  0.44031747 0.61925597 0.3210472  0.18261691 0.77224861 0.39249018\n",
      "  0.22301564 0.91395047 0.25748391 0.78717196 0.56334344 0.21600897\n",
      "  0.26625145 0.55337549 0.21725091 0.16978651 0.72048232 0.62618549\n",
      "  0.94453821 0.38071084 0.06665737 0.67075042 0.58777602 0.26468999\n",
      "  0.35032874 0.60086166 0.37804397 0.20199829 0.71252326 0.47955876\n",
      "  0.61374632 0.4664293  0.79074503 0.17116731 0.24945645 0.41516167\n",
      "  0.43461491 0.46485024 0.56827597 0.43591593 0.35880392 0.59857107\n",
      "  0.95659795 0.53263453 0.45228117 0.3722444  0.49358862 0.60798013\n",
      "  0.57265668 0.41737298 0.         0.10148257 0.26763983 0.22086185\n",
      "  0.15186846 0.73548392 0.77660458 0.86157507 0.42654052 0.46884463\n",
      "  0.41073838 0.29775684 0.75126578 0.68002724 0.20461622 0.3972126\n",
      "  0.54091173 0.5169674  0.56801381 0.28172545 0.47912866 0.30570327\n",
      "  0.67535759 0.59990008 0.67775529 0.74539603 0.26016218 0.74972931\n",
      "  0.58133509 0.5937074  0.55839263 0.6564834  0.13672194 0.40675055\n",
      "  0.15479442 0.4151267  0.22696612 0.6099106 ]\n",
      " [0.61649403 0.77547677 0.99654512 0.11018911 0.23917705 0.29000867\n",
      "  0.14829517 0.3130393  0.21184699 0.48394466 0.71160983 0.58809901\n",
      "  0.37782748 0.71772598 0.38642438 0.27824939 0.76403459 0.47247996\n",
      "  0.13248724 0.98321309 0.16724062 0.86946174 0.65924406 0.14458328\n",
      "  0.35201596 0.64850131 0.16371691 0.23522019 0.69583981 0.72642518\n",
      "  1.01295649 0.47777812 0.16436497 0.667272   0.68682883 0.35060448\n",
      "  0.43356072 0.70148582 0.32819307 0.30223807 0.79674316 0.53708351\n",
      "  0.58187906 0.44283092 0.85144332 0.25512888 0.14797431 0.48418385\n",
      "  0.38992555 0.56593741 0.66631541 0.51101402 0.37814949 0.66630192\n",
      "  1.02858226 0.50368883 0.54373209 0.47140116 0.58744588 0.61242562\n",
      "  0.58722428 0.50583539 0.10148257 0.         0.36452778 0.27984498\n",
      "  0.1221801  0.69875659 0.85089021 0.93714202 0.3637615  0.55244967\n",
      "  0.39464904 0.20535778 0.73618627 0.74586055 0.25217386 0.31205463\n",
      "  0.55472791 0.50146728 0.66690214 0.18024329 0.57999232 0.39237105\n",
      "  0.64387196 0.55371428 0.76604543 0.74903558 0.26905592 0.71299573\n",
      "  0.5779365  0.67326193 0.51875481 0.67375165 0.04929687 0.43857856\n",
      "  0.20701326 0.51660876 0.32817132 0.71086929]\n",
      " [0.63134997 0.80462323 0.86065127 0.26325879 0.58515065 0.18247156\n",
      "  0.26331525 0.66307406 0.16539865 0.20947019 0.39516356 0.8225876\n",
      "  0.69052244 0.35355173 0.36805838 0.18813323 0.93085812 0.35926274\n",
      "  0.4906553  0.85783297 0.49061844 0.68508423 0.29571751 0.47988524\n",
      "  0.25901743 0.28600699 0.47297661 0.18045476 0.91089265 0.41636174\n",
      "  0.88992587 0.24289746 0.22564961 0.8260022  0.32346816 0.25764679\n",
      "  0.13103259 0.38680305 0.6193654  0.14153712 0.6069148  0.50967076\n",
      "  0.8203751  0.67030149 0.77312966 0.12760187 0.50891958 0.42037417\n",
      "  0.6673314  0.21689584 0.387468   0.41230259 0.50703521 0.57499168\n",
      "  0.8879195  0.73942744 0.19100652 0.1104433  0.22751735 0.75239204\n",
      "  0.69955219 0.16598629 0.26763983 0.36452778 0.         0.33145598\n",
      "  0.3430787  0.94452359 0.7098378  0.78386503 0.67743978 0.39896298\n",
      "  0.60916528 0.53089161 0.92368476 0.65406374 0.22072826 0.66312047\n",
      "  0.67272264 0.7045278  0.30332324 0.54089095 0.27057159 0.2724932\n",
      "  0.87864386 0.8268933  0.55411248 0.88179336 0.4485185  0.95831104\n",
      "  0.74291592 0.52253286 0.77855295 0.76978052 0.40419659 0.51957493\n",
      "  0.31932794 0.18924552 0.07681896 0.38942774]\n",
      " [0.3537717  0.52376577 0.71699855 0.28190473 0.37017779 0.15039348\n",
      "  0.15372559 0.44104114 0.20602675 0.30821968 0.52392875 0.49618859\n",
      "  0.41522248 0.61907498 0.10697919 0.14345201 0.60144676 0.20585204\n",
      "  0.32782548 0.70339823 0.44511014 0.59806831 0.58801775 0.28296928\n",
      "  0.12135764 0.58402492 0.2498129  0.34966583 0.58025311 0.53094971\n",
      "  0.73311153 0.27550447 0.17485364 0.49663213 0.58404804 0.12106087\n",
      "  0.45707684 0.51326036 0.33577301 0.19138129 0.52894322 0.25982698\n",
      "  0.49499571 0.34737714 0.57318669 0.31727995 0.39813436 0.20518664\n",
      "  0.36760717 0.441843   0.45266785 0.23597568 0.17571299 0.38649053\n",
      "  0.74915736 0.41582    0.51340709 0.39295167 0.53752508 0.42494661\n",
      "  0.37740714 0.49602334 0.22086185 0.27984498 0.33145598 0.\n",
      "  0.37097486 0.61843474 0.57257112 0.65927519 0.40474285 0.28906769\n",
      "  0.28605635 0.48074966 0.59243504 0.46609059 0.39808166 0.44317916\n",
      "  0.34818966 0.37496993 0.56759091 0.42578198 0.40621493 0.15385913\n",
      "  0.55121673 0.51371198 0.50699891 0.55828156 0.13589291 0.63190267\n",
      "  0.41203499 0.40042491 0.46166216 0.4551606  0.27655694 0.19936048\n",
      "  0.07286458 0.37662461 0.25591042 0.52840085]\n",
      " [0.7205256  0.8846952  1.07642836 0.10012524 0.34083171 0.33354427\n",
      "  0.21929104 0.4069911  0.23204988 0.50710331 0.72542339 0.70935777\n",
      "  0.48971839 0.68986372 0.47275051 0.32396171 0.88593903 0.54236639\n",
      "  0.23134278 1.06549762 0.15125737 0.93449263 0.62260327 0.25956304\n",
      "  0.41458092 0.60960506 0.2841842  0.17295925 0.8176197  0.74358519\n",
      "  1.09617288 0.51346016 0.2128804  0.78859342 0.66233445 0.41295698\n",
      "  0.37529019 0.71601732 0.44648654 0.33055566 0.85881187 0.63055221\n",
      "  0.70291949 0.56494495 0.94245149 0.21650217 0.1996058  0.56700651\n",
      "  0.50909361 0.55873122 0.69555236 0.58701714 0.49250483 0.75039146\n",
      "  1.10766333 0.62531078 0.49764136 0.45341301 0.54632163 0.73227508\n",
      "  0.70433051 0.4543238  0.15186846 0.1221801  0.3430787  0.37097486\n",
      "  0.         0.81851392 0.92728791 1.0117848  0.47574088 0.61659849\n",
      "  0.51669256 0.18999231 0.85836446 0.83189033 0.16513562 0.40501697\n",
      "  0.67195688 0.62359264 0.64197267 0.2267437  0.59428214 0.45297117\n",
      "  0.76483494 0.67125494 0.82080297 0.86930281 0.38564035 0.83271463\n",
      "  0.69910704 0.74295315 0.63842748 0.79022713 0.16619205 0.54805467\n",
      "  0.30159842 0.52072953 0.33277016 0.7221124 ]\n",
      " [0.52854709 0.52091085 0.935065   0.78814779 0.50236129 0.76793201\n",
      "  0.70009903 0.47305917 0.79340829 0.90682901 1.08642606 0.12225438\n",
      "  0.34708853 1.22899831 0.62995163 0.7597619  0.21995788 0.72286059\n",
      "  0.59842611 0.90730314 0.76443504 0.94900482 1.20458005 0.55987031\n",
      "  0.72460282 1.20142449 0.53504266 0.90506945 0.08947736 1.08432519\n",
      "  0.92103772 0.86215722 0.738587   0.23660031 1.19382768 0.7250832\n",
      "  1.06217222 1.07646361 0.37252776 0.80833161 0.91952682 0.60209739\n",
      "  0.12417637 0.27455865 0.75070787 0.89624735 0.67015502 0.6593657\n",
      "  0.30948976 1.05092236 0.9952596  0.70329953 0.45161965 0.70963202\n",
      "  0.96413034 0.20559752 1.13089461 1.01126562 1.15595501 0.29234485\n",
      "  0.35572828 1.1104944  0.73548392 0.69875659 0.94452359 0.61843474\n",
      "  0.81851392 0.         0.86269729 0.93166819 0.35925429 0.77859074\n",
      "  0.33540506 0.7693259  0.16335657 0.73287833 0.93813427 0.47744636\n",
      "  0.35724052 0.24621696 1.17891253 0.66680444 0.99403358 0.74045697\n",
      "  0.06888265 0.15524446 0.94075487 0.29681005 0.49649293 0.01427284\n",
      "  0.25634358 0.8045192  0.18008948 0.37294576 0.65240422 0.47515593\n",
      "  0.62658177 0.98433752 0.8715652  1.09545198]\n",
      " [0.34334519 0.3711532  0.15180746 0.82891328 0.90587657 0.60262433\n",
      "  0.71096007 0.960464   0.70830865 0.50723894 0.47508666 0.77635726\n",
      "  0.87913662 0.71649493 0.46563566 0.60980899 0.69073477 0.38527834\n",
      "  0.89205653 0.14829937 1.01730508 0.1029785  0.75279588 0.84104914\n",
      "  0.51397918 0.76260973 0.80156871 0.84307358 0.77887048 0.45390721\n",
      "  0.18037353 0.46720055 0.7145777  0.62889919 0.69201204 0.51565265\n",
      "  0.82272606 0.47172484 0.8084114  0.62062217 0.13672441 0.33652167\n",
      "  0.7834846  0.71057594 0.14708373 0.79006524 0.96841506 0.36739409\n",
      "  0.79916161 0.60418787 0.39443662 0.34088556 0.56046067 0.19277444\n",
      "  0.18137486 0.74580415 0.78201372 0.66816143 0.76400688 0.57150983\n",
      "  0.51274755 0.80180654 0.77660458 0.85089021 0.7098378  0.57257112\n",
      "  0.92728791 0.86269729 0.         0.08716105 0.87523033 0.31781575\n",
      "  0.67838192 1.05330374 0.72886339 0.13371998 0.89517357 0.96397622\n",
      "  0.52124492 0.6754927  0.69160399 0.99439043 0.50003041 0.47768807\n",
      "  0.80353742 0.85919035 0.20090568 0.60029474 0.64384403 0.86969012\n",
      "  0.61553662 0.18928045 0.80823725 0.49278053 0.84889876 0.48832188\n",
      "  0.64510218 0.56692504 0.65617064 0.49035918]\n",
      " [0.4216521  0.42500764 0.08335892 0.91298838 0.99252009 0.68484654\n",
      "  0.796333   1.04641718 0.79064439 0.57779048 0.51742103 0.85050405\n",
      "  0.96304021 0.76084237 0.55239965 0.6924633  0.75014494 0.46941939\n",
      "  0.97921557 0.09559157 1.10374697 0.1155269  0.8038826  0.928196\n",
      "  0.59766433 0.81491532 0.88867436 0.92300771 0.84601606 0.4941237\n",
      "  0.12293989 0.54107013 0.79892726 0.69588685 0.73906439 0.5993196\n",
      "  0.8924469  0.51564536 0.89325463 0.70104681 0.18445781 0.42302355\n",
      "  0.85807938 0.79173057 0.18758745 0.86919871 1.05546518 0.45416235\n",
      "  0.88229158 0.66325722 0.44651761 0.42649877 0.64610528 0.27959815\n",
      "  0.10517472 0.82421144 0.84355251 0.73507461 0.82173125 0.64301082\n",
      "  0.5870898  0.86644361 0.86157507 0.93714202 0.78386503 0.65927519\n",
      "  1.0117848  0.93166819 0.08716105 0.         0.95947337 0.39865597\n",
      "  0.76161742 1.13993141 0.79169432 0.21519677 0.97483552 1.04997402\n",
      "  0.59802077 0.75394166 0.74072506 1.08150751 0.55988246 0.56056222\n",
      "  0.87472144 0.93631918 0.2478178  0.65918718 0.73075397 0.93790528\n",
      "  0.68946031 0.27006335 0.88638126 0.55914244 0.93571223 0.57347344\n",
      "  0.73169775 0.63167151 0.73358291 0.53268015]\n",
      " [0.54726789 0.64517021 0.99320608 0.46685084 0.14369324 0.5281775\n",
      "  0.41424681 0.12377521 0.51274007 0.71111588 0.92843888 0.27332948\n",
      "  0.01406607 1.00879848 0.47403455 0.51692646 0.49112925 0.58695799\n",
      "  0.24636381 0.97117875 0.40604752 0.93285174 0.96595994 0.2191838\n",
      "  0.52604591 0.95875635 0.20929655 0.59175119 0.38420399 0.93470738\n",
      "  0.99456697 0.68024518 0.45256547 0.42166822 0.97457333 0.52569577\n",
      "  0.77551163 0.91777731 0.07107353 0.56220885 0.87791043 0.54358199\n",
      "  0.26379998 0.19115568 0.81410106 0.59749088 0.31182418 0.55063807\n",
      "  0.08653637 0.83606873 0.8539009  0.59488045 0.31869715 0.68584321\n",
      "  1.02588878 0.20992755 0.86818165 0.76731016 0.90375129 0.40410805\n",
      "  0.42070795 0.83796654 0.42654052 0.3637615  0.67743978 0.40474285\n",
      "  0.47574088 0.35925429 0.87523033 0.95947337 0.         0.66543462\n",
      "  0.20026477 0.41007348 0.44642484 0.7444467  0.61496097 0.1284927\n",
      "  0.39475496 0.25488686 0.95653987 0.30755041 0.81023714 0.55748166\n",
      "  0.31979621 0.20452088 0.87377661 0.5144354  0.27212183 0.37278181\n",
      "  0.35086276 0.74581292 0.18879368 0.49733503 0.31463369 0.38772765\n",
      "  0.37311122 0.77359355 0.61589959 0.93310932]\n",
      " [0.30003352 0.4523665  0.46957689 0.51693982 0.65531979 0.28645435\n",
      "  0.40635801 0.72219675 0.39222495 0.21330486 0.31277178 0.66551523\n",
      "  0.67333656 0.50375076 0.1938677  0.29447109 0.67798887 0.08324527\n",
      "  0.61649751 0.46352314 0.71952459 0.31832743 0.51193198 0.57193847\n",
      "  0.20259525 0.51668099 0.5376396  0.52525828 0.71343382 0.30754883\n",
      "  0.49542904 0.16397145 0.40418189 0.58326228 0.47136825 0.20416308\n",
      "  0.51993143 0.30353049 0.59437628 0.3028363  0.24433661 0.18472461\n",
      "  0.66871364 0.54774414 0.37542257 0.47239706 0.68332686 0.12146134\n",
      "  0.60743937 0.34589967 0.21801469 0.07591462 0.35742041 0.18143823\n",
      "  0.49899925 0.60473678 0.50356732 0.37725193 0.49899772 0.50722545\n",
      "  0.44086446 0.51317632 0.46884463 0.55244967 0.39896298 0.28906769\n",
      "  0.61659849 0.77859074 0.31781575 0.39865597 0.66543462 0.\n",
      "  0.49608201 0.75774333 0.6934399  0.25660892 0.57736562 0.72481146\n",
      "  0.42834691 0.54195832 0.46309654 0.71222371 0.2529997  0.16362834\n",
      "  0.71045539 0.71886102 0.21793134 0.60332017 0.39857958 0.78965268\n",
      "  0.52654624 0.12877825 0.66368923 0.47764895 0.55904885 0.308563\n",
      "  0.35592199 0.29009354 0.34011088 0.32367059]\n",
      " [0.3470417  0.45232398 0.79339377 0.46821178 0.27865366 0.43387561\n",
      "  0.36836475 0.3055887  0.45920168 0.5860546  0.78478826 0.21377688\n",
      "  0.20230794 0.90353518 0.3180451  0.42527276 0.36952137 0.4251354\n",
      "  0.33127488 0.77111441 0.50448818 0.74092035 0.87407211 0.27875479\n",
      "  0.39905091 0.87002638 0.24125275 0.57796072 0.31021813 0.78693675\n",
      "  0.79434059 0.54590089 0.40606478 0.27531763 0.86840019 0.39928111\n",
      "  0.7272457  0.77434522 0.14185953 0.47387328 0.69058688 0.35268505\n",
      "  0.21123266 0.06144944 0.61383835 0.56437506 0.41737869 0.37568646\n",
      "  0.12078494 0.72560169 0.70095509 0.42145877 0.13887638 0.49169731\n",
      "  0.82601351 0.13042769 0.79618121 0.67853963 0.82262659 0.23152624\n",
      "  0.23037443 0.77514798 0.41073838 0.39464904 0.60916528 0.28605635\n",
      "  0.51669256 0.33540506 0.67838192 0.76161742 0.20026477 0.49608201\n",
      "  0.         0.52308937 0.34251851 0.54642087 0.61535349 0.30993226\n",
      "  0.20115807 0.10721558 0.85244586 0.42779264 0.67926937 0.4208564\n",
      "  0.27033936 0.23065393 0.6930196  0.36210811 0.1612395  0.34925177\n",
      "  0.18798187 0.56045259 0.17691463 0.31377817 0.35522268 0.19644548\n",
      "  0.29140627 0.65955844 0.53659417 0.79178285]\n",
      " [0.79987823 0.94815686 1.19720274 0.27228953 0.26774587 0.49135418\n",
      "  0.35304842 0.30437893 0.40168927 0.67979374 0.90407727 0.67725681\n",
      "  0.42233575 0.8796896  0.58771981 0.48005317 0.88176965 0.67744024\n",
      "  0.19225749 1.18275783 0.04090298 1.07440109 0.81256554 0.24690787\n",
      "  0.55728171 0.79949025 0.28813387 0.36279481 0.78915483 0.92066177\n",
      "  1.21192236 0.67844497 0.36421788 0.79573619 0.85185816 0.55585633\n",
      "  0.56352601 0.89429437 0.41005721 0.49826675 1.00199403 0.73238177\n",
      "  0.66869077 0.55516321 1.04603318 0.40564433 0.10577241 0.68593533\n",
      "  0.47161462 0.74458524 0.86560912 0.71474557 0.54892514 0.86625963\n",
      "  1.22951407 0.6016486  0.68715392 0.64132296 0.73615253 0.754094\n",
      "  0.74248908 0.64327968 0.29775684 0.20535778 0.53089161 0.48074966\n",
      "  0.18999231 0.7693259  1.05330374 1.13993141 0.41007348 0.75774333\n",
      "  0.52308937 0.         0.84400774 0.94434249 0.34919717 0.30071077\n",
      "  0.710424   0.62132    0.83151008 0.10254681 0.77213429 0.59760099\n",
      "  0.7275031  0.61441791 0.97129098 0.88469842 0.44004902 0.78282754\n",
      "  0.71059863 0.87779503 0.59576772 0.82929762 0.20540063 0.61731649\n",
      "  0.40823403 0.70254956 0.51241022 0.90194   ]\n",
      " [0.41328116 0.37075841 0.78758318 0.80997019 0.5790206  0.74156058\n",
      "  0.70385315 0.56949652 0.7879645  0.85060814 1.00616645 0.17473053\n",
      "  0.43740631 1.17357482 0.57590813 0.7355533  0.05699317 0.65125921\n",
      "  0.65852458 0.7590586  0.83177822 0.82113134 1.15935337 0.61107432\n",
      "  0.68114113 1.15846546 0.57786567 0.91590332 0.07831628 1.00058345\n",
      "  0.77046245 0.80180518 0.73972845 0.11030831 1.13882068 0.68197621\n",
      "  1.04916668 0.99681954 0.43396027 0.78269315 0.80077477 0.50937381\n",
      "  0.18510287 0.29438988 0.60652599 0.89713475 0.73959003 0.58168545\n",
      "  0.37324845 0.99803273 0.91111217 0.6216237  0.41672426 0.59458385\n",
      "  0.81533486 0.24239023 1.10113624 0.97485233 1.11947288 0.18647912\n",
      "  0.25257603 1.08717608 0.75126578 0.73618627 0.92368476 0.59243504\n",
      "  0.85836446 0.16335657 0.72886339 0.79169432 0.44642484 0.6934399\n",
      "  0.34251851 0.84400774 0.         0.60449894 0.95556921 0.57417977\n",
      "  0.26767818 0.23530609 1.12587877 0.74294752 0.92846225 0.68845965\n",
      "  0.14368338 0.2691635  0.82999996 0.13777035 0.49351291 0.16327783\n",
      "  0.18123046 0.69667663 0.26009741 0.23764706 0.69483852 0.41415363\n",
      "  0.61928995 0.93191479 0.8475912  1.01678543]\n",
      " [0.20982005 0.26443928 0.25553356 0.73630032 0.78167434 0.5214354\n",
      "  0.61280508 0.83326366 0.6247009  0.46769989 0.49825252 0.64374054\n",
      "  0.74790378 0.72665022 0.36029831 0.526626   0.56999869 0.30241029\n",
      "  0.77537676 0.23880542 0.91001828 0.21688745 0.74935335 0.72274224\n",
      "  0.42839162 0.75653651 0.68215996 0.76662966 0.65059401 0.48198757\n",
      "  0.26758615 0.42006117 0.62187634 0.5013883  0.6978607  0.43010715\n",
      "  0.77647116 0.49228193 0.67861843 0.54611439 0.20369467 0.21425775\n",
      "  0.65067605 0.57726122 0.1190675  0.71704811 0.85480831 0.26493364\n",
      "  0.66710285 0.58863177 0.40506058 0.25101603 0.43281049 0.08234037\n",
      "  0.28840614 0.61209504 0.75608807 0.63234276 0.74678785 0.4407836\n",
      "  0.38047592 0.76838518 0.68002724 0.74586055 0.65406374 0.46609059\n",
      "  0.83189033 0.73287833 0.13371998 0.21519677 0.7444467  0.25660892\n",
      "  0.54642087 0.94434249 0.60449894 0.         0.81907122 0.83691791\n",
      "  0.3879165  0.54178661 0.69355461 0.87927043 0.48726817 0.39716939\n",
      "  0.67241612 0.72561188 0.24911838 0.48101423 0.52229888 0.74038005\n",
      "  0.48324393 0.15300588 0.67454005 0.3669322  0.73895677 0.35949828\n",
      "  0.53885945 0.53974516 0.59127289 0.5126985 ]\n",
      " [0.74768336 0.92014697 1.04694238 0.15029266 0.49033098 0.29778395\n",
      "  0.25544061 0.5617827  0.19826842 0.41995053 0.61582108 0.82222904\n",
      "  0.62900953 0.54277718 0.47993881 0.29338481 0.97545752 0.51695568\n",
      "  0.38138928 1.04037508 0.31309268 0.88428716 0.4706445  0.3960821\n",
      "  0.39140144 0.45641832 0.40921754 0.05244916 0.92499787 0.63708778\n",
      "  1.07213182 0.44184357 0.22479923 0.87313955 0.51832759 0.38969158\n",
      "  0.2159522  0.60751623 0.57426844 0.27478517 0.80624864 0.63957445\n",
      "  0.81725186 0.67075996 0.93593306 0.10618506 0.36326569 0.56069268\n",
      "  0.63358711 0.43367272 0.60489158 0.56809149 0.55621248 0.73691785\n",
      "  1.07624729 0.73646287 0.34222188 0.32353333 0.39295092 0.80822583\n",
      "  0.76882208 0.29668304 0.20461622 0.25217386 0.22072826 0.39808166\n",
      "  0.16513562 0.93813427 0.89517357 0.97483552 0.61496097 0.57736562\n",
      "  0.61535349 0.34919717 0.95556921 0.81907122 0.         0.56033194\n",
      "  0.73782091 0.72152832 0.49808512 0.3914159  0.49067191 0.4220902\n",
      "  0.87903957 0.79894086 0.75889137 0.94514402 0.46307346 0.95240138\n",
      "  0.78407031 0.7059781  0.75977849 0.85025078 0.30144193 0.59570459\n",
      "  0.34589222 0.40992378 0.24494363 0.6098323 ]\n",
      " [0.64990026 0.76194807 1.09012853 0.42209632 0.0785769  0.53971495\n",
      "  0.40583389 0.00471957 0.49907203 0.73420801 0.9598897  0.40024734\n",
      "  0.1367803  1.00962408 0.53106024 0.52757771 0.6195136  0.642683\n",
      "  0.17973557 1.06977935 0.30525851 1.01254697 0.95827944 0.18373885\n",
      "  0.55953616 0.94906335 0.20017403 0.54720451 0.51000825 0.96940334\n",
      "  1.09482801 0.71127595 0.4400502  0.54937032 0.97673923 0.55881337\n",
      "  0.74431403 0.94926225 0.16818051 0.56745846 0.95185172 0.62773108\n",
      "  0.39039637 0.31395088 0.91601042 0.56478166 0.21548458 0.61870263\n",
      "  0.21116309 0.84465243 0.89451197 0.66003748 0.40411654 0.77170618\n",
      "  1.1230382  0.33831207 0.84948922 0.76299385 0.8902015  0.52795499\n",
      "  0.53857684 0.81412169 0.3972126  0.31205463 0.66312047 0.44317916\n",
      "  0.40501697 0.47744636 0.96397622 1.04997402 0.1284927  0.72481146\n",
      "  0.30993226 0.30071077 0.57417977 0.83691791 0.56033194 0.\n",
      "  0.51053461 0.3798845  0.95760843 0.20158639 0.83454822 0.59577661\n",
      "  0.44413259 0.32262384 0.94008347 0.64207292 0.32786209 0.49032147\n",
      "  0.4759375  0.81926355 0.31499852 0.61864863 0.26493115 0.47759331\n",
      "  0.39292564 0.78660581 0.61194931 0.96259953]\n",
      " [0.17818491 0.25142144 0.61740079 0.60340655 0.47849042 0.49074599\n",
      "  0.48268006 0.50612253 0.553127   0.58414471 0.74040938 0.25716449\n",
      "  0.3939954  0.90652152 0.31277813 0.48652857 0.26207341 0.38358221\n",
      "  0.51874485 0.59263497 0.68720584 0.59975237 0.89451877 0.4635592\n",
      "  0.42101572 0.89432323 0.42239584 0.69250263 0.28592602 0.73589205\n",
      "  0.61277547 0.53475882 0.51365455 0.1595683  0.87187635 0.42202214\n",
      "  0.8017017  0.7308813  0.34237644 0.5313106  0.56465158 0.24680063\n",
      "  0.26350733 0.20665249 0.43248272 0.66450551 0.60606036 0.31429689\n",
      "  0.30911447 0.73177628 0.64636054 0.35514936 0.18216421 0.35468089\n",
      "  0.64910148 0.22711183 0.84278051 0.71432322 0.85789437 0.08243089\n",
      "  0.03252329 0.83247377 0.54091173 0.55472791 0.67272264 0.34818966\n",
      "  0.67195688 0.35724052 0.52124492 0.59802077 0.39475496 0.42834691\n",
      "  0.20115807 0.710424   0.26767818 0.3879165  0.73782091 0.51053461\n",
      "  0.         0.1574325  0.85928632 0.62023796 0.66079515 0.42435719\n",
      "  0.2918303  0.33831844 0.58368007 0.2101305  0.28633661 0.36696107\n",
      "  0.10090463 0.44733482 0.28875969 0.11952412 0.52415559 0.15333358\n",
      "  0.39193306 0.66598945 0.59591161 0.75063718]\n",
      " [0.33244669 0.39731536 0.77480208 0.57504181 0.36512488 0.52525226\n",
      "  0.47214638 0.37522713 0.56013595 0.66075493 0.84489879 0.12589291\n",
      "  0.25108807 0.98278154 0.38433061 0.51773679 0.2636731  0.480809\n",
      "  0.4313836  0.75006611 0.60534017 0.74962912 0.95895645 0.38101627\n",
      "  0.47853652 0.95609988 0.34550779 0.68313409 0.20711526 0.84418392\n",
      "  0.77007471 0.61655758 0.50907892 0.17478211 0.94761074 0.47904188\n",
      "  0.82598726 0.83475862 0.21842594 0.56607253 0.70864887 0.37544644\n",
      "  0.12761588 0.06739788 0.58989674 0.66730141 0.51567586 0.42090122\n",
      "  0.16901662 0.80470801 0.75584903 0.46605658 0.20544015 0.5008512\n",
      "  0.80652979 0.07031812 0.8883732  0.76680366 0.91175178 0.14940198\n",
      "  0.17598149 0.87005989 0.5169674  0.50146728 0.7045278  0.37496993\n",
      "  0.62359264 0.24621696 0.6754927  0.75394166 0.25488686 0.54195832\n",
      "  0.10721558 0.62132    0.23530609 0.54178661 0.72152832 0.3798845\n",
      "  0.1574325  0.         0.9327155  0.52303881 0.7488987  0.49433195\n",
      "  0.17773391 0.18505503 0.72071036 0.26571647 0.26225355 0.2590986\n",
      "  0.09610172 0.58457418 0.13277665 0.24454328 0.46116189 0.23389549\n",
      "  0.39114038 0.73812112 0.63013373 0.85332024]\n",
      " [0.7597545  0.91530428 0.82406354 0.56650419 0.87905951 0.42882467\n",
      "  0.55187406 0.95712705 0.46008521 0.27527074 0.22697874 1.05756413\n",
      "  0.96871888 0.05228192 0.55186742 0.43980232 1.12011463 0.47965276\n",
      "  0.79011992 0.83181435 0.79173606 0.62601041 0.06555546 0.77396031\n",
      "  0.45458481 0.08013226 0.76131148 0.47124688 1.12985775 0.25235326\n",
      "  0.86210781 0.32478283 0.51788286 1.01885405 0.02037016 0.45418292\n",
      "  0.29256654 0.2268174  0.89261435 0.3944727  0.55886317 0.63737564\n",
      "  1.05756711 0.91328454 0.80267695 0.42589274 0.81214601 0.55179762\n",
      "  0.93222829 0.12824697 0.29718953 0.51967117 0.72729295 0.63367691\n",
      "  0.84323242 0.98069317 0.17097323 0.19577826 0.12151814 0.94165396\n",
      "  0.87911356 0.21728866 0.56801381 0.66690214 0.30332324 0.56759091\n",
      "  0.64197267 1.17891253 0.69160399 0.74072506 0.95653987 0.46309654\n",
      "  0.85244586 0.83151008 1.12587877 0.69355461 0.49808512 0.95760843\n",
      "  0.85928632 0.9327155  0.         0.84416153 0.21033505 0.43958106\n",
      "  1.11041614 1.08126975 0.4940052  1.05386587 0.70157856 1.1918039\n",
      "  0.9473405  0.54059953 1.02889146 0.93032816 0.70460959 0.7128113\n",
      "  0.58404727 0.19484198 0.34566047 0.21239455]\n",
      " [0.72198364 0.86301131 1.13423029 0.27844985 0.16533879 0.46638015\n",
      "  0.32191572 0.20492829 0.39206103 0.66253397 0.89083222 0.57520748\n",
      "  0.3198728  0.89439541 0.53095034 0.45429549 0.78175199 0.62973255\n",
      "  0.10522919 1.11802609 0.10389651 1.02383904 0.83299353 0.16056683\n",
      "  0.51832735 0.82137681 0.20287805 0.39162224 0.68709917 0.9050687\n",
      "  1.1462127  0.65337223 0.3432929  0.69778948 0.86424941 0.51709236\n",
      "  0.5957511  0.88062804 0.30914339 0.4815072  0.95435819 0.66526171\n",
      "  0.56653872 0.45629533 0.97566906 0.42378008 0.03229107 0.62852497\n",
      "  0.37000607 0.74578126 0.84233436 0.66167288 0.46758766 0.80392465\n",
      "  1.16690677 0.50057014 0.71307534 0.64937502 0.75917149 0.65931886\n",
      "  0.65183481 0.67230096 0.28172545 0.18024329 0.54089095 0.42578198\n",
      "  0.2267437  0.66680444 0.99439043 1.08150751 0.30755041 0.71222371\n",
      "  0.42779264 0.10254681 0.74294752 0.87927043 0.3914159  0.20158639\n",
      "  0.62023796 0.52303881 0.84416153 0.         0.75949304 0.55853224\n",
      "  0.6251206  0.5119489  0.92927593 0.78774279 0.36221286 0.68032267\n",
      "  0.61404592 0.82618151 0.49337758 0.73802505 0.15580276 0.53889284\n",
      "  0.35636878 0.69684933 0.50821947 0.8904268 ]\n",
      " [0.55120173 0.7050076  0.6419296  0.50064982 0.75715608 0.29731957\n",
      "  0.4405205  0.833185   0.37088496 0.10034326 0.13198132 0.87477967\n",
      "  0.82104997 0.25113401 0.3647101  0.30965313 0.91897838 0.27731111\n",
      "  0.68515518 0.64563359 0.73124254 0.44983147 0.2624511  0.65643089\n",
      "  0.2850746  0.26927182 0.63440627 0.44708109 0.9385249  0.14931386\n",
      "  0.67706176 0.13336873 0.41620549 0.81978017 0.21839928 0.28526695\n",
      "  0.34734007 0.12216255 0.74185692 0.27799179 0.37548703 0.43045633\n",
      "  0.87597152 0.73814509 0.59968295 0.39103232 0.72741639 0.34813888\n",
      "  0.77246384 0.10416654 0.12270424 0.31269672 0.54598914 0.4243231\n",
      "  0.66481425 0.8028995  0.28370038 0.18634252 0.26410708 0.74257469\n",
      "  0.67831566 0.30891836 0.47912866 0.57999232 0.27057159 0.40621493\n",
      "  0.59428214 0.99403358 0.50003041 0.55988246 0.81023714 0.2529997\n",
      "  0.67926937 0.77213429 0.92846225 0.48726817 0.49067191 0.83454822\n",
      "  0.66079515 0.7488987  0.21033505 0.75949304 0.         0.25858468\n",
      "  0.92515473 0.90990396 0.31386426 0.84931877 0.54164548 1.00631035\n",
      "  0.75309588 0.33523329 0.8557679  0.72468901 0.60673998 0.52044717\n",
      "  0.44265007 0.08286782 0.26151469 0.13093864]\n",
      " [0.35984371 0.532443   0.62867311 0.35335999 0.52139907 0.12536974\n",
      "  0.2447444  0.59379619 0.2307239  0.16646398 0.37108523 0.6198228\n",
      "  0.56756031 0.4889594  0.11264581 0.13213003 0.68642796 0.09486557\n",
      "  0.46804759 0.62035581 0.55871589 0.48175327 0.47089373 0.42875288\n",
      "  0.04041425 0.47018785 0.39927017 0.36964159 0.6903006  0.37735249\n",
      "  0.65184446 0.12534319 0.24064015 0.58331339 0.4538403  0.04178245\n",
      "  0.40269277 0.36043551 0.48776192 0.14940718 0.40682143 0.23722868\n",
      "  0.62040594 0.48013031 0.51468598 0.31999707 0.52847387 0.14808954\n",
      "  0.51504279 0.31133493 0.2989904  0.14660126 0.2895094  0.31521303\n",
      "  0.65899596 0.54568894 0.42223039 0.29199869 0.43407996 0.50664381\n",
      "  0.44707748 0.41771947 0.30570327 0.39237105 0.2724932  0.15385913\n",
      "  0.45297117 0.74045697 0.47768807 0.56056222 0.55748166 0.16362834\n",
      "  0.4208564  0.59760099 0.68845965 0.39716939 0.4220902  0.59577661\n",
      "  0.42435719 0.49433195 0.43958106 0.55853224 0.25858468 0.\n",
      "  0.6717559  0.65150981 0.37369045 0.62707448 0.28603203 0.75314676\n",
      "  0.50867891 0.2907183  0.5975514  0.50865117 0.40331483 0.27434053\n",
      "  0.20729349 0.24475282 0.20094761 0.37621804]\n",
      " [0.46587516 0.47198669 0.88191562 0.72960716 0.45978505 0.70106615\n",
      "  0.63739768 0.43955509 0.72943011 0.83809151 1.01778213 0.05698911\n",
      "  0.3090102  1.16041332 0.56112239 0.6931132  0.19886924 0.65410745\n",
      "  0.55015333 0.85470188 0.71970595 0.88764227 1.13655546 0.50828754\n",
      "  0.65626665 1.1335634  0.48065238 0.84444308 0.06832207 1.01584358\n",
      "  0.86989884 0.79331199 0.6755581  0.18639409 1.12524826 0.65676786\n",
      "  0.99757413 1.00779934 0.3223335  0.7416295  0.85586352 0.53509377\n",
      "  0.0620349  0.21049874 0.69647476 0.83364423 0.62579055 0.5909344\n",
      "  0.25890937 0.98237574 0.92685141 0.63503804 0.38316972 0.64581083\n",
      "  0.91169111 0.14276606 1.06420101 0.94378932 1.08860621 0.2320561\n",
      "  0.29282283 1.04453514 0.67535759 0.64387196 0.87864386 0.55121673\n",
      "  0.76483494 0.06888265 0.80353742 0.87472144 0.31979621 0.71045539\n",
      "  0.27033936 0.7275031  0.14368338 0.67241612 0.87903957 0.44413259\n",
      "  0.2918303  0.17773391 1.11041614 0.6251206  0.92515473 0.6717559\n",
      "  0.         0.12747658 0.87543292 0.26061711 0.43155367 0.08139944\n",
      "  0.19138625 0.73900097 0.13174314 0.31908363 0.59871721 0.40636859\n",
      "  0.56171517 0.9157773  0.80517363 1.02674555]\n",
      " [0.51584516 0.55871294 0.9533546  0.6486887  0.34805987 0.65797067\n",
      "  0.57205374 0.31818893 0.66876899 0.81654909 1.01408089 0.10287138\n",
      "  0.19208225 1.13265183 0.54768362 0.64847695 0.32218951 0.65211331\n",
      "  0.44688827 0.92769174 0.61040555 0.93458649 1.10056457 0.41169418\n",
      "  0.6291683  1.09574835 0.39081097 0.76944909 0.19578148 1.01540552\n",
      "  0.94603495 0.77653557 0.611162   0.28538847 1.0975777  0.62934374\n",
      "  0.93794445 1.00370307 0.22555539 0.69676856 0.89347996 0.55877462\n",
      "  0.09219121 0.17262332 0.76747253 0.76606407 0.51613186 0.59741647\n",
      "  0.16545062 0.95503779 0.92847281 0.64315412 0.36638711 0.68590532\n",
      "  0.9845283  0.11602404 1.01664534 0.90337364 1.04609809 0.30472118\n",
      "  0.35094727 0.99219028 0.59990008 0.55371428 0.8268933  0.51371198\n",
      "  0.67125494 0.15524446 0.85919035 0.93631918 0.20452088 0.71886102\n",
      "  0.23065393 0.61441791 0.2691635  0.72561188 0.79894086 0.32262384\n",
      "  0.33831844 0.18505503 1.08126975 0.5119489  0.90990396 0.65150981\n",
      "  0.12747658 0.         0.90422481 0.3717152  0.38156649 0.16852257\n",
      "  0.25176076 0.76847478 0.05518001 0.40158891 0.50604587 0.41096422\n",
      "  0.50795746 0.88926466 0.75740191 1.0214272 ]\n",
      " [0.41694431 0.51215202 0.33086362 0.72069755 0.87197312 0.48728668\n",
      "  0.61835708 0.93730685 0.59028583 0.34467281 0.2743861  0.83750566\n",
      "  0.88065495 0.51666629 0.40958276 0.49714344 0.80225594 0.30115934\n",
      "  0.83432038 0.33781069 0.93234206 0.13596782 0.55658836 0.78983889\n",
      "  0.41402954 0.5673528  0.7552481  0.70881296 0.86546101 0.25300213\n",
      "  0.36821783 0.31704798 0.611605   0.72173712 0.49326813 0.41544429\n",
      "  0.65375987 0.27136193 0.80311627 0.4938058  0.06504616 0.34545811\n",
      "  0.84249345 0.73860634 0.33134955 0.65283404 0.90000236 0.3233879\n",
      "  0.80969801 0.41638244 0.19870385 0.28033389 0.55782232 0.23559752\n",
      "  0.35199773 0.78823837 0.59735396 0.49387933 0.5741876  0.65217029\n",
      "  0.58631531 0.62224895 0.67775529 0.76604543 0.55411248 0.50699891\n",
      "  0.82080297 0.94075487 0.20090568 0.2478178  0.87377661 0.21793134\n",
      "  0.6930196  0.97129098 0.82999996 0.24911838 0.75889137 0.94008347\n",
      "  0.58368007 0.72071036 0.4940052  0.92927593 0.31386426 0.37369045\n",
      "  0.87543292 0.90422481 0.         0.71664535 0.61249161 0.95012729\n",
      "  0.68448088 0.1365576  0.84978434 0.59512831 0.77526803 0.49739097\n",
      "  0.57331884 0.38901175 0.51396263 0.28968078]\n",
      " [0.30735467 0.23524656 0.65160888 0.80717149 0.63083947 0.70025792\n",
      "  0.68970399 0.63736641 0.76285747 0.78078882 0.91405132 0.2689162\n",
      "  0.50837918 1.09905652 0.51789083 0.69631997 0.09096461 0.57421514\n",
      "  0.6932648  0.6228502  0.86659557 0.69574631 1.09320428 0.6408143\n",
      "  0.62744538 1.09416416 0.60262917 0.90085776 0.20756157 0.90581233\n",
      "  0.63348332 0.72972007 0.72192442 0.09277323 1.06505739 0.62855412\n",
      "  1.01125032 0.90531182 0.48399879 0.74060922 0.68187129 0.41964615\n",
      "  0.27970446 0.33310015 0.47262082 0.87417919 0.77892642 0.50214003\n",
      "  0.43133745 0.92803624 0.81726872 0.53686132 0.38917036 0.48186686\n",
      "  0.67885154 0.30555478 1.04844736 0.91886194 1.06098669 0.13750559\n",
      "  0.18224172 1.04002931 0.74539603 0.74903558 0.88179336 0.55828156\n",
      "  0.86930281 0.29681005 0.60029474 0.65918718 0.5144354  0.60332017\n",
      "  0.36210811 0.88469842 0.13777035 0.48101423 0.94514402 0.64207292\n",
      "  0.2101305  0.26571647 1.05386587 0.78774279 0.84931877 0.62707448\n",
      "  0.26061711 0.3717152  0.71664535 0.         0.48632557 0.29866225\n",
      "  0.17416668 0.58762712 0.34562707 0.12583373 0.7134866  0.36235322\n",
      "  0.59979555 0.86350796 0.80498246 0.92578517]\n",
      " [0.36046213 0.51006102 0.77781442 0.32120308 0.26325963 0.27640526\n",
      "  0.21039749 0.32497562 0.29838613 0.44405707 0.65710149 0.37501436\n",
      "  0.28179511 0.75333674 0.20489422 0.26699621 0.5124103  0.31774973\n",
      "  0.2570099  0.76004634 0.41180645 0.6864422  0.71914444 0.20240298\n",
      "  0.25657284 0.71419792 0.16077004 0.42242458 0.46902689 0.66284505\n",
      "  0.78733429 0.41001251 0.24688506 0.41059157 0.71842905 0.25640042\n",
      "  0.56602063 0.64645581 0.20188814 0.31540156 0.6242936  0.3084714\n",
      "  0.3723262  0.22197258 0.61433954 0.40505227 0.34125464 0.29091288\n",
      "  0.23177306 0.57677187 0.58178723 0.33226561 0.11013178 0.45115653\n",
      "  0.81070119 0.29106669 0.63662838 0.52180993 0.66479455 0.34882457\n",
      "  0.31874353 0.61448293 0.26016218 0.26905592 0.4485185  0.13589291\n",
      "  0.38564035 0.49649293 0.64384403 0.73075397 0.27212183 0.39857958\n",
      "  0.1612395  0.44004902 0.49351291 0.52229888 0.46307346 0.32786209\n",
      "  0.28633661 0.26225355 0.70157856 0.36221286 0.54164548 0.28603203\n",
      "  0.43155367 0.38156649 0.61249161 0.48632557 0.         0.51039089\n",
      "  0.32122497 0.49183341 0.33123706 0.40493371 0.24225274 0.17744981\n",
      "  0.13016718 0.51198893 0.37694421 0.66220077]\n",
      " [0.53698605 0.52515073 0.94013607 0.80241851 0.51601246 0.7815044\n",
      "  0.71422912 0.48595681 0.80743978 0.91946943 1.09799436 0.13583231\n",
      "  0.36052518 1.24181213 0.64243333 0.7733864  0.21921623 0.7346261\n",
      "  0.61241168 0.91222628 0.778161   0.95674558 1.21776311 0.57401894\n",
      "  0.73760567 1.2146825  0.54928043 0.91930512 0.09291024 1.0956917\n",
      "  0.92553291 0.8745904  0.75269625 0.24217259 1.20664673 0.73809926\n",
      "  1.07614758 1.08806154 0.38666663 0.82194593 0.9281727  0.61242989\n",
      "  0.1380703  0.28849899 0.75620053 0.91039231 0.68387566 0.6707204\n",
      "  0.32366746 1.06377097 1.00655296 0.71448336 0.46453862 0.7184127\n",
      "  0.96898048 0.21959962 1.14452113 1.02466755 1.16940188 0.30037179\n",
      "  0.36447089 1.12427262 0.74972931 0.71299573 0.95831104 0.63190267\n",
      "  0.83271463 0.01427284 0.86969012 0.93790528 0.37278181 0.78965268\n",
      "  0.34925177 0.78282754 0.16327783 0.74038005 0.95240138 0.49032147\n",
      "  0.36696107 0.2590986  1.1918039  0.68032267 1.00631035 0.75314676\n",
      "  0.08139944 0.16852257 0.95012729 0.29866225 0.51039089 0.\n",
      "  0.26608002 0.81401657 0.19430101 0.37884333 0.66661502 0.48702086\n",
      "  0.64050322 0.99717389 0.88525149 1.10711355]\n",
      " [0.27512974 0.30929087 0.70276605 0.6419185  0.45898157 0.56063476\n",
      "  0.52980402 0.47128562 0.61031324 0.67223708 0.8374649  0.16105132\n",
      "  0.34674159 0.99567945 0.39603321 0.55483046 0.19169277 0.47712005\n",
      "  0.51909864 0.67670678 0.69246059 0.69733713 0.97939276 0.46673052\n",
      "  0.50022725 0.97818402 0.4288425  0.74224708 0.18697401 0.83379825\n",
      "  0.69453402 0.62437731 0.56437224 0.08967461 0.96076723 0.50103532\n",
      "  0.86908178 0.82777165 0.31320464 0.60175045 0.66449536 0.34686984\n",
      "  0.16870832 0.1624962  0.51670278 0.72047219 0.60483089 0.40995216\n",
      "  0.26511617 0.81923918 0.74434669 0.45230761 0.23646788 0.45443977\n",
      "  0.7336395  0.15278751 0.91990979 0.79379269 0.93851284 0.05526658\n",
      "  0.1028003  0.90608186 0.58133509 0.5779365  0.74291592 0.41203499\n",
      "  0.69910704 0.25634358 0.61553662 0.68946031 0.35086276 0.52654624\n",
      "  0.18798187 0.71059863 0.18123046 0.48324393 0.78407031 0.4759375\n",
      "  0.10090463 0.09610172 0.9473405  0.61404592 0.75309588 0.50867891\n",
      "  0.19138625 0.25176076 0.68448088 0.17416668 0.32122497 0.26608002\n",
      "  0.         0.54819121 0.20840701 0.15303505 0.5409227  0.23454512\n",
      "  0.44272795 0.75288625 0.66667356 0.84727922]\n",
      " [0.2835166  0.39717641 0.3410877  0.64373224 0.75445714 0.41478454\n",
      "  0.52956849 0.81621825 0.52058313 0.32468755 0.34857688 0.70095666\n",
      "  0.75197328 0.57375813 0.29606985 0.42246055 0.67122846 0.20139623\n",
      "  0.72698261 0.33601065 0.84046919 0.19766646 0.59682467 0.67910799\n",
      "  0.32839206 0.60432644 0.64205831 0.65393061 0.7300127  0.33413734\n",
      "  0.36804148 0.2811689  0.53011432 0.58766457 0.54485819 0.33002473\n",
      "  0.63887471 0.34197696 0.67577331 0.43157972 0.13265862 0.20991532\n",
      "  0.7059746  0.60418068 0.2647921  0.60079416 0.79849769 0.20137212\n",
      "  0.67860268 0.43759358 0.25359041 0.16453957 0.42769577 0.10744001\n",
      "  0.37028183 0.65245319 0.60868899 0.48853351 0.59670327 0.51691982\n",
      "  0.45072299 0.62402793 0.5937074  0.67326193 0.52253286 0.40042491\n",
      "  0.74295315 0.8045192  0.18928045 0.27006335 0.74581292 0.12877825\n",
      "  0.56045259 0.87779503 0.69667663 0.15300588 0.7059781  0.81926355\n",
      "  0.44733482 0.58457418 0.54059953 0.82618151 0.33523329 0.2907183\n",
      "  0.73900097 0.76847478 0.1365576  0.58762712 0.49183341 0.81401657\n",
      "  0.54819121 0.         0.7142192  0.46409214 0.67590159 0.36409902\n",
      "  0.47111394 0.39178597 0.4671402  0.36261712]\n",
      " [0.46508351 0.51762386 0.90568551 0.6095645  0.32804283 0.60737145\n",
      "  0.52687343 0.31035206 0.62246066 0.7629469  0.95921908 0.08544974\n",
      "  0.17865306 1.08011406 0.49301001 0.59816405 0.30830957 0.5970281\n",
      "  0.41980786 0.88049175 0.58830664 0.88207639 1.04929476 0.37996617\n",
      "  0.57593121 1.04479851 0.35503987 0.72817858 0.19542298 0.96040697\n",
      "  0.89966926 0.72241507 0.56581349 0.25513718 1.04500145 0.57614794\n",
      "  0.89185604 0.94885662 0.19276626 0.64661904 0.83985043 0.50439699\n",
      "  0.07541579 0.11783759 0.72020101 0.72213717 0.49428028 0.54224822\n",
      "  0.12950291 0.90229352 0.87338744 0.58799272 0.31152472 0.63291733\n",
      "  0.9371619  0.06256929 0.96758933 0.85269893 0.99599941 0.26303854\n",
      "  0.3038309  0.94423474 0.55839263 0.51875481 0.77855295 0.46166216\n",
      "  0.63842748 0.18008948 0.80823725 0.88638126 0.18879368 0.66368923\n",
      "  0.17691463 0.59576772 0.26009741 0.67454005 0.75977849 0.31499852\n",
      "  0.28875969 0.13277665 1.02889146 0.49337758 0.8557679  0.5975514\n",
      "  0.13174314 0.05518001 0.84978434 0.34562707 0.33123706 0.19430101\n",
      "  0.20840701 0.7142192  0.         0.36090213 0.47231526 0.35587665\n",
      "  0.45923371 0.83634223 0.70800663 0.96665057]\n",
      " [0.18202998 0.1571314  0.56297347 0.71925423 0.59242575 0.59035096\n",
      "  0.59629933 0.6141021  0.66118605 0.65849121 0.78821817 0.30427588\n",
      "  0.49458881 0.974929   0.40244798 0.58756567 0.20723134 0.4509154\n",
      "  0.63735345 0.53564488 0.80651753 0.58369119 0.97105901 0.58238998\n",
      "  0.51235603 0.9725373  0.54146768 0.80354556 0.28689135 0.78004404\n",
      "  0.55094347 0.60699451 0.62547133 0.13674442 0.94112591 0.51357781\n",
      "  0.90028957 0.77947921 0.45171589 0.62980384 0.5636968  0.29445028\n",
      "  0.31349873 0.30619377 0.37794701 0.77237611 0.72462057 0.37864571\n",
      "  0.41080528 0.80523534 0.69145056 0.41201439 0.29833957 0.35959621\n",
      "  0.59262345 0.30572643 0.93087575 0.80057025 0.94127527 0.09792391\n",
      "  0.08707866 0.92472808 0.6564834  0.67375165 0.76978052 0.4551606\n",
      "  0.79022713 0.37294576 0.49278053 0.55914244 0.49733503 0.47764895\n",
      "  0.31377817 0.82929762 0.23764706 0.3669322  0.85025078 0.61864863\n",
      "  0.11952412 0.24454328 0.93032816 0.73802505 0.72468901 0.50865117\n",
      "  0.31908363 0.40158891 0.59512831 0.12583373 0.40493371 0.37884333\n",
      "  0.15303505 0.46409214 0.36090213 0.         0.6436383  0.25580671\n",
      "  0.50501741 0.74131865 0.69325844 0.79995595]\n",
      " [0.59820367 0.75217449 0.99205675 0.15759173 0.19073498 0.31158877\n",
      "  0.16693714 0.26568877 0.24540786 0.50873242 0.7374688  0.54337731\n",
      "  0.32869928 0.7559263  0.38331702 0.29940305 0.72458938 0.4772409\n",
      "  0.08690114 0.97742621 0.17248415 0.87323889 0.69981249 0.09554889\n",
      "  0.36300948 0.68962565 0.11816212 0.28333168 0.65211662 0.75102229\n",
      "  1.00654065 0.49796389 0.19168782 0.62971288 0.72432156 0.36174179\n",
      "  0.47945957 0.72716508 0.28077101 0.32915795 0.80234784 0.52708496\n",
      "  0.53683683 0.40064118 0.84097363 0.30011986 0.1251974  0.48154992\n",
      "  0.3430821  0.59954068 0.68691826 0.51193115 0.35238449 0.66106952\n",
      "  1.0244294  0.459676   0.58688391 0.50883168 0.62935265 0.57788883\n",
      "  0.55666521 0.55020699 0.13672194 0.04929687 0.40419659 0.27655694\n",
      "  0.16619205 0.65240422 0.84889876 0.93571223 0.31463369 0.55904885\n",
      "  0.35522268 0.20540063 0.69483852 0.73895677 0.30144193 0.26493115\n",
      "  0.52415559 0.46116189 0.70460959 0.15580276 0.60673998 0.40331483\n",
      "  0.59871721 0.50604587 0.77526803 0.7134866  0.24225274 0.66661502\n",
      "  0.5409227  0.67590159 0.47231526 0.6436383  0.         0.41714725\n",
      "  0.20481805 0.54732015 0.3619012  0.73760945]\n",
      " [0.1831325  0.33709113 0.61267781 0.46963129 0.42501709 0.33790714\n",
      "  0.34379326 0.4738906  0.40538178 0.43778016 0.61170091 0.35867862\n",
      "  0.39240913 0.7612781  0.16175501 0.33410736 0.41415064 0.24776971\n",
      "  0.43368618 0.59281816 0.58831522 0.545824   0.74522179 0.37846733\n",
      "  0.26829945 0.74432545 0.33629773 0.54828968 0.41828893 0.61048571\n",
      "  0.61860114 0.39039469 0.37101161 0.3100625  0.7263283  0.26924967\n",
      "  0.64889717 0.60165087 0.320148   0.37828208 0.4941799  0.15664374\n",
      "  0.36124851 0.24177473 0.44192322 0.51657635 0.51859231 0.18722089\n",
      "  0.3156463  0.58469571 0.52200033 0.23266914 0.07413893 0.29811752\n",
      "  0.64560625 0.29627531 0.68993637 0.56205269 0.70615775 0.23432887\n",
      "  0.18017595 0.67916722 0.40675055 0.43857856 0.51957493 0.19936048\n",
      "  0.54805467 0.47515593 0.48832188 0.57347344 0.38772765 0.308563\n",
      "  0.19644548 0.61731649 0.41415363 0.35949828 0.59570459 0.47759331\n",
      "  0.15333358 0.23389549 0.7128113  0.53889284 0.52044717 0.27434053\n",
      "  0.40636859 0.41096422 0.49739097 0.36235322 0.17744981 0.48702086\n",
      "  0.23454512 0.36409902 0.35587665 0.25580671 0.41714725 0.\n",
      "  0.25264928 0.51834448 0.442756   0.62047426]\n",
      " [0.41931804 0.58594826 0.78983603 0.21743692 0.31666853 0.1552494\n",
      "  0.09134361 0.39133968 0.16908351 0.34240756 0.56697792 0.5051791\n",
      "  0.38500898 0.63624454 0.17971917 0.14429097 0.63435244 0.27336742\n",
      "  0.26172134 0.77626044 0.37234096 0.6685351  0.59667884 0.22151209\n",
      "  0.16876019 0.59067192 0.19369945 0.30108207 0.59822854 0.57659241\n",
      "  0.80595476 0.31842956 0.12220276 0.53064017 0.60183601 0.1678407\n",
      "  0.43586528 0.55634655 0.30858724 0.19104433 0.59818145 0.33129298\n",
      "  0.50243302 0.35202542 0.6452674  0.27793546 0.32784376 0.27781442\n",
      "  0.35091366 0.46296343 0.50336552 0.3071265  0.21062589 0.45935419\n",
      "  0.82197301 0.42106627 0.50868805 0.39807439 0.53897475 0.46339127\n",
      "  0.42295759 0.4851107  0.15479442 0.20701326 0.31932794 0.07286458\n",
      "  0.30159842 0.62658177 0.64510218 0.73169775 0.37311122 0.35592199\n",
      "  0.29140627 0.40823403 0.61928995 0.53885945 0.34589222 0.39292564\n",
      "  0.39193306 0.39114038 0.58404727 0.35636878 0.44265007 0.20729349\n",
      "  0.56171517 0.50795746 0.57331884 0.59979555 0.13016718 0.64050322\n",
      "  0.44272795 0.47111394 0.45923371 0.50501741 0.20481805 0.25264928\n",
      "  0.         0.40087364 0.24966636 0.56983649]\n",
      " [0.57604917 0.73864425 0.71255175 0.43026016 0.70832277 0.24748333\n",
      "  0.38421332 0.785625   0.3049331  0.08283497 0.20663574 0.86316832\n",
      "  0.78519909 0.24468291 0.35713616 0.25942058 0.92747599 0.29105063\n",
      "  0.62898091 0.71430023 0.66167843 0.5244393  0.22975384 0.60507363\n",
      "  0.26070246 0.23155261 0.58704901 0.36785656 0.93504985 0.22723152\n",
      "  0.74609165 0.13476285 0.35564551 0.82550188 0.2095041  0.2603971\n",
      "  0.26636229 0.1979486  0.70746098 0.21998049 0.44828843 0.45165224\n",
      "  0.86333428 0.72007064 0.65579946 0.31254384 0.66458302 0.36323094\n",
      "  0.74364318 0.06662166 0.20447701 0.33565158 0.53275887 0.47002946\n",
      "  0.73684534 0.78703143 0.21690303 0.10532478 0.20890741 0.7484176\n",
      "  0.68673473 0.23503157 0.4151267  0.51660876 0.18924552 0.37662461\n",
      "  0.52072953 0.98433752 0.56692504 0.63167151 0.77359355 0.29009354\n",
      "  0.65955844 0.70254956 0.93191479 0.53974516 0.40992378 0.78660581\n",
      "  0.66598945 0.73812112 0.19484198 0.69684933 0.08286782 0.24475282\n",
      "  0.9157773  0.88926466 0.38901175 0.86350796 0.51198893 0.99717389\n",
      "  0.75288625 0.39178597 0.83634223 0.74131865 0.54732015 0.51834448\n",
      "  0.40087364 0.         0.190288   0.20198118]\n",
      " [0.55731279 0.73106796 0.8078501  0.24017231 0.53340486 0.10603914\n",
      "  0.20631211 0.61148036 0.1166574  0.17802764 0.39285027 0.74942946\n",
      "  0.62858828 0.39768782 0.29204297 0.11249942 0.85424846 0.29160487\n",
      "  0.44608201 0.8030926  0.47152199 0.6402515  0.35012899 0.42830609\n",
      "  0.183838   0.34290112 0.4163843  0.19546119 0.83602035 0.41081503\n",
      "  0.83508733 0.19691979 0.1724684  0.749409   0.36484906 0.18239687\n",
      "  0.20706615 0.38335158 0.55504538 0.06493524 0.56207259 0.43698539\n",
      "  0.74754368 0.59793797 0.71004832 0.13903734 0.47592866 0.34891439\n",
      "  0.60020286 0.23790017 0.36628856 0.34471859 0.43114247 0.51071273\n",
      "  0.83628632 0.66701498 0.25969991 0.15190832 0.28949566 0.67565313\n",
      "  0.62274083 0.24012117 0.22696612 0.32817132 0.07681896 0.25591042\n",
      "  0.33277016 0.8715652  0.65617064 0.73358291 0.61589959 0.34011088\n",
      "  0.53659417 0.51241022 0.8475912  0.59127289 0.24494363 0.61194931\n",
      "  0.59591161 0.63013373 0.34566047 0.50821947 0.26151469 0.20094761\n",
      "  0.80517363 0.75740191 0.51396263 0.80498246 0.37694421 0.88525149\n",
      "  0.66667356 0.4671402  0.70800663 0.69325844 0.3619012  0.442756\n",
      "  0.24966636 0.190288   0.         0.38999386]\n",
      " [0.61979448 0.75667373 0.61596698 0.62998314 0.88566    0.42757907\n",
      "  0.571241   0.96109739 0.5012676  0.22973501 0.01530999 0.9788265\n",
      "  0.9434354  0.22817505 0.47381386 0.4399115  1.00158684 0.37271819\n",
      "  0.81560898 0.62556173 0.86103713 0.41727685 0.2776391  0.78588107\n",
      "  0.40725212 0.29090966 0.76269422 0.56925671 1.03418542 0.03996328\n",
      "  0.65508113 0.25304101 0.54714237 0.90671419 0.20795425 0.4076761\n",
      "  0.44294232 0.02079174 0.86375497 0.40892967 0.35458733 0.50837599\n",
      "  0.98093606 0.84884121 0.61283306 0.51432742 0.8583436  0.43735331\n",
      "  0.89075301 0.1821384  0.11024339 0.39548819 0.65514033 0.46613648\n",
      "  0.63367696 0.91124215 0.3501969  0.29027886 0.31363956 0.8303977\n",
      "  0.76426996 0.38714487 0.6099106  0.71086929 0.38942774 0.52840085\n",
      "  0.7221124  1.09545198 0.49035918 0.53268015 0.93310932 0.32367059\n",
      "  0.79178285 0.90194    1.01678543 0.5126985  0.6098323  0.96259953\n",
      "  0.75063718 0.85332024 0.21239455 0.8904268  0.13093864 0.37621804\n",
      "  1.02674555 1.0214272  0.28968078 0.92578517 0.66220077 1.10711355\n",
      "  0.84727922 0.36261712 0.96665057 0.79995595 0.73760945 0.62047426\n",
      "  0.56983649 0.20198118 0.38999386 0.        ]]\n"
     ]
    }
   ],
   "source": [
    "vector = np.random.random((100,2))\n",
    "X,Y = np.atleast_2d(vector[:,0], vector[:,1])\n",
    "point_Distance = np.sqrt( (X-X.T)**2 + (Y-Y.T)**2)\n",
    "print(point_Distance)\n"
   ]
  },
  {
   "cell_type": "markdown",
   "metadata": {},
   "source": [
    "### Q53. How to convert a float (32 bits) array into an integer (32 bits) in place?"
   ]
  },
  {
   "cell_type": "code",
   "execution_count": 83,
   "metadata": {},
   "outputs": [
    {
     "name": "stdout",
     "output_type": "stream",
     "text": [
      "[         0 1065353216 1073741824 1077936128 1082130432 1084227584\n",
      " 1086324736 1088421888 1090519040 1091567616]\n"
     ]
    }
   ],
   "source": [
    "float32bit = np.arange(10, dtype=np.float32)\n",
    "int32bit = float32bit.view(np.int32)\n",
    "print(int32bit)"
   ]
  },
  {
   "cell_type": "markdown",
   "metadata": {},
   "source": [
    "### Q54. How to read the following file?"
   ]
  },
  {
   "cell_type": "code",
   "execution_count": 85,
   "metadata": {},
   "outputs": [
    {
     "name": "stdout",
     "output_type": "stream",
     "text": [
      "[[ 1  2  3  4  5]\n",
      " [ 6 -1 -1  7  8]\n",
      " [-1 -1  9 10 11]]\n"
     ]
    }
   ],
   "source": [
    "from io import StringIO\n",
    "\n",
    "file = StringIO('''1, 2, 3, 4, 5\n",
    "     6,  ,  , 7, 8\n",
    "     ,  , 9,10,11\n",
    "''')\n",
    "\n",
    "fromtexttoarray = np.genfromtxt(file, delimiter=\",\", dtype=np.int_)\n",
    "print(fromtexttoarray)"
   ]
  },
  {
   "cell_type": "markdown",
   "metadata": {},
   "source": [
    "### Q55. What is the equivalent of enumerate for numpy arrays?"
   ]
  },
  {
   "cell_type": "code",
   "execution_count": 86,
   "metadata": {},
   "outputs": [
    {
     "name": "stdout",
     "output_type": "stream",
     "text": [
      "(0, 0) 0\n",
      "(0, 1) 1\n",
      "(0, 2) 2\n",
      "(1, 0) 3\n",
      "(1, 1) 4\n",
      "(1, 2) 5\n",
      "(2, 0) 6\n",
      "(2, 1) 7\n",
      "(2, 2) 8\n"
     ]
    }
   ],
   "source": [
    "A = np.arange(9).reshape(3, 3)\n",
    "for index, value in np.ndenumerate(A):\n",
    "    print(index, value)"
   ]
  },
  {
   "cell_type": "markdown",
   "metadata": {},
   "source": [
    "### Q56. Generate a generic 2D Gaussian-like array"
   ]
  },
  {
   "cell_type": "code",
   "execution_count": 87,
   "metadata": {},
   "outputs": [
    {
     "name": "stdout",
     "output_type": "stream",
     "text": [
      "[[0.36787944 0.53526143 0.60653066 0.53526143 0.36787944]\n",
      " [0.53526143 0.77880078 0.8824969  0.77880078 0.53526143]\n",
      " [0.60653066 0.8824969  1.         0.8824969  0.60653066]\n",
      " [0.53526143 0.77880078 0.8824969  0.77880078 0.53526143]\n",
      " [0.36787944 0.53526143 0.60653066 0.53526143 0.36787944]]\n"
     ]
    }
   ],
   "source": [
    "import numpy as np\n",
    "x, y = np.meshgrid(np.linspace(-1, 1, 5), np.linspace(-1, 1, 5))\n",
    "d = np.sqrt(x*x + y*y)\n",
    "sigma, mu = 1.0, 0.0\n",
    "gaussian_array = np.exp(-( (d-mu)**2 / ( 2.0 * sigma**2 ) ))\n",
    "print(gaussian_array)"
   ]
  },
  {
   "cell_type": "markdown",
   "metadata": {},
   "source": [
    "### Q57. How to randomly place p elements in a 2D array?"
   ]
  },
  {
   "cell_type": "code",
   "execution_count": 89,
   "metadata": {},
   "outputs": [
    {
     "name": "stdout",
     "output_type": "stream",
     "text": [
      "[[1. 0. 0. 1. 0.]\n",
      " [0. 0. 0. 0. 0.]\n",
      " [0. 0. 0. 1. 0.]\n",
      " [0. 0. 0. 0. 0.]\n",
      " [0. 1. 0. 0. 0.]]\n"
     ]
    }
   ],
   "source": [
    "p = 4\n",
    "twoDarray = np.zeros((5, 5))\n",
    "np.put(twoDarray, np.random.choice(range(5*5), p, replace=False), 1)\n",
    "print(twoDarray)"
   ]
  },
  {
   "cell_type": "markdown",
   "metadata": {},
   "source": [
    "### Q58. Subtract the mean of each row of a matrix"
   ]
  },
  {
   "cell_type": "code",
   "execution_count": 90,
   "metadata": {},
   "outputs": [
    {
     "name": "stdout",
     "output_type": "stream",
     "text": [
      "[[-0.56231299  0.26703376  0.29527923]\n",
      " [ 0.12016904 -0.06767301 -0.05249602]\n",
      " [-0.07386975 -0.38298983  0.45685957]]\n"
     ]
    }
   ],
   "source": [
    "A = np.random.random((3, 3))\n",
    "B = A - A.mean(axis=1, keepdims=True)\n",
    "print(B)"
   ]
  },
  {
   "cell_type": "markdown",
   "metadata": {},
   "source": [
    "### Q59. How to sort an array by the nth column?"
   ]
  },
  {
   "cell_type": "code",
   "execution_count": 92,
   "metadata": {},
   "outputs": [
    {
     "name": "stdout",
     "output_type": "stream",
     "text": [
      "[[7 2 5 8]\n",
      " [0 3 6 6]\n",
      " [6 4 4 1]\n",
      " [9 8 0 0]]\n"
     ]
    }
   ],
   "source": [
    "A = np.random.randint(0, 10, (4, 4))\n",
    "n = 1\n",
    "sorted_A = A[A[:, n].argsort()]\n",
    "print(sorted_A)\n"
   ]
  },
  {
   "cell_type": "markdown",
   "metadata": {},
   "source": [
    "### Q60. How to tell if a given 2D array has null columns?"
   ]
  },
  {
   "cell_type": "code",
   "execution_count": 102,
   "metadata": {},
   "outputs": [
    {
     "name": "stdout",
     "output_type": "stream",
     "text": [
      "[ True False  True]\n"
     ]
    }
   ],
   "source": [
    "A = np.array([[0, 0, 0], [0, 1, 0], [0, 0, 0]])\n",
    "null_columns = np.all(A == 0, axis=0)\n",
    "print(null_columns)"
   ]
  },
  {
   "cell_type": "markdown",
   "metadata": {},
   "source": [
    "### Q61. Find the nearest value from a given value in an array"
   ]
  },
  {
   "cell_type": "code",
   "execution_count": 103,
   "metadata": {},
   "outputs": [
    {
     "name": "stdout",
     "output_type": "stream",
     "text": [
      "0.8052908369468956\n"
     ]
    }
   ],
   "source": [
    "myvalue = 8\n",
    "randomvalues = np.random.random(15)\n",
    "nearest_value = randomvalues[np.abs(randomvalues - myvalue).argmin()]\n",
    "print(nearest_value)"
   ]
  },
  {
   "cell_type": "markdown",
   "metadata": {},
   "source": [
    "### Q62. Considering two arrays with shape (1,3) and (3,1), how to compute their sum using an iterator?"
   ]
  },
  {
   "cell_type": "code",
   "execution_count": 106,
   "metadata": {},
   "outputs": [
    {
     "name": "stdout",
     "output_type": "stream",
     "text": [
      "[[0 1 2]\n",
      " [1 2 3]\n",
      " [2 3 4]]\n"
     ]
    }
   ],
   "source": [
    "array1 = np.arange(3).reshape(1, 3)\n",
    "array2 = np.arange(3).reshape(3, 1)\n",
    "sum_the_iterator = np.nditer([array1, array2, None])\n",
    "for i, j, k in sum_the_iterator:\n",
    "    k[...] = i + j\n",
    "print(sum_the_iterator.operands[2])"
   ]
  },
  {
   "cell_type": "markdown",
   "metadata": {},
   "source": [
    "### Q63. Create an array class that has a name attribute"
   ]
  },
  {
   "cell_type": "code",
   "execution_count": 107,
   "metadata": {},
   "outputs": [
    {
     "name": "stdout",
     "output_type": "stream",
     "text": [
      "range_5\n"
     ]
    }
   ],
   "source": [
    "class NamedArray(np.ndarray):\n",
    "    def __new__(cls, array, name=\"\"):\n",
    "        obj = np.asarray(array).view(cls)\n",
    "        obj.name = name\n",
    "        return obj\n",
    "\n",
    "    def __array_finalize__(self, obj):\n",
    "        if obj is None:\n",
    "            return\n",
    "        self.info = getattr(obj, 'name', \"\")\n",
    "\n",
    "A = NamedArray(np.arange(5), \"range_5\")\n",
    "print (A.name)"
   ]
  },
  {
   "cell_type": "markdown",
   "metadata": {},
   "source": [
    "### Q64. Consider a given vector, how to add 1 to each element indexed by a second vector"
   ]
  },
  {
   "cell_type": "code",
   "execution_count": 110,
   "metadata": {},
   "outputs": [
    {
     "name": "stdout",
     "output_type": "stream",
     "text": [
      "[2. 2. 1. 3. 3. 3. 3. 1. 2. 1.]\n"
     ]
    }
   ],
   "source": [
    "A = np.ones(10)\n",
    "vector_indices = np.array([0, 8, 1, 3, 3, 4, 4, 5, 5,6, 6])\n",
    "np.add.at(A, vector_indices, 1)\n",
    "print(A)"
   ]
  },
  {
   "cell_type": "markdown",
   "metadata": {},
   "source": [
    "### Q65. How to accumulate elements of a vector (X) to an array (F) based on an index list (I)?"
   ]
  },
  {
   "cell_type": "code",
   "execution_count": 111,
   "metadata": {},
   "outputs": [
    {
     "name": "stdout",
     "output_type": "stream",
     "text": [
      "[ 0.  9.  0. 12.  0.  0.  0.  9.  0.  6.]\n"
     ]
    }
   ],
   "source": [
    "X = np.array([2, 4, 6, 8, 9, 7])\n",
    "I = np.array([1, 3, 9, 3, 7, 1])\n",
    "F = np.bincount(I, weights=X)\n",
    "print(F)"
   ]
  },
  {
   "cell_type": "markdown",
   "metadata": {},
   "source": [
    "### 66. Considering a (w,h,3) image of (dtype=ubyte), compute the number of unique colors"
   ]
  },
  {
   "cell_type": "code",
   "execution_count": 66,
   "metadata": {},
   "outputs": [
    {
     "name": "stdout",
     "output_type": "stream",
     "text": [
      "9996\n"
     ]
    }
   ],
   "source": [
    "image = np.random.randint(0, 256, (100, 100, 3), dtype=np.ubyte)\n",
    "unique_colors = len(np.unique(image.reshape(-1, 3), axis=0))\n",
    "print(unique_colors)"
   ]
  },
  {
   "cell_type": "markdown",
   "metadata": {},
   "source": [
    "### Q67. Considering a four dimensions array, how to get sum over the last two axis at once?"
   ]
  },
  {
   "cell_type": "code",
   "execution_count": 67,
   "metadata": {},
   "outputs": [
    {
     "name": "stdout",
     "output_type": "stream",
     "text": [
      "[[ 98  72  63]\n",
      " [104 122  85]]\n"
     ]
    }
   ],
   "source": [
    "A = np.random.randint(0,10,(2, 3, 4, 5))\n",
    "sum_last_two_axes = A.sum(axis=(-2, -1))\n",
    "print(sum_last_two_axes)"
   ]
  },
  {
   "cell_type": "markdown",
   "metadata": {},
   "source": [
    "### Q68. Considering a one-dimensional vector D, how to compute means of subsets of D using a vector S of the same size describing subset indices?"
   ]
  },
  {
   "cell_type": "code",
   "execution_count": 113,
   "metadata": {},
   "outputs": [
    {
     "name": "stdout",
     "output_type": "stream",
     "text": [
      "[0.2946623  0.44319034]\n"
     ]
    }
   ],
   "source": [
    "vector_D = np.random.random(10)\n",
    "vector_S = np.random.randint(0, 2, 10)\n",
    "means_subsets = np.bincount(vector_S, weights=vector_D) / np.bincount(vector_S)\n",
    "print(means_subsets)"
   ]
  },
  {
   "cell_type": "markdown",
   "metadata": {},
   "source": [
    "### Q69. How to get the diagonal of a dot product?\n"
   ]
  },
  {
   "cell_type": "code",
   "execution_count": 114,
   "metadata": {},
   "outputs": [
    {
     "name": "stdout",
     "output_type": "stream",
     "text": [
      "[0.49044669 0.50468223 1.5750225 ]\n"
     ]
    }
   ],
   "source": [
    "A = np.random.random((3, 3))\n",
    "B = np.random.random((3, 3))\n",
    "diagonal_dot_product = np.diag(np.dot(A, B))\n",
    "print(diagonal_dot_product)"
   ]
  },
  {
   "cell_type": "markdown",
   "metadata": {},
   "source": [
    "### Q70. Consider the vector [1, 2, 3, 4, 5], how to build a new vector with 3 consecutive zeros interleaved between each value?\n"
   ]
  },
  {
   "cell_type": "code",
   "execution_count": 115,
   "metadata": {},
   "outputs": [
    {
     "name": "stdout",
     "output_type": "stream",
     "text": [
      "[1 0 0 0 2 0 0 0 3 0 0 0 4 0 0 0 5]\n"
     ]
    }
   ],
   "source": [
    "A = np.array([1, 2, 3, 4, 5])\n",
    "B = np.zeros(len(A)+ (len(A) - 1) * 3, dtype=int)\n",
    "B[::4] = A\n",
    "print(B)"
   ]
  },
  {
   "cell_type": "markdown",
   "metadata": {},
   "source": [
    "### Q71. Consider an array of dimension (5,5,3), how to multiply it by an array with dimensions (5,5)?"
   ]
  },
  {
   "cell_type": "code",
   "execution_count": 116,
   "metadata": {},
   "outputs": [
    {
     "name": "stdout",
     "output_type": "stream",
     "text": [
      "[[[3. 3. 3.]\n",
      "  [3. 3. 3.]\n",
      "  [3. 3. 3.]\n",
      "  [3. 3. 3.]\n",
      "  [3. 3. 3.]]\n",
      "\n",
      " [[3. 3. 3.]\n",
      "  [3. 3. 3.]\n",
      "  [3. 3. 3.]\n",
      "  [3. 3. 3.]\n",
      "  [3. 3. 3.]]\n",
      "\n",
      " [[3. 3. 3.]\n",
      "  [3. 3. 3.]\n",
      "  [3. 3. 3.]\n",
      "  [3. 3. 3.]\n",
      "  [3. 3. 3.]]\n",
      "\n",
      " [[3. 3. 3.]\n",
      "  [3. 3. 3.]\n",
      "  [3. 3. 3.]\n",
      "  [3. 3. 3.]\n",
      "  [3. 3. 3.]]\n",
      "\n",
      " [[3. 3. 3.]\n",
      "  [3. 3. 3.]\n",
      "  [3. 3. 3.]\n",
      "  [3. 3. 3.]\n",
      "  [3. 3. 3.]]]\n"
     ]
    }
   ],
   "source": [
    "A_3d = np.ones((5, 5, 3))\n",
    "A_2d = 3*np.ones((5, 5))\n",
    "X = A_3d * A_2d[:, :, None]\n",
    "print(X)"
   ]
  },
  {
   "cell_type": "markdown",
   "metadata": {},
   "source": [
    "#### Q72. How to swap two rows of an array?"
   ]
  },
  {
   "cell_type": "code",
   "execution_count": 117,
   "metadata": {},
   "outputs": [
    {
     "name": "stdout",
     "output_type": "stream",
     "text": [
      "[[4 5 6]\n",
      " [1 2 3]\n",
      " [7 8 9]]\n"
     ]
    }
   ],
   "source": [
    "A = np.array([[1, 2, 3], [4, 5, 6], [7, 8, 9]])\n",
    "A[[0, 1]] = A[[1, 0]]\n",
    "print(A)"
   ]
  },
  {
   "cell_type": "markdown",
   "metadata": {},
   "source": [
    "#### 73. Consider a set of 10 triplets describing 10 triangles (with shared vertices), find the set of unique line segments composing all the  triangles"
   ]
  },
  {
   "cell_type": "code",
   "execution_count": 120,
   "metadata": {},
   "outputs": [
    {
     "name": "stdout",
     "output_type": "stream",
     "text": [
      "[[0 6]\n",
      " [0 9]\n",
      " [2 2]\n",
      " [2 4]\n",
      " [2 5]\n",
      " [2 6]\n",
      " [2 8]\n",
      " [3 4]\n",
      " [4 2]\n",
      " [4 5]\n",
      " [4 8]\n",
      " [4 9]\n",
      " [5 0]\n",
      " [5 2]\n",
      " [5 3]\n",
      " [5 4]\n",
      " [5 5]\n",
      " [5 6]\n",
      " [6 2]\n",
      " [6 5]\n",
      " [8 2]\n",
      " [8 9]\n",
      " [9 0]\n",
      " [9 2]\n",
      " [9 4]\n",
      " [9 9]]\n"
     ]
    }
   ],
   "source": [
    "triplets_array = np.random.randint(0, 10, (10, 3))\n",
    "uls = np.unique(triplets_array[:, [0, 1, 1, 2, 2, 0]].reshape(-1, 2), axis=0)\n",
    "print(uls)"
   ]
  },
  {
   "cell_type": "code",
   "execution_count": 122,
   "metadata": {},
   "outputs": [
    {
     "name": "stdout",
     "output_type": "stream",
     "text": [
      "[(0, 0) (0, 3) (0, 4) (0, 7) (0, 8) (1, 1) (1, 4) (1, 7) (2, 3) (2, 7)\n",
      " (3, 4) (3, 7) (3, 9) (4, 7) (4, 8) (4, 9) (6, 8) (6, 9) (8, 8) (8, 9)]\n"
     ]
    }
   ],
   "source": [
    "triplets_array = np.random.randint(0, 10, (10, 3))\n",
    "A = np.roll(triplets_array.repeat(2, axis=1), -1, axis=1)\n",
    "A = A.reshape(len(A) * 3, 2)\n",
    "A = np.sort(A, axis=1)\n",
    "B = A.view(dtype=[('p0', A.dtype), ('p1', A.dtype)])\n",
    "B = np.unique(B)\n",
    "\n",
    "print(B)"
   ]
  },
  {
   "cell_type": "markdown",
   "metadata": {},
   "source": [
    "### Q74. Given a sorted array C that corresponds to a bincount, how to produce an array A such that np.bincount(A) == C?"
   ]
  },
  {
   "cell_type": "code",
   "execution_count": 123,
   "metadata": {},
   "outputs": [
    {
     "name": "stdout",
     "output_type": "stream",
     "text": [
      "[0 0 1 2 4 5 5 6 6 6 8]\n"
     ]
    }
   ],
   "source": [
    "C = np.bincount([0,8,1,6,2,5,4,6,5,0,6])\n",
    "A = np.repeat(np.arange(len(C)), C)\n",
    "print(A)"
   ]
  },
  {
   "cell_type": "markdown",
   "metadata": {},
   "source": [
    "### Q75. How to compute averages using a sliding window over an array? "
   ]
  },
  {
   "cell_type": "code",
   "execution_count": 125,
   "metadata": {},
   "outputs": [
    {
     "name": "stdout",
     "output_type": "stream",
     "text": [
      "[ 1.  2.  3.  4.  5.  6.  7.  8.  9. 10. 11. 12. 13. 14. 15. 16. 17. 18.\n",
      " 19. 20. 21. 22. 23. 24. 25. 26. 27. 28. 29. 30. 31. 32. 33. 34. 35. 36.\n",
      " 37. 38. 39. 40. 41. 42. 43. 44. 45. 46. 47. 48.]\n"
     ]
    }
   ],
   "source": [
    "from numpy.lib.stride_tricks import sliding_window_view\n",
    "\n",
    "my_array = np.arange(50)\n",
    "print(sliding_window_view(my_array, window_shape=3).mean(axis=-1))"
   ]
  },
  {
   "cell_type": "markdown",
   "metadata": {},
   "source": [
    "### Q76. Consider a one-dimensional array Z, build a two-dimensional array whose first row is (Z[0],Z[1],Z[2]) and each subsequent row is  shifted by 1 (last row should be (Z[-3],Z[-2],Z[-1])"
   ]
  },
  {
   "cell_type": "code",
   "execution_count": 77,
   "metadata": {},
   "outputs": [
    {
     "name": "stdout",
     "output_type": "stream",
     "text": [
      "[[0 1 2]\n",
      " [1 2 3]\n",
      " [2 3 4]\n",
      " [3 4 5]\n",
      " [4 5 6]\n",
      " [5 6 7]\n",
      " [6 7 8]\n",
      " [7 8 9]]\n"
     ]
    }
   ],
   "source": [
    "from numpy.lib import stride_tricks\n",
    "\n",
    "def rolling(a, window):\n",
    "    shape = (a.size - window + 1, window)\n",
    "    strides = (a.strides[0], a.strides[0])\n",
    "    return stride_tricks.as_strided(a, shape=shape, strides=strides)\n",
    "Z = rolling(np.arange(10), 3)\n",
    "print(Z)"
   ]
  },
  {
   "cell_type": "markdown",
   "metadata": {},
   "source": [
    "### Q77. How to negate a boolean, or to change the sign of a float inplace?"
   ]
  },
  {
   "cell_type": "code",
   "execution_count": 126,
   "metadata": {},
   "outputs": [
    {
     "data": {
      "text/plain": [
       "array([0, 1, 0, 1, 0, 1, 1, 0, 0, 1, 0, 0, 1, 1, 1, 1, 1, 0, 0, 0, 0, 0,\n",
       "       0, 1, 1, 1, 0, 1, 0, 1, 0, 1, 0, 0, 0, 1, 1, 0, 1, 1, 1, 0, 0, 0,\n",
       "       0, 1, 0, 0, 1, 1, 1, 1, 0, 1, 1, 0, 1, 1, 1, 1, 0, 0, 0, 0, 0, 1,\n",
       "       0, 0, 1, 1, 1, 1, 0, 1, 0, 0, 0, 1, 1, 1, 0, 0, 1, 0, 1, 1, 1, 0,\n",
       "       0, 1, 0, 0, 0, 0, 1, 1, 0, 0, 0, 0])"
      ]
     },
     "execution_count": 126,
     "metadata": {},
     "output_type": "execute_result"
    }
   ],
   "source": [
    "A = np.random.randint(0,2,100)\n",
    "np.logical_not(A, out=A)"
   ]
  },
  {
   "cell_type": "markdown",
   "metadata": {},
   "source": [
    "### Q78. Consider 2 sets of points P0,P1 describing lines (2d) and a point p, how to compute distance from p to each line i (P0[i],P1[i])? "
   ]
  },
  {
   "cell_type": "code",
   "execution_count": 127,
   "metadata": {},
   "outputs": [
    {
     "name": "stdout",
     "output_type": "stream",
     "text": [
      "[6.69381688 7.07005589 8.49051689 9.59359533 4.43808005 9.43183342\n",
      " 8.37602219 5.74266276 2.60568108 2.40701219]\n"
     ]
    }
   ],
   "source": [
    "def distance(P0, P1, p):\n",
    "    T = P1 - P0\n",
    "    L = (T**2).sum(axis=1)\n",
    "    U = -((P0[:,0]-p[...,0])*T[:,0] + (P0[:,1]-p[...,1])*T[:,1]) / L\n",
    "    U = U.reshape(len(U),1)\n",
    "    D = P0 + U*T - p\n",
    "    return np.sqrt((D**2).sum(axis=1))\n",
    "\n",
    "P0 = np.random.uniform(-10,10,(10,2))\n",
    "P1 = np.random.uniform(-10,10,(10,2))\n",
    "p  = np.random.uniform(-10,10,( 1,2))\n",
    "print(distance(P0, P1, p))"
   ]
  },
  {
   "cell_type": "markdown",
   "metadata": {},
   "source": [
    "### Q79. Consider 2 sets of points P0,P1 describing lines (2d) and a set of points P, how to compute distance from each point j (P[j]) to each line i (P0[i],P1[i])?\n",
    "`"
   ]
  },
  {
   "cell_type": "code",
   "execution_count": 80,
   "metadata": {},
   "outputs": [
    {
     "name": "stdout",
     "output_type": "stream",
     "text": [
      "[[11.22552444  5.39508473  3.32517198  9.1345634   0.35948655  6.60496769\n",
      "  15.82876342  5.73364988  4.48805176  6.13050084]\n",
      " [ 8.73396753  2.07897655  0.33435358  6.00554652  3.31108891  9.73402149\n",
      "  12.30594079  7.1057225   1.05276959  7.70800655]\n",
      " [ 0.51097398  5.15334806  3.1250524   7.787203    6.56261488  7.95255255\n",
      "   6.23107034  0.13705502  5.59225277  0.89373232]\n",
      " [ 7.76763053  0.11257433  3.2005559   2.99586705  6.1252702  12.7437085\n",
      "  10.00125767  9.29207811  1.09792881 10.01880151]\n",
      " [ 1.00444145  5.5539957   6.04123872  3.30723026  9.27197467 12.43247874\n",
      "   5.03887282  4.90722611  6.41111565  5.97214693]\n",
      " [11.15542923  1.53506893  4.78930425  0.89872857  7.44352367 16.63822316\n",
      "  10.53375773 14.93178247  0.13985595 15.58227238]\n",
      " [10.1333521   6.86593162  7.94111779 15.48440157  4.72852701  0.25517485\n",
      "  18.3185993   0.77630691  6.5002423   0.48184105]\n",
      " [ 3.58598073 10.26491539  9.80870151  1.23520264 13.17556375 14.50458832\n",
      "   0.47778101  4.03403064 11.05771403  5.3854051 ]\n",
      " [ 5.05770186  0.29396922  0.87625942  9.59442388  2.374023    6.14522958\n",
      "  11.39512186  1.57278922  0.27726625  2.27368193]\n",
      " [10.40719916  7.2882986   8.46647114 15.98116774  5.25030292  0.2415948\n",
      "  18.78565227  1.06789085  6.94745844  0.79981367]]\n"
     ]
    }
   ],
   "source": [
    "def distance(P0, P1, p):\n",
    "    T = P1 - P0\n",
    "    L = (T**2).sum(axis=1)\n",
    "    U = -((P0[:,0]-p[...,0])*T[:,0] + (P0[:,1]-p[...,1])*T[:,1]) / L\n",
    "    U = U.reshape(len(U),1)\n",
    "    D = P0 + U*T - p\n",
    "    return np.sqrt((D**2).sum(axis=1))\\\n",
    "    \n",
    "P0 = np.random.uniform(-10, 10, (10,2))\n",
    "P1 = np.random.uniform(-10,10,(10,2))\n",
    "p = np.random.uniform(-10, 10, (10,2))\n",
    "print(np.array([distance(P0,P1,p_i) for p_i in p]))"
   ]
  },
  {
   "cell_type": "markdown",
   "metadata": {},
   "source": [
    "### Q80. Consider an arbitrary array, write a function that extract a subpart with a fixed shape and centered on a given element (pad with a `fill` value when necessary)"
   ]
  },
  {
   "cell_type": "code",
   "execution_count": 129,
   "metadata": {},
   "outputs": [
    {
     "name": "stdout",
     "output_type": "stream",
     "text": [
      "[[0.9337067  0.92752189 0.21348675]\n",
      " [0.05188155 0.94591641 0.18703007]\n",
      " [0.38852418 0.26028522 0.63590402]]\n"
     ]
    }
   ],
   "source": [
    "def extract_subpart(array, shape, center):\n",
    "    subpart = np.full(shape, fill_value=np.nan)\n",
    "    indices = np.array(center) - np.array(shape) // 2\n",
    "    subpart_shape = np.minimum(shape, np.array(array.shape) - indices)\n",
    "    subpart[\n",
    "        tuple(slice(max(0, -i), dim) for i, dim in zip(indices, subpart_shape))\n",
    "    ] = array[\n",
    "        tuple(slice(max(0, i), min(dim, i + s)) for i, s, dim in zip(indices, subpart_shape, array.shape))\n",
    "    ]\n",
    "    return subpart\n",
    "\n",
    "A = np.random.random((15, 15))\n",
    "subpart = extract_subpart(A, (3, 3), (5, 5))\n",
    "print(subpart)\n"
   ]
  },
  {
   "cell_type": "markdown",
   "metadata": {},
   "source": [
    "### Q81. Consider an array Z = [1,2,3,4,5,6,7,8,9,10,11,12,13,14], how to generate an array R"
   ]
  },
  {
   "cell_type": "code",
   "execution_count": 130,
   "metadata": {},
   "outputs": [
    {
     "name": "stdout",
     "output_type": "stream",
     "text": [
      "[[ 1  2  3  4]\n",
      " [ 2  3  4  5]\n",
      " [ 3  4  5  6]\n",
      " [ 4  5  6  7]\n",
      " [ 5  6  7  8]\n",
      " [ 6  7  8  9]\n",
      " [ 7  8  9 10]\n",
      " [ 8  9 10 11]\n",
      " [ 9 10 11 12]\n",
      " [10 11 12 13]\n",
      " [11 12 13 14]]\n"
     ]
    }
   ],
   "source": [
    "Z = np.arange(1, 15)\n",
    "R = np.lib.stride_tricks.sliding_window_view(Z, (4,))\n",
    "print(R)\n"
   ]
  },
  {
   "cell_type": "markdown",
   "metadata": {},
   "source": [
    "### 82. Compute a matrix rank"
   ]
  },
  {
   "cell_type": "code",
   "execution_count": 132,
   "metadata": {},
   "outputs": [
    {
     "name": "stdout",
     "output_type": "stream",
     "text": [
      "4\n"
     ]
    }
   ],
   "source": [
    "matrix_rank = np.linalg.matrix_rank(np.random.random((4, 4)))\n",
    "print(matrix_rank)"
   ]
  },
  {
   "cell_type": "markdown",
   "metadata": {},
   "source": [
    "### Q83. How to find the most frequent value in an array?"
   ]
  },
  {
   "cell_type": "code",
   "execution_count": 134,
   "metadata": {},
   "outputs": [
    {
     "name": "stdout",
     "output_type": "stream",
     "text": [
      "[8 6 0 8 8 1 5 6 9 2 3 2 7 8 6 1 1 7 2 6 4 4 2 1 3 2 2 2 9 8 2 9 2 2 2 4 9\n",
      " 5 3 8]\n",
      "2\n"
     ]
    }
   ],
   "source": [
    "A = np.random.randint(0, 10, 40)\n",
    "frequent_value = np.bincount(A).argmax()\n",
    "print(A)\n",
    "print( frequent_value)"
   ]
  },
  {
   "cell_type": "markdown",
   "metadata": {},
   "source": [
    "### Q84. Extract all the contiguous 3x3 blocks from a random 10x10 matrix"
   ]
  },
  {
   "cell_type": "code",
   "execution_count": 136,
   "metadata": {},
   "outputs": [
    {
     "name": "stdout",
     "output_type": "stream",
     "text": [
      "[[[[1 3 0]\n",
      "   [3 0 2]\n",
      "   [1 1 4]]\n",
      "\n",
      "  [[3 0 4]\n",
      "   [0 2 4]\n",
      "   [1 4 1]]\n",
      "\n",
      "  [[0 4 1]\n",
      "   [2 4 2]\n",
      "   [4 1 1]]\n",
      "\n",
      "  [[4 1 2]\n",
      "   [4 2 2]\n",
      "   [1 1 1]]\n",
      "\n",
      "  [[1 2 0]\n",
      "   [2 2 1]\n",
      "   [1 1 1]]\n",
      "\n",
      "  [[2 0 2]\n",
      "   [2 1 1]\n",
      "   [1 1 1]]\n",
      "\n",
      "  [[0 2 0]\n",
      "   [1 1 4]\n",
      "   [1 1 3]]\n",
      "\n",
      "  [[2 0 2]\n",
      "   [1 4 3]\n",
      "   [1 3 3]]]\n",
      "\n",
      "\n",
      " [[[3 0 2]\n",
      "   [1 1 4]\n",
      "   [0 3 4]]\n",
      "\n",
      "  [[0 2 4]\n",
      "   [1 4 1]\n",
      "   [3 4 2]]\n",
      "\n",
      "  [[2 4 2]\n",
      "   [4 1 1]\n",
      "   [4 2 3]]\n",
      "\n",
      "  [[4 2 2]\n",
      "   [1 1 1]\n",
      "   [2 3 4]]\n",
      "\n",
      "  [[2 2 1]\n",
      "   [1 1 1]\n",
      "   [3 4 3]]\n",
      "\n",
      "  [[2 1 1]\n",
      "   [1 1 1]\n",
      "   [4 3 4]]\n",
      "\n",
      "  [[1 1 4]\n",
      "   [1 1 3]\n",
      "   [3 4 0]]\n",
      "\n",
      "  [[1 4 3]\n",
      "   [1 3 3]\n",
      "   [4 0 0]]]\n",
      "\n",
      "\n",
      " [[[1 1 4]\n",
      "   [0 3 4]\n",
      "   [1 4 4]]\n",
      "\n",
      "  [[1 4 1]\n",
      "   [3 4 2]\n",
      "   [4 4 1]]\n",
      "\n",
      "  [[4 1 1]\n",
      "   [4 2 3]\n",
      "   [4 1 4]]\n",
      "\n",
      "  [[1 1 1]\n",
      "   [2 3 4]\n",
      "   [1 4 1]]\n",
      "\n",
      "  [[1 1 1]\n",
      "   [3 4 3]\n",
      "   [4 1 4]]\n",
      "\n",
      "  [[1 1 1]\n",
      "   [4 3 4]\n",
      "   [1 4 2]]\n",
      "\n",
      "  [[1 1 3]\n",
      "   [3 4 0]\n",
      "   [4 2 1]]\n",
      "\n",
      "  [[1 3 3]\n",
      "   [4 0 0]\n",
      "   [2 1 0]]]\n",
      "\n",
      "\n",
      " [[[0 3 4]\n",
      "   [1 4 4]\n",
      "   [3 2 4]]\n",
      "\n",
      "  [[3 4 2]\n",
      "   [4 4 1]\n",
      "   [2 4 3]]\n",
      "\n",
      "  [[4 2 3]\n",
      "   [4 1 4]\n",
      "   [4 3 0]]\n",
      "\n",
      "  [[2 3 4]\n",
      "   [1 4 1]\n",
      "   [3 0 1]]\n",
      "\n",
      "  [[3 4 3]\n",
      "   [4 1 4]\n",
      "   [0 1 2]]\n",
      "\n",
      "  [[4 3 4]\n",
      "   [1 4 2]\n",
      "   [1 2 4]]\n",
      "\n",
      "  [[3 4 0]\n",
      "   [4 2 1]\n",
      "   [2 4 1]]\n",
      "\n",
      "  [[4 0 0]\n",
      "   [2 1 0]\n",
      "   [4 1 2]]]\n",
      "\n",
      "\n",
      " [[[1 4 4]\n",
      "   [3 2 4]\n",
      "   [2 2 4]]\n",
      "\n",
      "  [[4 4 1]\n",
      "   [2 4 3]\n",
      "   [2 4 4]]\n",
      "\n",
      "  [[4 1 4]\n",
      "   [4 3 0]\n",
      "   [4 4 0]]\n",
      "\n",
      "  [[1 4 1]\n",
      "   [3 0 1]\n",
      "   [4 0 2]]\n",
      "\n",
      "  [[4 1 4]\n",
      "   [0 1 2]\n",
      "   [0 2 3]]\n",
      "\n",
      "  [[1 4 2]\n",
      "   [1 2 4]\n",
      "   [2 3 4]]\n",
      "\n",
      "  [[4 2 1]\n",
      "   [2 4 1]\n",
      "   [3 4 4]]\n",
      "\n",
      "  [[2 1 0]\n",
      "   [4 1 2]\n",
      "   [4 4 0]]]\n",
      "\n",
      "\n",
      " [[[3 2 4]\n",
      "   [2 2 4]\n",
      "   [3 3 0]]\n",
      "\n",
      "  [[2 4 3]\n",
      "   [2 4 4]\n",
      "   [3 0 1]]\n",
      "\n",
      "  [[4 3 0]\n",
      "   [4 4 0]\n",
      "   [0 1 1]]\n",
      "\n",
      "  [[3 0 1]\n",
      "   [4 0 2]\n",
      "   [1 1 2]]\n",
      "\n",
      "  [[0 1 2]\n",
      "   [0 2 3]\n",
      "   [1 2 2]]\n",
      "\n",
      "  [[1 2 4]\n",
      "   [2 3 4]\n",
      "   [2 2 0]]\n",
      "\n",
      "  [[2 4 1]\n",
      "   [3 4 4]\n",
      "   [2 0 4]]\n",
      "\n",
      "  [[4 1 2]\n",
      "   [4 4 0]\n",
      "   [0 4 3]]]\n",
      "\n",
      "\n",
      " [[[2 2 4]\n",
      "   [3 3 0]\n",
      "   [4 3 0]]\n",
      "\n",
      "  [[2 4 4]\n",
      "   [3 0 1]\n",
      "   [3 0 2]]\n",
      "\n",
      "  [[4 4 0]\n",
      "   [0 1 1]\n",
      "   [0 2 0]]\n",
      "\n",
      "  [[4 0 2]\n",
      "   [1 1 2]\n",
      "   [2 0 4]]\n",
      "\n",
      "  [[0 2 3]\n",
      "   [1 2 2]\n",
      "   [0 4 2]]\n",
      "\n",
      "  [[2 3 4]\n",
      "   [2 2 0]\n",
      "   [4 2 3]]\n",
      "\n",
      "  [[3 4 4]\n",
      "   [2 0 4]\n",
      "   [2 3 1]]\n",
      "\n",
      "  [[4 4 0]\n",
      "   [0 4 3]\n",
      "   [3 1 1]]]\n",
      "\n",
      "\n",
      " [[[3 3 0]\n",
      "   [4 3 0]\n",
      "   [2 3 2]]\n",
      "\n",
      "  [[3 0 1]\n",
      "   [3 0 2]\n",
      "   [3 2 0]]\n",
      "\n",
      "  [[0 1 1]\n",
      "   [0 2 0]\n",
      "   [2 0 3]]\n",
      "\n",
      "  [[1 1 2]\n",
      "   [2 0 4]\n",
      "   [0 3 1]]\n",
      "\n",
      "  [[1 2 2]\n",
      "   [0 4 2]\n",
      "   [3 1 1]]\n",
      "\n",
      "  [[2 2 0]\n",
      "   [4 2 3]\n",
      "   [1 1 3]]\n",
      "\n",
      "  [[2 0 4]\n",
      "   [2 3 1]\n",
      "   [1 3 3]]\n",
      "\n",
      "  [[0 4 3]\n",
      "   [3 1 1]\n",
      "   [3 3 4]]]]\n"
     ]
    }
   ],
   "source": [
    "A = np.random.randint(0,5,(10,10))\n",
    "print(sliding_window_view(A, window_shape=(3, 3)))"
   ]
  },
  {
   "cell_type": "markdown",
   "metadata": {},
   "source": [
    "### Q85. Create a 2D array subclass such that Z[i,j] == Z[j,i]"
   ]
  },
  {
   "cell_type": "code",
   "execution_count": 137,
   "metadata": {},
   "outputs": [
    {
     "name": "stdout",
     "output_type": "stream",
     "text": [
      "[[ 6 13 10 14  9]\n",
      " [13  2  9 12  2]\n",
      " [10  9  8 42 14]\n",
      " [14 12 42  5  9]\n",
      " [ 9  2 14  9  9]]\n"
     ]
    }
   ],
   "source": [
    "class Symetric(np.ndarray):\n",
    "    def __setitem__(self, index, value):\n",
    "        i,j = index\n",
    "        super(Symetric, self).__setitem__((i,j), value)\n",
    "        super(Symetric, self).__setitem__((j,i), value)\n",
    "\n",
    "def symetric(A):\n",
    "    return np.asarray(A + A.T - np.diag(A.diagonal())).view(Symetric)\n",
    "\n",
    "S = symetric(np.random.randint(0,10,(5,5)))\n",
    "S[2,3] = 42\n",
    "print(S)"
   ]
  },
  {
   "cell_type": "markdown",
   "metadata": {},
   "source": [
    "### Q86. Consider a set of p matrices with shape (n,n) and a set of p vectors with shape (n,1). How to compute the sum of of the p matrix products at once? (result has shape (n,1))"
   ]
  },
  {
   "cell_type": "code",
   "execution_count": 138,
   "metadata": {},
   "outputs": [
    {
     "name": "stdout",
     "output_type": "stream",
     "text": [
      "[[1.11014836]\n",
      " [1.122976  ]\n",
      " [1.82560342]\n",
      " [0.97764473]]\n"
     ]
    }
   ],
   "source": [
    "p = 2\n",
    "n = 4\n",
    "matrices = np.random.random((p, n, n))\n",
    "vectors = np.random.random((p, n, 1))\n",
    "sum_matrix_products = np.sum(matrices @ vectors, axis=0)\n",
    "print(sum_matrix_products)"
   ]
  },
  {
   "cell_type": "markdown",
   "metadata": {},
   "source": [
    "### Q87. Consider a 16x16 array, how to get the block-sum (block size is 4x4)?"
   ]
  },
  {
   "cell_type": "code",
   "execution_count": 139,
   "metadata": {},
   "outputs": [
    {
     "name": "stdout",
     "output_type": "stream",
     "text": [
      "[[16. 16. 16. 16.]\n",
      " [16. 16. 16. 16.]\n",
      " [16. 16. 16. 16.]\n",
      " [16. 16. 16. 16.]]\n"
     ]
    }
   ],
   "source": [
    "A = np.ones((16, 16))\n",
    "block_sum = np.sum(np.lib.stride_tricks.sliding_window_view(A, (4, 4)), axis=(-2, -1))\n",
    "print(block_sum[::4, ::4, ...])\n"
   ]
  },
  {
   "cell_type": "markdown",
   "metadata": {},
   "source": [
    "### 88. How to implement the Game of Life using numpy arrays?"
   ]
  },
  {
   "cell_type": "code",
   "execution_count": 140,
   "metadata": {},
   "outputs": [
    {
     "name": "stdout",
     "output_type": "stream",
     "text": [
      "[[0 0 0 0 0 0 1 1 0 1 0 0 0 0 0 0 1 1 0 0 0 1 0 1 0 0 0 0 0 0 1 0 0 0 0 0\n",
      "  0 0 0 0 0 0 1 1 0 0 0 0 0 0]\n",
      " [1 0 0 0 0 0 0 1 0 1 1 0 0 0 0 0 0 0 0 0 0 0 0 0 0 0 0 0 0 0 0 0 0 0 0 1\n",
      "  1 1 0 0 0 0 1 1 1 0 0 0 1 0]\n",
      " [1 0 0 0 0 0 0 0 1 1 1 0 0 0 0 0 0 1 0 0 0 0 0 0 0 0 0 0 0 0 0 0 0 0 0 0\n",
      "  0 0 0 0 0 0 1 0 0 0 1 1 1 1]\n",
      " [0 0 0 1 0 0 0 0 0 0 0 0 1 0 1 0 1 1 0 1 1 0 0 0 0 0 0 0 0 0 0 0 0 0 0 0\n",
      "  0 0 0 0 0 1 1 0 0 0 1 1 0 0]\n",
      " [0 1 1 0 1 0 0 0 0 0 0 1 0 0 1 0 1 1 0 1 0 0 0 0 0 0 0 0 0 0 0 0 0 0 0 0\n",
      "  0 1 0 0 0 1 1 0 0 0 0 1 1 0]\n",
      " [0 0 1 0 1 0 0 0 0 0 0 0 1 0 0 1 1 1 0 0 0 1 0 1 0 0 0 0 0 0 1 1 0 0 0 0\n",
      "  0 0 0 0 0 0 0 0 0 1 0 1 0 0]\n",
      " [0 0 1 0 0 1 0 0 0 0 0 0 0 1 0 0 1 1 0 0 1 1 1 0 0 0 0 0 0 0 0 1 0 0 0 0\n",
      "  0 0 0 0 0 0 0 0 0 1 0 0 0 0]\n",
      " [0 0 0 1 0 1 0 0 0 0 0 0 0 1 1 1 1 1 1 0 0 0 0 0 0 0 0 0 0 0 0 1 0 0 0 1\n",
      "  1 0 0 1 0 0 0 0 0 0 0 1 0 0]\n",
      " [0 0 0 0 1 1 0 0 0 0 1 1 1 0 0 1 1 0 0 0 0 0 0 0 0 0 0 1 0 1 0 0 0 0 0 0\n",
      "  0 0 0 1 0 0 0 0 0 1 1 1 0 0]\n",
      " [0 0 0 0 0 0 0 0 0 0 1 1 1 0 0 1 0 0 0 0 0 0 0 0 0 0 1 0 0 0 0 0 0 0 0 0\n",
      "  0 0 0 0 1 1 0 1 1 0 1 0 0 0]\n",
      " [1 1 1 0 0 0 0 0 0 0 0 0 0 0 0 1 1 1 0 0 0 0 0 0 0 0 0 0 0 0 0 1 1 0 0 0\n",
      "  0 0 1 0 1 1 1 0 1 1 0 0 0 0]\n",
      " [1 0 1 0 1 1 0 0 0 0 0 0 0 0 0 0 0 0 0 0 0 0 0 0 0 0 0 0 0 0 0 0 0 0 0 0\n",
      "  0 0 0 0 0 0 1 0 1 0 0 0 0 0]\n",
      " [1 0 0 0 0 1 0 0 0 0 0 1 0 0 0 1 0 0 0 0 0 0 0 0 0 0 0 1 1 0 0 0 0 0 1 0\n",
      "  0 0 0 1 0 1 1 0 1 0 1 0 0 0]\n",
      " [0 1 1 0 0 1 0 0 0 0 1 0 1 0 0 0 1 0 0 0 0 0 0 0 0 0 0 0 0 1 0 0 0 0 1 0\n",
      "  0 0 1 0 0 1 0 1 0 1 0 0 0 0]\n",
      " [0 0 1 0 1 0 0 0 0 0 0 0 0 0 1 0 0 1 0 0 0 0 0 0 0 1 0 0 0 0 0 1 0 0 0 0\n",
      "  0 1 0 0 0 0 1 0 1 1 0 0 0 0]\n",
      " [0 0 0 1 0 0 0 0 0 0 0 0 0 0 0 0 0 1 0 0 0 0 0 0 0 1 1 0 0 0 0 0 1 0 0 0\n",
      "  1 0 0 0 0 1 0 0 0 0 0 0 0 0]\n",
      " [0 0 0 0 0 0 0 0 0 0 0 0 0 0 0 0 0 0 0 0 0 0 1 0 0 0 1 1 0 0 0 1 1 1 1 1\n",
      "  0 0 0 0 0 0 0 0 0 0 0 0 0 0]\n",
      " [1 1 0 0 0 0 0 0 0 0 0 0 0 0 1 0 0 0 1 0 0 0 1 0 1 0 1 0 0 1 1 1 1 0 1 0\n",
      "  0 0 0 0 0 1 0 1 0 0 0 0 0 1]\n",
      " [0 0 0 1 0 0 0 0 0 0 0 0 0 0 1 0 0 0 1 0 0 0 0 0 1 0 1 0 1 1 1 0 1 0 0 0\n",
      "  0 0 0 0 0 1 1 0 0 0 0 0 1 0]\n",
      " [0 0 0 1 0 0 0 0 0 0 0 0 0 0 1 0 0 0 1 0 0 0 0 0 1 0 0 0 0 0 0 1 0 0 0 1\n",
      "  0 0 0 0 0 0 0 0 0 0 0 0 1 0]\n",
      " [1 1 0 0 1 0 0 0 0 0 0 0 0 0 0 1 1 1 0 0 0 0 0 0 1 0 0 0 0 0 0 0 0 0 0 1\n",
      "  1 1 0 0 0 0 0 0 0 0 0 0 0 1]\n",
      " [0 0 0 1 1 0 0 0 0 0 0 0 0 0 0 0 0 0 0 0 0 0 0 0 0 0 0 0 0 0 0 0 0 0 0 1\n",
      "  1 0 0 0 0 0 0 0 0 0 0 0 0 0]\n",
      " [0 0 0 0 0 0 0 0 0 0 0 0 0 0 0 0 0 0 0 1 0 0 0 0 1 0 1 0 0 0 0 0 0 0 0 0\n",
      "  0 1 0 0 0 0 0 0 0 0 0 0 0 0]\n",
      " [0 0 0 0 0 0 0 0 0 0 0 0 0 0 0 0 0 1 1 0 1 0 0 0 1 1 0 0 0 0 0 0 0 0 0 0\n",
      "  0 0 0 0 0 0 0 0 0 0 0 0 0 0]\n",
      " [0 0 0 0 0 0 1 0 0 0 0 0 0 0 0 0 1 0 0 0 1 1 0 0 0 0 0 0 0 1 0 0 0 0 0 0\n",
      "  0 1 0 0 0 0 0 0 0 0 0 0 0 0]\n",
      " [0 0 0 0 0 0 1 0 0 0 0 0 0 0 0 1 0 0 1 1 1 0 0 0 0 0 0 0 1 0 1 0 0 0 0 0\n",
      "  0 0 1 0 0 0 0 0 0 0 0 0 0 0]\n",
      " [0 0 0 0 0 0 0 1 0 0 0 0 0 0 0 0 1 1 0 0 0 0 0 0 0 0 0 0 0 0 0 0 0 0 0 0\n",
      "  0 0 0 0 0 0 0 0 0 0 0 0 0 0]\n",
      " [0 0 0 0 0 0 0 1 0 0 0 0 0 0 0 0 0 1 0 0 0 0 0 0 0 0 0 0 0 0 0 0 0 0 0 0\n",
      "  0 0 0 0 0 0 0 0 0 0 0 0 0 0]\n",
      " [0 1 0 0 0 0 0 1 0 0 0 1 1 0 1 1 1 1 1 0 0 0 0 0 0 0 0 0 0 0 0 0 0 1 0 0\n",
      "  0 0 0 0 0 0 0 0 0 0 0 0 0 0]\n",
      " [1 1 0 0 0 1 1 0 0 0 0 0 1 0 0 0 0 0 1 0 0 1 1 1 0 0 0 0 0 1 0 0 0 0 0 1\n",
      "  1 1 0 0 0 0 0 0 0 0 0 0 0 1]\n",
      " [0 1 0 0 0 0 0 0 1 1 0 0 0 0 0 0 1 1 0 0 1 0 0 1 0 0 0 0 1 0 1 1 0 0 0 0\n",
      "  0 1 0 0 0 0 0 0 0 0 0 0 1 0]\n",
      " [1 0 0 0 0 0 0 0 1 1 0 0 0 0 0 1 0 0 0 0 0 0 0 1 0 0 0 1 1 0 1 1 0 0 1 1\n",
      "  1 0 0 0 1 1 1 0 0 0 0 0 0 1]\n",
      " [0 1 0 0 1 0 0 1 1 1 0 0 0 0 0 0 0 0 0 1 0 1 1 0 0 0 0 1 1 1 0 0 0 0 1 0\n",
      "  0 0 0 1 1 1 1 1 0 0 0 1 0 0]\n",
      " [1 0 0 0 1 0 0 0 0 0 0 0 0 0 0 0 0 0 1 1 0 0 1 0 0 0 1 1 0 1 0 0 0 0 0 0\n",
      "  0 0 1 1 0 0 1 1 0 0 0 1 1 1]\n",
      " [0 0 0 0 1 0 0 1 1 1 0 0 0 0 0 0 0 0 0 0 0 0 1 0 0 0 0 1 1 0 0 0 0 0 0 0\n",
      "  0 1 1 0 0 0 0 0 0 0 0 1 0 1]\n",
      " [0 0 0 0 1 1 1 1 1 1 0 0 0 0 0 0 0 1 0 0 0 0 0 0 0 0 0 0 1 0 0 0 1 1 1 0\n",
      "  0 0 1 1 0 1 0 0 0 0 0 0 0 1]\n",
      " [1 1 0 1 0 0 0 1 1 0 0 0 0 0 0 0 0 0 1 0 0 0 0 1 0 0 0 0 0 0 0 0 1 1 1 0\n",
      "  0 0 0 1 1 0 1 0 0 0 0 0 0 1]\n",
      " [1 1 0 0 0 1 0 0 0 0 0 0 0 0 0 0 0 0 0 0 0 0 1 1 1 0 0 0 0 0 0 0 0 0 1 0\n",
      "  0 0 0 0 0 0 0 1 0 0 0 0 0 0]\n",
      " [0 0 0 1 1 1 1 0 0 0 0 0 0 0 0 0 0 0 0 0 0 0 1 0 1 0 0 0 0 0 0 0 0 1 1 0\n",
      "  0 0 0 0 0 0 0 1 1 1 0 0 0 0]\n",
      " [0 0 0 0 0 0 1 0 0 0 0 0 0 0 1 0 0 0 0 0 0 0 0 1 1 1 0 0 0 0 0 0 0 1 1 0\n",
      "  0 0 0 0 1 1 1 1 0 0 0 0 0 0]\n",
      " [0 0 0 0 0 0 0 0 0 0 0 0 0 1 0 1 1 0 0 0 0 0 0 0 0 1 1 1 1 0 0 0 0 1 0 0\n",
      "  0 0 0 0 0 0 1 1 0 1 1 0 0 0]\n",
      " [1 1 1 0 0 0 0 0 0 1 1 0 1 0 0 1 0 1 0 1 0 0 0 0 0 1 1 1 0 0 0 0 0 0 0 0\n",
      "  0 0 0 0 0 0 1 1 1 0 0 0 0 0]\n",
      " [0 1 1 0 0 0 0 0 0 1 1 0 0 1 0 0 0 0 0 1 1 0 0 0 0 1 0 0 0 0 1 0 0 0 0 0\n",
      "  0 0 0 0 0 0 0 0 1 0 0 1 0 1]\n",
      " [0 1 0 0 0 0 0 0 0 0 0 0 0 0 1 0 1 0 0 0 0 0 0 0 0 0 1 0 0 0 0 1 0 0 0 0\n",
      "  0 0 0 0 0 0 0 1 0 0 1 0 0 1]\n",
      " [0 1 0 0 0 0 0 0 0 0 0 0 0 0 0 0 0 0 0 1 0 0 0 0 0 1 0 0 0 0 1 1 0 0 0 0\n",
      "  0 0 0 0 0 0 1 1 0 0 1 0 0 0]\n",
      " [0 0 0 0 0 0 0 0 0 0 0 0 0 0 0 0 0 0 0 1 0 0 0 0 0 0 1 0 1 1 1 1 0 0 0 0\n",
      "  0 0 0 0 0 0 0 0 0 1 0 0 0 0]\n",
      " [0 1 0 0 0 0 0 0 0 0 0 0 0 0 0 0 0 0 1 1 0 1 0 0 0 0 1 1 1 0 0 0 0 0 0 0\n",
      "  0 0 0 1 1 0 0 0 1 1 1 0 0 0]\n",
      " [0 1 1 1 0 0 0 0 0 0 0 0 0 0 0 1 0 0 1 1 0 1 1 1 0 0 0 0 0 0 0 0 0 0 0 0\n",
      "  0 0 0 1 1 0 0 0 1 1 0 0 0 0]\n",
      " [0 1 1 1 0 0 0 0 0 0 1 0 0 0 1 0 0 1 0 1 1 0 0 0 1 0 0 0 0 0 0 0 0 0 0 0\n",
      "  0 0 0 0 0 0 0 0 0 1 0 0 0 0]\n",
      " [0 0 0 0 1 0 0 0 0 0 1 0 0 0 1 1 1 0 0 0 0 0 1 1 1 0 0 0 0 1 1 0 0 0 0 0\n",
      "  0 0 0 0 0 0 0 0 1 0 0 1 0 0]]\n"
     ]
    },
    {
     "name": "stderr",
     "output_type": "stream",
     "text": [
      "C:\\Users\\Engr. CY\\AppData\\Local\\Temp\\ipykernel_34252\\3694431743.py:3: DeprecationWarning: Calling np.sum(generator) is deprecated, and in the future will give a different result. Use np.sum(np.fromiter(generator)) or the python sum builtin instead.\n",
      "  neighbors = sum(np.roll(np.roll(board, i, axis=0), j, axis=1)\n"
     ]
    }
   ],
   "source": [
    "def game_of_life(board, steps):\n",
    "    for _ in range(steps):\n",
    "        neighbors = sum(np.roll(np.roll(board, i, axis=0), j, axis=1)\n",
    "                        for i in (-1, 0, 1) for j in (-1, 0, 1) if (i != 0 or j != 0))\n",
    "        board = (neighbors == 3) | (board & (neighbors == 2))\n",
    "    return board\n",
    "\n",
    "# Example usage:\n",
    "initial_board = np.random.choice([0, 1], (50, 50))\n",
    "final_board = game_of_life(initial_board, steps=10)\n",
    "print(final_board)"
   ]
  },
  {
   "cell_type": "markdown",
   "metadata": {},
   "source": [
    "### Q89. How to get the n largest values of an array"
   ]
  },
  {
   "cell_type": "code",
   "execution_count": 90,
   "metadata": {},
   "outputs": [
    {
     "name": "stdout",
     "output_type": "stream",
     "text": [
      "[95 96 97 98 99]\n"
     ]
    }
   ],
   "source": [
    "A = np.arange(100)\n",
    "n_largest_indices = np.argsort(A)[-n:]\n",
    "n_largest_values = A[n_largest_indices]\n",
    "print(n_largest_values)"
   ]
  },
  {
   "cell_type": "markdown",
   "metadata": {},
   "source": [
    "### Q90. Given an arbitrary number of vectors, build the cartesian product\n"
   ]
  },
  {
   "cell_type": "code",
   "execution_count": 141,
   "metadata": {},
   "outputs": [
    {
     "name": "stdout",
     "output_type": "stream",
     "text": [
      "[[1 4 6]\n",
      " [1 4 7]\n",
      " [1 5 6]\n",
      " [1 5 7]\n",
      " [2 4 6]\n",
      " [2 4 7]\n",
      " [2 5 6]\n",
      " [2 5 7]\n",
      " [3 4 6]\n",
      " [3 4 7]\n",
      " [3 5 6]\n",
      " [3 5 7]]\n"
     ]
    }
   ],
   "source": [
    "import itertools\n",
    "\n",
    "def cartesian(arrays):\n",
    "    return np.array(list(itertools.product(*arrays)))\n",
    "\n",
    "result = cartesian(([1, 2, 3], [4, 5], [6, 7]))\n",
    "print(result)"
   ]
  },
  {
   "cell_type": "markdown",
   "metadata": {},
   "source": [
    "### Q91. How to create a record array from a regular array?"
   ]
  },
  {
   "cell_type": "code",
   "execution_count": 142,
   "metadata": {},
   "outputs": [
    {
     "name": "stdout",
     "output_type": "stream",
     "text": [
      "[('apple', 5, 1.2) ('banana', 3, 1.5) ('orange', 7, 2. )]\n"
     ]
    }
   ],
   "source": [
    "\n",
    "data = np.array([('apple', 5, 1.2), ('banana', 3, 1.5), ('orange', 7, 2.0)],\n",
    "              dtype=[('fruit', 'U10'), ('count', int), ('price', float)])\n",
    "\n",
    "Record_array = np.array(data, dtype=[('fruit', 'U10'), ('count', int), ('price', float)])\n",
    "print(Record_array)\n"
   ]
  },
  {
   "cell_type": "markdown",
   "metadata": {},
   "source": [
    "### Q92. Consider a large vector Z, compute Z to the power of 3 using 3 different methods"
   ]
  },
  {
   "cell_type": "code",
   "execution_count": 2,
   "metadata": {},
   "outputs": [
    {
     "name": "stdout",
     "output_type": "stream",
     "text": [
      "Method 1 result: [1.38813167e-03 2.79199986e-01 1.78027167e-04 ... 4.40520199e-01\n",
      " 3.17534183e-01 3.10178818e-02]\n",
      "Method 2 result: [1.38813167e-03 2.79199986e-01 1.78027167e-04 ... 4.40520199e-01\n",
      " 3.17534183e-01 3.10178818e-02]\n",
      "Method 3 result: [1.38813167e-03 2.79199986e-01 1.78027167e-04 ... 4.40520199e-01\n",
      " 3.17534183e-01 3.10178818e-02]\n"
     ]
    }
   ],
   "source": [
    "\n",
    "Z = np.random.random(1000000)\n",
    "\n",
    "# Method 1: Using the ** operator\n",
    "result_1 = Z ** 3\n",
    "\n",
    "# Method 2: Using np.power function\n",
    "result_2 = np.power(Z, 3)\n",
    "\n",
    "# Method 3: Using np.einsum for element-wise cube\n",
    "result_3 = np.einsum('i,i,i->i', Z, Z, Z)\n",
    "\n",
    "print(\"Method 1 result:\", result_1)\n",
    "print(\"Method 2 result:\", result_2)\n",
    "print(\"Method 3 result:\", result_3)\n",
    "\n"
   ]
  },
  {
   "cell_type": "markdown",
   "metadata": {},
   "source": [
    "### Q93. Consider two arrays A and B of shape (8,3) and (2,2). How to find rows of A that contain elements of each row of B regardless of the order of the elements in B?"
   ]
  },
  {
   "cell_type": "code",
   "execution_count": 3,
   "metadata": {},
   "outputs": [
    {
     "name": "stdout",
     "output_type": "stream",
     "text": [
      "[1 3]\n"
     ]
    }
   ],
   "source": [
    "A = np.random.randint(0,10,(8,3))\n",
    "B = np.random.randint(0,10,(2,2))\n",
    "\n",
    "C = (A[..., np.newaxis, np.newaxis] == B)\n",
    "rows = np.where(C.any((3,1)).all(1))[0]\n",
    "print(rows)"
   ]
  },
  {
   "cell_type": "markdown",
   "metadata": {},
   "source": [
    "### Q94. Considering a 10x3 matrix, extract rows with unequal values (e.g. [2,2,3])"
   ]
  },
  {
   "cell_type": "code",
   "execution_count": 4,
   "metadata": {},
   "outputs": [
    {
     "name": "stdout",
     "output_type": "stream",
     "text": [
      "[[8 1 2]\n",
      " [0 8 3]\n",
      " [1 6 4]\n",
      " [7 2 9]\n",
      " [2 1 0]\n",
      " [6 8 9]\n",
      " [1 9 1]\n",
      " [8 6 0]\n",
      " [1 3 7]\n",
      " [6 5 5]]\n"
     ]
    }
   ],
   "source": [
    "A = np.random.randint(0, 10, (10, 3))\n",
    "\n",
    "condition = A[np.any(A[:, 1:] != A[:, :-1], axis=1)]\n",
    "\n",
    "print(condition)"
   ]
  },
  {
   "cell_type": "markdown",
   "metadata": {},
   "source": [
    "### Q95. Convert a vector of ints into a matrix binary representation"
   ]
  },
  {
   "cell_type": "code",
   "execution_count": 7,
   "metadata": {},
   "outputs": [
    {
     "name": "stdout",
     "output_type": "stream",
     "text": [
      "[[0 0 0 0 0 0 0 0]\n",
      " [0 0 0 0 0 0 1 0]\n",
      " [0 0 0 0 0 0 1 1]\n",
      " [0 0 0 0 0 1 0 0]\n",
      " [0 0 0 0 0 1 1 0]\n",
      " [0 0 0 0 1 0 0 0]\n",
      " [0 0 0 0 0 1 1 1]\n",
      " [0 0 0 0 1 0 0 1]\n",
      " [0 0 0 0 1 0 1 0]\n",
      " [0 0 0 1 1 1 1 0]\n",
      " [0 0 0 1 1 0 0 0]\n",
      " [0 1 0 0 0 1 1 0]]\n"
     ]
    }
   ],
   "source": [
    "vector = np.array([0, 2,3,4,6,8,7,9,10,30,24,70])\n",
    "convert = ((vector.reshape(-1,1) & (2**np.arange(8))) != 0).astype(int)\n",
    "print(convert[:,::-1])"
   ]
  },
  {
   "cell_type": "markdown",
   "metadata": {},
   "source": [
    "### Q96. Given a two dimensional array, how to extract unique rows?"
   ]
  },
  {
   "cell_type": "code",
   "execution_count": 9,
   "metadata": {},
   "outputs": [
    {
     "name": "stdout",
     "output_type": "stream",
     "text": [
      "[[1 2 3]\n",
      " [4 5 6]\n",
      " [7 8 9]]\n"
     ]
    }
   ],
   "source": [
    "myarray = np.array([[1, 2, 3],\n",
    "              [4, 5, 6],\n",
    "              [1, 2, 3],\n",
    "              [7, 8, 9],\n",
    "              [4, 5, 6]])\n",
    "\n",
    "unique_rows = np.unique(myarray, axis=0)\n",
    "\n",
    "print(unique_rows)"
   ]
  },
  {
   "cell_type": "markdown",
   "metadata": {},
   "source": [
    "### Q97. Considering 2 vectors A & B, write the einsum equivalent of inner, outer, sum, and mul function"
   ]
  },
  {
   "cell_type": "code",
   "execution_count": 10,
   "metadata": {},
   "outputs": [
    {
     "name": "stdout",
     "output_type": "stream",
     "text": [
      "Result of Inner Product: \n",
      "43.11189064378193\n",
      "Result of Outer Product: \n",
      "[[3.42694804 4.93062188 4.50271737 2.92531103 4.62335969 2.83421485\n",
      "  4.18125867 4.80867792 3.49744323 4.03242976]\n",
      " [1.86604467 2.68482644 2.45182351 1.59289286 2.51751577 1.54328909\n",
      "  2.27678254 2.61842541 1.90443078 2.1957421 ]\n",
      " [3.62310487 5.21284827 4.76045071 3.09275441 4.88799854 2.99644393\n",
      "  4.42059187 5.0839243  3.69763517 4.26324407]\n",
      " [1.94197954 2.79407995 2.55159545 1.65771238 2.61996092 1.60609008\n",
      "  2.36943154 2.72497687 1.98192769 2.28509332]\n",
      " [4.27298385 6.1478807  5.61433626 3.64750404 5.76476244 3.53391828\n",
      "  5.21351669 5.99583154 4.36088272 5.02794529]\n",
      " [4.05723304 5.8374629  5.3308581  3.46333485 5.47368898 3.35548425\n",
      "  4.95027664 5.69309098 4.14069373 4.77407509]\n",
      " [3.53646245 5.08818896 4.64660997 3.01879472 4.77110764 2.92478739\n",
      "  4.31487847 4.96234805 3.60921045 4.16129346]\n",
      " [3.88732324 5.59300019 5.10761111 3.31829646 5.24446049 3.21496245\n",
      "  4.74296774 5.45467431 3.96728874 4.5741452 ]\n",
      " [4.01724404 5.77992755 5.27831596 3.42919945 5.41973907 3.32241184\n",
      "  4.9014856  5.63697859 4.09988212 4.72702073]\n",
      " [6.45226859 9.28339046 8.4777305  5.50778486 8.70487624 5.33626869\n",
      "  7.87248704 9.05379399 6.58499718 7.5922715 ]]\n",
      "Result of Sum: \n",
      "27.72659987409069\n",
      "Result of Multiplication: \n",
      "[3.42694804 2.68482644 4.76045071 1.65771238 5.76476244 3.35548425\n",
      " 4.31487847 5.45467431 4.09988212 7.5922715 ]\n"
     ]
    }
   ],
   "source": [
    "A = np.random.uniform(1,5,10)\n",
    "B = np.random.uniform(1,2,10)\n",
    "\n",
    "# Inner Product\n",
    "I = np.einsum('i,i->', A, B)\n",
    "print( f\"Result of Inner Product: \\n{I}\")\n",
    "\n",
    "# Outer Product\n",
    "O = np.einsum('i,j->ij', A, B)\n",
    "print( f\"Result of Outer Product: \\n{O}\")\n",
    "\n",
    "# Sum\n",
    "S= np.einsum('i->', A) \n",
    "print( f\"Result of Sum: \\n{S}\")\n",
    "\n",
    "# Element-wise Multiplication\n",
    "M = np.einsum('i,i->i', A, B)\n",
    "print( f\"Result of Multiplication: \\n{ M}\")"
   ]
  },
  {
   "cell_type": "markdown",
   "metadata": {},
   "source": [
    "### Q98. Considering a path described by two vectors (X,Y), how to sample it using equidistant samples"
   ]
  },
  {
   "cell_type": "code",
   "execution_count": 12,
   "metadata": {},
   "outputs": [
    {
     "name": "stdout",
     "output_type": "stream",
     "text": [
      "Sampled points:\n",
      "[[0.         0.        ]\n",
      " [0.47387901 0.94775801]\n",
      " [1.13147488 2.13147488]\n",
      " [2.25537763 3.25537763]\n",
      " [3.76408335 3.61795832]\n",
      " [5.44826944 2.10346112]\n",
      " [6.         1.        ]]\n"
     ]
    }
   ],
   "source": [
    "def sample_path(X, Y, num_samples):\n",
    "    # Calculate the total length of the path\n",
    "    distances = np.sqrt(np.diff(X)**2 + np.diff(Y)**2)\n",
    "    total_length = np.sum(distances)\n",
    "    \n",
    "    # Calculate the step size for equidistant sampling\n",
    "    step_size = total_length / (num_samples - 1)\n",
    "    \n",
    "    sampled_points = []\n",
    "    sampled_points.append((X[0], Y[0]))  # Add the starting point\n",
    "    \n",
    "    current_length = 0\n",
    "    for i in range(len(X) - 1):\n",
    "        # Calculate the distance between consecutive points\n",
    "        distance = np.sqrt((X[i + 1] - X[i])**2 + (Y[i + 1] - Y[i])**2)\n",
    "        \n",
    "        # If the next point contributes to surpassing the current length by the step size\n",
    "        while current_length + distance >= step_size:\n",
    "            # Calculate the position of the interpolated point\n",
    "            fraction = (step_size - current_length) / distance\n",
    "            interpolated_x = X[i] + (X[i + 1] - X[i]) * fraction\n",
    "            interpolated_y = Y[i] + (Y[i + 1] - Y[i]) * fraction\n",
    "            sampled_points.append((interpolated_x, interpolated_y))\n",
    "            \n",
    "            # Update the current length and step size\n",
    "            current_length -= step_size\n",
    "            step_size = total_length / (num_samples - len(sampled_points) - 1)\n",
    "        \n",
    "        current_length += distance\n",
    "    \n",
    "    sampled_points.append((X[-1], Y[-1]))  # Add the ending point\n",
    "    \n",
    "    return np.array(sampled_points)\n",
    "\n",
    "# Example usage:\n",
    "X = np.array([0, 1, 3, 5, 6])\n",
    "Y = np.array([0, 2, 4, 3, 1])\n",
    "num_samples = 10\n",
    "\n",
    "sampled_points = sample_path(X, Y, num_samples)\n",
    "print(\"Sampled points:\")\n",
    "print(sampled_points)"
   ]
  },
  {
   "cell_type": "markdown",
   "metadata": {},
   "source": [
    "### Q99. Given an integer n and a 2D array X, select from X the rows which can be interpreted as draws from a multinomial distribution with n degrees, i.e., the rows which only contain integers and which sum to n."
   ]
  },
  {
   "cell_type": "code",
   "execution_count": 100,
   "metadata": {},
   "outputs": [
    {
     "name": "stdout",
     "output_type": "stream",
     "text": [
      "[[2. 0. 1. 1.]]\n"
     ]
    }
   ],
   "source": [
    "def select_multinomial_rows(X, n):\n",
    "    # Check if each element in the array is an integer\n",
    "    is_integer = np.all(X.astype(int) == X, axis=1)\n",
    "\n",
    "    # Check if the sum of each row is equal to 'n'\n",
    "    sum_equals_n = np.sum(X, axis=1) == n\n",
    "\n",
    "    # Combine the conditions to select rows\n",
    "    selected_rows = X[is_integer & sum_equals_n]\n",
    "\n",
    "    return selected_rows\n",
    "\n",
    "n = 10\n",
    "X = np.array([[2, 4, 7], [1, 5, 6], [4, 1, 1], [5, 6, 6], [5, 2, 3]])\n",
    "\n",
    "result = select_multinomial_rows(X, n)\n",
    "print(\"Selected Rows:\")\n",
    "print(result)"
   ]
  },
  {
   "cell_type": "markdown",
   "metadata": {},
   "source": [
    "### Q100. Compute bootstrapped 95% confidence intervals for the mean of a 1D array X (i.e., resample the elements of an array with replacement N times, compute the mean of each sample, and then compute percentiles over the means)."
   ]
  },
  {
   "cell_type": "code",
   "execution_count": 13,
   "metadata": {},
   "outputs": [
    {
     "name": "stdout",
     "output_type": "stream",
     "text": [
      "95% Confidence Interval for the Mean: [-0.12850723  0.2219844 ]\n"
     ]
    }
   ],
   "source": [
    "\n",
    "X = np.random.randn(100)  # Example 1D array\n",
    "N = 1000  # Number of bootstrap samples\n",
    "\n",
    "bootstrapped_means = [np.mean(np.random.choice(X, len(X), replace=True)) for _ in range(N)]\n",
    "confidence_interval = np.percentile(bootstrapped_means, [2.5, 97.5])\n",
    "print(\"95% Confidence Interval for the Mean:\", confidence_interval)"
   ]
  },
  {
   "cell_type": "code",
   "execution_count": null,
   "metadata": {},
   "outputs": [],
   "source": []
  }
 ],
 "metadata": {
  "kernelspec": {
   "display_name": "datascience",
   "language": "python",
   "name": "python3"
  },
  "language_info": {
   "codemirror_mode": {
    "name": "ipython",
    "version": 3
   },
   "file_extension": ".py",
   "mimetype": "text/x-python",
   "name": "python",
   "nbconvert_exporter": "python",
   "pygments_lexer": "ipython3",
   "version": "3.12.2"
  }
 },
 "nbformat": 4,
 "nbformat_minor": 2
}
